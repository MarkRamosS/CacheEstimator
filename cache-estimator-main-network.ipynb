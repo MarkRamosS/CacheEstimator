{
 "cells": [
  {
   "cell_type": "code",
   "execution_count": 1,
   "id": "4bc5cd8d",
   "metadata": {
    "execution": {
     "iopub.execute_input": "2023-09-22T07:05:25.081135Z",
     "iopub.status.busy": "2023-09-22T07:05:25.080361Z",
     "iopub.status.idle": "2023-09-22T07:05:39.304061Z",
     "shell.execute_reply": "2023-09-22T07:05:39.302908Z"
    },
    "papermill": {
     "duration": 14.240764,
     "end_time": "2023-09-22T07:05:39.306861",
     "exception": false,
     "start_time": "2023-09-22T07:05:25.066097",
     "status": "completed"
    },
    "tags": []
   },
   "outputs": [
    {
     "name": "stderr",
     "output_type": "stream",
     "text": [
      "/opt/conda/lib/python3.10/site-packages/scipy/__init__.py:146: UserWarning: A NumPy version >=1.16.5 and <1.23.0 is required for this version of SciPy (detected version 1.23.5\n",
      "  warnings.warn(f\"A NumPy version >={np_minversion} and <{np_maxversion}\"\n",
      "/opt/conda/lib/python3.10/site-packages/tensorflow_io/python/ops/__init__.py:98: UserWarning: unable to load libtensorflow_io_plugins.so: unable to open file: libtensorflow_io_plugins.so, from paths: ['/opt/conda/lib/python3.10/site-packages/tensorflow_io/python/ops/libtensorflow_io_plugins.so']\n",
      "caused by: ['/opt/conda/lib/python3.10/site-packages/tensorflow_io/python/ops/libtensorflow_io_plugins.so: undefined symbol: _ZN3tsl6StatusC1EN10tensorflow5error4CodeESt17basic_string_viewIcSt11char_traitsIcEENS_14SourceLocationE']\n",
      "  warnings.warn(f\"unable to load libtensorflow_io_plugins.so: {e}\")\n",
      "/opt/conda/lib/python3.10/site-packages/tensorflow_io/python/ops/__init__.py:104: UserWarning: file system plugins are not loaded: unable to open file: libtensorflow_io.so, from paths: ['/opt/conda/lib/python3.10/site-packages/tensorflow_io/python/ops/libtensorflow_io.so']\n",
      "caused by: ['/opt/conda/lib/python3.10/site-packages/tensorflow_io/python/ops/libtensorflow_io.so: undefined symbol: _ZTVN10tensorflow13GcsFileSystemE']\n",
      "  warnings.warn(f\"file system plugins are not loaded: {e}\")\n"
     ]
    }
   ],
   "source": [
    "import os\n",
    "import csv\n",
    "import random\n",
    "import pandas as pd\n",
    "import numpy as np\n",
    "import matplotlib.pyplot as plt\n",
    "import tensorflow as tf\n",
    "import torch\n",
    "from sklearn.metrics import mean_squared_error\n",
    "from sklearn.preprocessing import StandardScaler\n",
    "from keras.models import Sequential, Model\n",
    "from keras.layers import Input, Dense, LSTM, Attention, Conv1D, Conv2D\n",
    "from keras.metrics import MeanSquaredError\n",
    "from keras.losses import MeanSquaredError"
   ]
  },
  {
   "cell_type": "code",
   "execution_count": 2,
   "id": "e36fc34f",
   "metadata": {
    "execution": {
     "iopub.execute_input": "2023-09-22T07:05:39.334274Z",
     "iopub.status.busy": "2023-09-22T07:05:39.332963Z",
     "iopub.status.idle": "2023-09-22T07:05:39.338016Z",
     "shell.execute_reply": "2023-09-22T07:05:39.336990Z"
    },
    "papermill": {
     "duration": 0.020174,
     "end_time": "2023-09-22T07:05:39.340000",
     "exception": false,
     "start_time": "2023-09-22T07:05:39.319826",
     "status": "completed"
    },
    "tags": []
   },
   "outputs": [],
   "source": [
    "model_name = \"lru\""
   ]
  },
  {
   "cell_type": "code",
   "execution_count": 3,
   "id": "76d4fedc",
   "metadata": {
    "execution": {
     "iopub.execute_input": "2023-09-22T07:05:39.366052Z",
     "iopub.status.busy": "2023-09-22T07:05:39.365264Z",
     "iopub.status.idle": "2023-09-22T07:05:40.396110Z",
     "shell.execute_reply": "2023-09-22T07:05:40.394078Z"
    },
    "papermill": {
     "duration": 1.046151,
     "end_time": "2023-09-22T07:05:40.398344",
     "exception": false,
     "start_time": "2023-09-22T07:05:39.352193",
     "status": "completed"
    },
    "tags": []
   },
   "outputs": [
    {
     "name": "stdout",
     "output_type": "stream",
     "text": [
      "(6163, 900) (6163, 4)\n"
     ]
    }
   ],
   "source": [
    "def read_df(path, embeddings_path=None):\n",
    "    # Read csv\n",
    "    df = pd.read_csv(path)\n",
    "    \n",
    "    # Append filename and source_file column column\n",
    "    filenames = []\n",
    "    for i in df[\"id\"]:\n",
    "        nmb = i.split('_')[-1]\n",
    "        filenames.append(i[:-len(nmb)-1])\n",
    "    df[\"file_name\"] = filenames\n",
    "    filenames = list(set(filenames))\n",
    "    df['source_file'] = df[\"file_name\"].apply(lambda x: int(x[:3]))\n",
    "    # Append embeddings\n",
    "    if embeddings_path != None:\n",
    "        embedding_df = pd.read_csv(embeddings_path)\n",
    "        embedding_df['source_file'] = embedding_df['fname']\n",
    "        embedding_df['embeddings'] = embedding_df['embeddings'].apply(lambda x: np.array([*map(float, x.strip('][').replace(\"'\",\"\").split(','))]))\n",
    "        df = pd.merge(df, embedding_df).drop(columns=[\"fname\"])\n",
    "    # Calculate miss ratios into a seperate dataframe\n",
    "    miss_ratios = pd.DataFrame()\n",
    "    for i in [\"1024\",\"2048\",\"4096\",\"8192\"]:\n",
    "        miss_ratios[i] = df['misses_'+i] / df['accesses_'+i]\n",
    "        df = df.drop(columns=['misses_'+i, 'accesses_'+i])\n",
    "        if 'l1d_accesses_'+i in df.columns:\n",
    "            df = df.drop(columns=['l1d_accesses_'+i])\n",
    "    return df, miss_ratios\n",
    "rds, mrs = read_df('/kaggle/input/cache-estimator-data/output_512/dataset_lru.csv', '/kaggle/input/cache-estimator-data/embeddings/flow-aware-f.csv')\n",
    "print(rds.shape, mrs.shape)"
   ]
  },
  {
   "cell_type": "code",
   "execution_count": 4,
   "id": "28f6ab86",
   "metadata": {
    "execution": {
     "iopub.execute_input": "2023-09-22T07:05:40.424660Z",
     "iopub.status.busy": "2023-09-22T07:05:40.424365Z",
     "iopub.status.idle": "2023-09-22T07:05:40.450314Z",
     "shell.execute_reply": "2023-09-22T07:05:40.449298Z"
    },
    "papermill": {
     "duration": 0.0416,
     "end_time": "2023-09-22T07:05:40.452907",
     "exception": false,
     "start_time": "2023-09-22T07:05:40.411307",
     "status": "completed"
    },
    "tags": []
   },
   "outputs": [
    {
     "data": {
      "text/plain": [
       "<bound method NDFrame.head of                          id         0         1         2        3        4  \\\n",
       "0       400.perlbench-41B_0  50816880  17323312  11868112  7701840  3853504   \n",
       "1     400.perlbench-41B_436  17361520   6023600   4203744  2591488  1828656   \n",
       "2       400.perlbench-50B_0  58283520  17249296  14592592  9466576  7204896   \n",
       "3          401.bzip2-226B_0   3098304   3037808   2698720  2692176  1999568   \n",
       "4         401.bzip2-226B_54   1623056   1618144   1501200  1353728  1014736   \n",
       "...                     ...       ...       ...       ...      ...      ...   \n",
       "6158     657.xz_s-3167B_466   4869744   5968224   3301024  2821488  2218352   \n",
       "6159     657.xz_s-3167B_574   4967104   7056944   3530208  2928336  2367040   \n",
       "6160       657.xz_s-4994B_0  18063488  19199008   9437200  7269680  7833904   \n",
       "6161     657.xz_s-4994B_343  13498912  14343616   6633152  5098416  6450640   \n",
       "6162         657.xz_s-56B_0  26404208  36893024  10084752  2060848  2511312   \n",
       "\n",
       "            5        6        7        8  ...  3825205248  3892314112  \\\n",
       "0     5287776  7547888  4450480  4572784  ...           0           0   \n",
       "1     1847648  2429008  1860832  1582208  ...           0           0   \n",
       "2     5614336  8940048  4846496  5377296  ...           0           0   \n",
       "3     1238496   939408   815232   694672  ...           0           0   \n",
       "4      670656   500784   432384   374944  ...           0           0   \n",
       "...       ...      ...      ...      ...  ...         ...         ...   \n",
       "6158  1938048  1205216  1027344   888272  ...           0           0   \n",
       "6159  2018816  1157072   981616   821872  ...           0           0   \n",
       "6160  3198400  3376912  1776144  1934080  ...           0           0   \n",
       "6161  2275728  2397248  1270496  1381904  ...           0           0   \n",
       "6162  1297024   890224   772176   558336  ...           0           0   \n",
       "\n",
       "      3959422976  4026531840  4093640704  4160749568  4227858432  \\\n",
       "0              0           0           0           0           0   \n",
       "1              0           0           0           0           0   \n",
       "2              0           0           0           0           0   \n",
       "3              0           0           0           0           0   \n",
       "4              0           0           0           0           0   \n",
       "...          ...         ...         ...         ...         ...   \n",
       "6158           0           0           0           0           0   \n",
       "6159           0           0           0           0           0   \n",
       "6160           0           0           0           0           0   \n",
       "6161           0           0           0           0           0   \n",
       "6162           0           0           0           0           0   \n",
       "\n",
       "              file_name  source_file  \\\n",
       "0     400.perlbench-41B          400   \n",
       "1     400.perlbench-41B          400   \n",
       "2     400.perlbench-50B          400   \n",
       "3        401.bzip2-226B          401   \n",
       "4        401.bzip2-226B          401   \n",
       "...                 ...          ...   \n",
       "6158     657.xz_s-3167B          657   \n",
       "6159     657.xz_s-3167B          657   \n",
       "6160     657.xz_s-4994B          657   \n",
       "6161     657.xz_s-4994B          657   \n",
       "6162       657.xz_s-56B          657   \n",
       "\n",
       "                                             embeddings  \n",
       "0     [-11.067213, 7.318718, 84.079863, 54.580061, -...  \n",
       "1     [-11.067213, 7.318718, 84.079863, 54.580061, -...  \n",
       "2     [-11.067213, 7.318718, 84.079863, 54.580061, -...  \n",
       "3     [-0.585071, 9.35283, 41.856682, 22.22657, -20....  \n",
       "4     [-0.585071, 9.35283, 41.856682, 22.22657, -20....  \n",
       "...                                                 ...  \n",
       "6158  [-1.143718, 15.872542, 102.671806, 51.022815, ...  \n",
       "6159  [-1.143718, 15.872542, 102.671806, 51.022815, ...  \n",
       "6160  [-1.143718, 15.872542, 102.671806, 51.022815, ...  \n",
       "6161  [-1.143718, 15.872542, 102.671806, 51.022815, ...  \n",
       "6162  [-1.143718, 15.872542, 102.671806, 51.022815, ...  \n",
       "\n",
       "[6163 rows x 900 columns]>"
      ]
     },
     "execution_count": 4,
     "metadata": {},
     "output_type": "execute_result"
    }
   ],
   "source": [
    "rds.head"
   ]
  },
  {
   "cell_type": "markdown",
   "id": "a50e259c",
   "metadata": {
    "papermill": {
     "duration": 0.011937,
     "end_time": "2023-09-22T07:05:40.477042",
     "exception": false,
     "start_time": "2023-09-22T07:05:40.465105",
     "status": "completed"
    },
    "tags": []
   },
   "source": [
    "There's a chance that reuse distance histograms within files are similar to each other. This may be due to them being sampled from the same files and therefore generated from the same code, so the histograms will be similar. To avoid this interfering with our process, we'll be moving all the lines that are derived from randomly picked files until they add up to 20% of the dataset. "
   ]
  },
  {
   "cell_type": "code",
   "execution_count": 5,
   "id": "6d0e1052",
   "metadata": {
    "execution": {
     "iopub.execute_input": "2023-09-22T07:05:40.503313Z",
     "iopub.status.busy": "2023-09-22T07:05:40.503018Z",
     "iopub.status.idle": "2023-09-22T07:05:40.599374Z",
     "shell.execute_reply": "2023-09-22T07:05:40.598429Z"
    },
    "papermill": {
     "duration": 0.112266,
     "end_time": "2023-09-22T07:05:40.601501",
     "exception": false,
     "start_time": "2023-09-22T07:05:40.489235",
     "status": "completed"
    },
    "tags": []
   },
   "outputs": [
    {
     "name": "stdout",
     "output_type": "stream",
     "text": [
      "The test set consists of 60 files (out of 189) with a total of 1943 rows (out of 6163)\n",
      "(4220, 897)\n"
     ]
    }
   ],
   "source": [
    "# 18 embeddings\n",
    "files = ['482.sphinx3-1297B', '482.sphinx3-1522B', '482.sphinx3-1100B', '482.sphinx3-1395B', '482.sphinx3-234B', '482.sphinx3-417B', '600.perlbench_s-570B', '600.perlbench_s-1273B', '600.perlbench_s-210B', '470.lbm-1274B', '621.wrf_s-6673B', '621.wrf_s-8065B', '621.wrf_s-575B', '621.wrf_s-8100B', '400.perlbench-50B', '400.perlbench-41B', '403.gcc-48B', '403.gcc-16B', '403.gcc-17B', '436.cactusADM-1804B', '464.h264ref-57B', '464.h264ref-64B', '464.h264ref-30B', '464.h264ref-97B', '459.GemsFDTD-765B', '459.GemsFDTD-1418B', '459.GemsFDTD-1211B', '459.GemsFDTD-1320B', '459.GemsFDTD-1169B', '459.GemsFDTD-1491B', '435.gromacs-111B', '435.gromacs-134B', '435.gromacs-228B', '435.gromacs-226B', '625.x264_s-18B', '625.x264_s-33B', '625.x264_s-39B', '625.x264_s-12B', '625.x264_s-20B', '458.sjeng-767B', '458.sjeng-1088B', '458.sjeng-283B', '458.sjeng-31B', '473.astar-153B', '473.astar-42B', '473.astar-359B', '453.povray-576B', '453.povray-887B', '453.povray-252B', '453.povray-800B', '627.cam4_s-490B', '627.cam4_s-573B', '450.soplex-92B', '450.soplex-247B', '434.zeusmp-10B', '429.mcf-51B', '429.mcf-217B', '429.mcf-192B', '429.mcf-22B', '429.mcf-184B']\n",
    "# files = []\n",
    "def train_test_split(df, miss_ratios, split=0.3):\n",
    "    filenames = list(set(df[\"source_file\"]))\n",
    "    collected_rows = 0\n",
    "    source_file_ctr = 0\n",
    "    global files\n",
    "    if len(files) == 0:\n",
    "        # Fill 2/3 of the test-set will with completely new to the model embeddings\n",
    "        while len(df) * split * 2 / 3 > collected_rows:\n",
    "            rf = filenames[random.randint(0,len(filenames)-1)]\n",
    "            tmp = True\n",
    "#             cs = ['file_name', 'source_file']\n",
    "#             print(rf, df[df[\"source_file\"] == rf][cs])\n",
    "            for fnm in set(df[df[\"source_file\"] == rf]['file_name']):\n",
    "#                 print(fnm, fnm in files)\n",
    "                if fnm in files:\n",
    "                    tmp = False\n",
    "                    break\n",
    "                files.append(fnm)\n",
    "                collected_rows += len(df[df[\"file_name\"] == fnm])\n",
    "            source_file_ctr += tmp\n",
    "#             if tmp:\n",
    "#                 print(rf)\n",
    "#                 print(files)\n",
    "\n",
    "        first_files = len(files)\n",
    "        filenames = list(set(df[\"file_name\"]))\n",
    "        print(f\"{source_file_ctr} embeddings (out of a 47) have been moved from the train set with their respective {first_files} files.\")\n",
    "        print(f\"and their {collected_rows} rows\")\n",
    "        # The rest will just new files. \n",
    "        while len(df) * split > collected_rows:\n",
    "            rf = filenames[random.randint(0,len(filenames)-1)]\n",
    "            if rf in files: # No duplicates\n",
    "                continue\n",
    "            files.append(rf)\n",
    "            collected_rows += len(df[df[\"file_name\"] == rf])\n",
    "        print(files)\n",
    "    train_rds = df[~df[\"file_name\"].isin(files)]\n",
    "    train_mrs = miss_ratios[~df[\"file_name\"].isin(files)]\n",
    "    test_rds = df[df[\"file_name\"].isin(files)]\n",
    "    test_mrs = miss_ratios[df[\"file_name\"].isin(files)]\n",
    "    print(f\"The test set consists of {len(files)} files (out of 189) with a total of {len(test_rds)} rows (out of {len(df)})\")\n",
    "    test_rds[[\"id\", \"file_name\", \"source_file\"]].to_csv(f'/kaggle/working/id_col_{model_name}.csv')\n",
    "    train_rds = train_rds.drop(columns=[\"id\", \"file_name\", \"source_file\"])\n",
    "    test_rds = test_rds.drop(columns=[\"id\", \"file_name\", \"source_file\"])\n",
    "    return train_rds, train_mrs, test_rds, test_mrs\n",
    "train_rds, train_mrs, test_rds, test_mrs  = train_test_split(rds, mrs)\n",
    "print(train_rds.shape)"
   ]
  },
  {
   "cell_type": "code",
   "execution_count": 6,
   "id": "0b09e74b",
   "metadata": {
    "execution": {
     "iopub.execute_input": "2023-09-22T07:05:40.628188Z",
     "iopub.status.busy": "2023-09-22T07:05:40.627882Z",
     "iopub.status.idle": "2023-09-22T07:05:41.478556Z",
     "shell.execute_reply": "2023-09-22T07:05:41.476528Z"
    },
    "papermill": {
     "duration": 0.866251,
     "end_time": "2023-09-22T07:05:41.480756",
     "exception": false,
     "start_time": "2023-09-22T07:05:40.614505",
     "status": "completed"
    },
    "tags": []
   },
   "outputs": [
    {
     "name": "stdout",
     "output_type": "stream",
     "text": [
      "The test set consists of 60 files (out of 189) with a total of 1943 rows (out of 6163)\n"
     ]
    }
   ],
   "source": [
    "path = '/kaggle/input/cache-estimator-data/output_512/dataset_lru.csv'               # Path to the dataset\n",
    "embeddings_path = '/kaggle/input/cache-estimator-data/embeddings/flow-aware-f.csv'   # Path to the embeddings\n",
    "rds, mrs = read_df(path, embeddings_path)\n",
    "train_rds, train_mrs, test_rds, test_mrs = train_test_split(rds, mrs, split=0.25)\n",
    "\n",
    "if 'embeddings' in train_rds.columns:\n",
    "    x = []\n",
    "    for i in train_rds['embeddings']:\n",
    "        x.append(i)\n",
    "    train_embeddings = np.array(x)\n",
    "    train_rds = train_rds.drop(columns=[\"embeddings\"])\n",
    "    \n",
    "    x = []\n",
    "    for i in test_rds['embeddings']:\n",
    "        x.append(i)\n",
    "    test_embeddings = np.array(x)\n",
    "    test_rds = test_rds.drop(columns=[\"embeddings\"])\n",
    "    \n",
    "    embedding_scaler = StandardScaler()\n",
    "    embedding_scaler = embedding_scaler.fit(train_embeddings)\n",
    "    # train_embeddings = embedding_scaler.transform(train_embeddings)\n",
    "    # test_embeddings  = embedding_scaler.transform(test_embeddings)\n",
    "scaler = StandardScaler()\n",
    "scaler = scaler.fit(train_rds)\n",
    "# train_rds = scaler.transform(train_rds)\n",
    "# test_rds = scaler.transform(test_rds)\n"
   ]
  },
  {
   "cell_type": "code",
   "execution_count": 7,
   "id": "cffb4a92",
   "metadata": {
    "execution": {
     "iopub.execute_input": "2023-09-22T07:05:41.508638Z",
     "iopub.status.busy": "2023-09-22T07:05:41.506962Z",
     "iopub.status.idle": "2023-09-22T07:05:41.514236Z",
     "shell.execute_reply": "2023-09-22T07:05:41.513315Z"
    },
    "papermill": {
     "duration": 0.022933,
     "end_time": "2023-09-22T07:05:41.516395",
     "exception": false,
     "start_time": "2023-09-22T07:05:41.493462",
     "status": "completed"
    },
    "tags": []
   },
   "outputs": [
    {
     "data": {
      "text/plain": [
       "((4220, 300), (1943, 300), 6163)"
      ]
     },
     "execution_count": 7,
     "metadata": {},
     "output_type": "execute_result"
    }
   ],
   "source": [
    "train_embeddings.shape, test_embeddings.shape, train_embeddings.shape[0] + test_embeddings.shape[0]"
   ]
  },
  {
   "cell_type": "markdown",
   "id": "a02e7c77",
   "metadata": {
    "papermill": {
     "duration": 0.012077,
     "end_time": "2023-09-22T07:05:41.541506",
     "exception": false,
     "start_time": "2023-09-22T07:05:41.529429",
     "status": "completed"
    },
    "tags": []
   },
   "source": [
    "# Dense NN"
   ]
  },
  {
   "cell_type": "code",
   "execution_count": 8,
   "id": "707c183f",
   "metadata": {
    "execution": {
     "iopub.execute_input": "2023-09-22T07:05:41.567533Z",
     "iopub.status.busy": "2023-09-22T07:05:41.567262Z",
     "iopub.status.idle": "2023-09-22T07:05:41.588491Z",
     "shell.execute_reply": "2023-09-22T07:05:41.587507Z"
    },
    "papermill": {
     "duration": 0.036663,
     "end_time": "2023-09-22T07:05:41.590629",
     "exception": false,
     "start_time": "2023-09-22T07:05:41.553966",
     "status": "completed"
    },
    "tags": []
   },
   "outputs": [],
   "source": [
    "output_columns = ['1024','2048','4096','8192']\n",
    "\n",
    "#train_rds = train_rds.to_numpy()\n",
    "train_y = train_mrs[output_columns].to_numpy()\n",
    "#test_rds = test_rds.to_numpy()\n",
    "test_y = test_mrs[output_columns].to_numpy()\n",
    "x = torch.from_numpy(test_y)\n",
    "torch.save(x, f'/kaggle/working/{model_name}_test_y.pt')"
   ]
  },
  {
   "cell_type": "code",
   "execution_count": 9,
   "id": "14cffce7",
   "metadata": {
    "execution": {
     "iopub.execute_input": "2023-09-22T07:05:41.616555Z",
     "iopub.status.busy": "2023-09-22T07:05:41.616286Z",
     "iopub.status.idle": "2023-09-22T07:05:41.666978Z",
     "shell.execute_reply": "2023-09-22T07:05:41.665557Z"
    },
    "papermill": {
     "duration": 0.066352,
     "end_time": "2023-09-22T07:05:41.669268",
     "exception": false,
     "start_time": "2023-09-22T07:05:41.602916",
     "status": "completed"
    },
    "tags": []
   },
   "outputs": [
    {
     "name": "stdout",
     "output_type": "stream",
     "text": [
      "(4220, 896) (4220, 4) (4220, 300)\n",
      "(4220, 896) (1943, 896)\n"
     ]
    }
   ],
   "source": [
    "print(train_rds.shape, train_mrs.shape, train_embeddings.shape)\n",
    "train_X = scaler.transform(train_rds)\n",
    "test_X = scaler.transform(test_rds)\n",
    "# train_X = np.append(scaler.transform(train_rds), train_embeddings, axis=1)\n",
    "# test_X = np.append(scaler.transform(test_rds), test_embeddings, axis=1)\n",
    "print(train_X.shape, test_X.shape)"
   ]
  },
  {
   "cell_type": "code",
   "execution_count": 10,
   "id": "85dfdc21",
   "metadata": {
    "execution": {
     "iopub.execute_input": "2023-09-22T07:05:41.696184Z",
     "iopub.status.busy": "2023-09-22T07:05:41.695922Z",
     "iopub.status.idle": "2023-09-22T07:05:50.535451Z",
     "shell.execute_reply": "2023-09-22T07:05:50.534486Z"
    },
    "papermill": {
     "duration": 8.858155,
     "end_time": "2023-09-22T07:05:50.540668",
     "exception": false,
     "start_time": "2023-09-22T07:05:41.682513",
     "status": "completed"
    },
    "tags": []
   },
   "outputs": [
    {
     "name": "stdout",
     "output_type": "stream",
     "text": [
      "Model: \"sequential\"\n",
      "_________________________________________________________________\n",
      " Layer (type)                Output Shape              Param #   \n",
      "=================================================================\n",
      " dense (Dense)               (None, 512)               459264    \n",
      "                                                                 \n",
      " dense_1 (Dense)             (None, 4)                 2052      \n",
      "                                                                 \n",
      "=================================================================\n",
      "Total params: 461,316\n",
      "Trainable params: 461,316\n",
      "Non-trainable params: 0\n",
      "_________________________________________________________________\n"
     ]
    }
   ],
   "source": [
    "model = Sequential()\n",
    "model.add(Dense(512, input_dim=train_X.shape[-1], activation='relu'))\n",
    "model.add(Dense(len(output_columns), activation='sigmoid'))\n",
    "model.compile(optimizer=\"adam\", loss=\"mse\")\n",
    "model.summary()"
   ]
  },
  {
   "cell_type": "code",
   "execution_count": 11,
   "id": "2e321a24",
   "metadata": {
    "_kg_hide-input": false,
    "_kg_hide-output": false,
    "execution": {
     "iopub.execute_input": "2023-09-22T07:05:50.569644Z",
     "iopub.status.busy": "2023-09-22T07:05:50.569345Z",
     "iopub.status.idle": "2023-09-22T07:07:02.357112Z",
     "shell.execute_reply": "2023-09-22T07:07:02.356144Z"
    },
    "papermill": {
     "duration": 71.804728,
     "end_time": "2023-09-22T07:07:02.359675",
     "exception": false,
     "start_time": "2023-09-22T07:05:50.554947",
     "status": "completed"
    },
    "tags": []
   },
   "outputs": [
    {
     "name": "stdout",
     "output_type": "stream",
     "text": [
      "264/264 [==============================] - 6s 4ms/step - loss: 0.0334 - val_loss: 0.0809\n",
      "264/264 [==============================] - 1s 4ms/step - loss: 0.0185 - val_loss: 0.0907\n",
      "264/264 [==============================] - 1s 4ms/step - loss: 0.0179 - val_loss: 0.0665\n",
      "264/264 [==============================] - 1s 4ms/step - loss: 0.0127 - val_loss: 0.0743\n",
      "264/264 [==============================] - 1s 4ms/step - loss: 0.0112 - val_loss: 0.0742\n",
      "264/264 [==============================] - 1s 4ms/step - loss: 0.0113 - val_loss: 0.0673\n",
      "264/264 [==============================] - 1s 4ms/step - loss: 0.0095 - val_loss: 0.0642\n",
      "264/264 [==============================] - 1s 4ms/step - loss: 0.0092 - val_loss: 0.0584\n",
      "264/264 [==============================] - 1s 4ms/step - loss: 0.0083 - val_loss: 0.0609\n",
      "264/264 [==============================] - 1s 4ms/step - loss: 0.0078 - val_loss: 0.0613\n",
      "264/264 [==============================] - 1s 4ms/step - loss: 0.0069 - val_loss: 0.0568\n",
      "264/264 [==============================] - 1s 4ms/step - loss: 0.0071 - val_loss: 0.0637\n",
      "264/264 [==============================] - 1s 4ms/step - loss: 0.0069 - val_loss: 0.0581\n",
      "264/264 [==============================] - 1s 4ms/step - loss: 0.0065 - val_loss: 0.0699\n",
      "264/264 [==============================] - 1s 4ms/step - loss: 0.0063 - val_loss: 0.0613\n",
      "264/264 [==============================] - 1s 5ms/step - loss: 0.0058 - val_loss: 0.0579\n",
      "264/264 [==============================] - 1s 4ms/step - loss: 0.0047 - val_loss: 0.0574\n",
      "264/264 [==============================] - 1s 5ms/step - loss: 0.0049 - val_loss: 0.0571\n",
      "264/264 [==============================] - 1s 4ms/step - loss: 0.0042 - val_loss: 0.0552\n",
      "264/264 [==============================] - 1s 4ms/step - loss: 0.0042 - val_loss: 0.0522\n",
      "264/264 [==============================] - 1s 4ms/step - loss: 0.0043 - val_loss: 0.0584\n",
      "264/264 [==============================] - 1s 4ms/step - loss: 0.0039 - val_loss: 0.0558\n",
      "264/264 [==============================] - 1s 4ms/step - loss: 0.0038 - val_loss: 0.0516\n",
      "264/264 [==============================] - 1s 4ms/step - loss: 0.0044 - val_loss: 0.0594\n",
      "264/264 [==============================] - 1s 4ms/step - loss: 0.0040 - val_loss: 0.0574\n",
      "264/264 [==============================] - 1s 4ms/step - loss: 0.0037 - val_loss: 0.0558\n",
      "264/264 [==============================] - 1s 4ms/step - loss: 0.0031 - val_loss: 0.0540\n",
      "264/264 [==============================] - 1s 4ms/step - loss: 0.0023 - val_loss: 0.0512\n",
      "264/264 [==============================] - 1s 4ms/step - loss: 0.0019 - val_loss: 0.0521\n",
      "264/264 [==============================] - 1s 4ms/step - loss: 0.0017 - val_loss: 0.0531\n",
      "264/264 [==============================] - 1s 4ms/step - loss: 0.0020 - val_loss: 0.0514\n",
      "264/264 [==============================] - 1s 4ms/step - loss: 0.0026 - val_loss: 0.0542\n",
      "264/264 [==============================] - 1s 4ms/step - loss: 0.0023 - val_loss: 0.0536\n",
      "264/264 [==============================] - 1s 5ms/step - loss: 0.0020 - val_loss: 0.0497\n",
      "264/264 [==============================] - 1s 4ms/step - loss: 0.0017 - val_loss: 0.0515\n",
      "264/264 [==============================] - 1s 4ms/step - loss: 0.0018 - val_loss: 0.0513\n",
      "264/264 [==============================] - 1s 4ms/step - loss: 0.0017 - val_loss: 0.0522\n",
      "264/264 [==============================] - 1s 4ms/step - loss: 0.0019 - val_loss: 0.0533\n",
      "264/264 [==============================] - 1s 4ms/step - loss: 0.0016 - val_loss: 0.0488\n",
      "264/264 [==============================] - 1s 5ms/step - loss: 0.0017 - val_loss: 0.0526\n",
      "264/264 [==============================] - 1s 4ms/step - loss: 0.0016 - val_loss: 0.0536\n",
      "264/264 [==============================] - 1s 5ms/step - loss: 0.0016 - val_loss: 0.0532\n",
      "264/264 [==============================] - 1s 4ms/step - loss: 0.0016 - val_loss: 0.0500\n",
      "264/264 [==============================] - 1s 5ms/step - loss: 0.0016 - val_loss: 0.0499\n",
      "264/264 [==============================] - 1s 4ms/step - loss: 0.0016 - val_loss: 0.0483\n",
      "264/264 [==============================] - 1s 4ms/step - loss: 0.0016 - val_loss: 0.0527\n",
      "264/264 [==============================] - 1s 4ms/step - loss: 0.0016 - val_loss: 0.0529\n",
      "264/264 [==============================] - 1s 4ms/step - loss: 0.0014 - val_loss: 0.0519\n",
      "264/264 [==============================] - 1s 4ms/step - loss: 0.0014 - val_loss: 0.0527\n",
      "264/264 [==============================] - 1s 4ms/step - loss: 0.0016 - val_loss: 0.0503\n"
     ]
    }
   ],
   "source": [
    "l = []\n",
    "for i in range(50):\n",
    "    history = model.fit(train_X, train_y, epochs=1, batch_size=16, validation_data=(test_X, test_y), verbose=1)\n",
    "    y_pred = model(test_X)\n",
    "    l.append(y_pred)\n",
    "#     for i,j in enumerate(output_columns):\n",
    "#         print('Test set MSE '+j+':',mean_squared_error(y_pred[:,i], test_y[:,i]))"
   ]
  },
  {
   "cell_type": "code",
   "execution_count": 12,
   "id": "1b904ab0",
   "metadata": {
    "execution": {
     "iopub.execute_input": "2023-09-22T07:07:02.520545Z",
     "iopub.status.busy": "2023-09-22T07:07:02.519522Z",
     "iopub.status.idle": "2023-09-22T07:07:02.559318Z",
     "shell.execute_reply": "2023-09-22T07:07:02.558303Z"
    },
    "papermill": {
     "duration": 0.121168,
     "end_time": "2023-09-22T07:07:02.561699",
     "exception": false,
     "start_time": "2023-09-22T07:07:02.440531",
     "status": "completed"
    },
    "tags": []
   },
   "outputs": [],
   "source": [
    "x = min(l, key=lambda x:mean_squared_error(x, test_y))\n",
    "torch.save(x, f'/kaggle/working/{model_name}_dense.pt')"
   ]
  },
  {
   "cell_type": "code",
   "execution_count": 13,
   "id": "e62cbe40",
   "metadata": {
    "execution": {
     "iopub.execute_input": "2023-09-22T07:07:02.729545Z",
     "iopub.status.busy": "2023-09-22T07:07:02.729199Z",
     "iopub.status.idle": "2023-09-22T07:07:02.751839Z",
     "shell.execute_reply": "2023-09-22T07:07:02.750507Z"
    },
    "papermill": {
     "duration": 0.103232,
     "end_time": "2023-09-22T07:07:02.754038",
     "exception": false,
     "start_time": "2023-09-22T07:07:02.650806",
     "status": "completed"
    },
    "tags": []
   },
   "outputs": [
    {
     "name": "stdout",
     "output_type": "stream",
     "text": [
      "0.017088801518760778\n",
      "0.03765518886011031\n",
      "0.07073043346278313\n",
      "0.0758005319396419\n"
     ]
    }
   ],
   "source": [
    "#test_rds = train_rds.reshape(test_rds.shape[0],1,896)\n",
    "y_pred = model(test_X)\n",
    "# print(test_X.shape)\n",
    "# print(y_pred.shape)\n",
    "for i,j in enumerate(output_columns):\n",
    "    print(mean_squared_error(y_pred.numpy()[:,i], test_y[:,i]))\n",
    "#print(mean_squared_error(y_pred.numpy()[:,1], test_mrs[:,1]))"
   ]
  },
  {
   "cell_type": "raw",
   "id": "682afa52",
   "metadata": {
    "execution": {
     "iopub.status.busy": "2023-08-15T11:16:51.307830Z",
     "iopub.status.idle": "2023-08-15T11:16:51.308227Z",
     "shell.execute_reply": "2023-08-15T11:16:51.308050Z",
     "shell.execute_reply.started": "2023-08-15T11:16:51.308031Z"
    },
    "papermill": {
     "duration": 0.076732,
     "end_time": "2023-09-22T07:07:02.908875",
     "exception": false,
     "start_time": "2023-09-22T07:07:02.832143",
     "status": "completed"
    },
    "tags": []
   },
   "source": [
    "plt.plot(history.history['loss'],label='Training loss')\n",
    "plt.plot(history.history['val_loss'],label='Validation loss')\n",
    "plt.legend()\n",
    "plt.show()"
   ]
  },
  {
   "cell_type": "markdown",
   "id": "009eb72c",
   "metadata": {
    "papermill": {
     "duration": 0.076909,
     "end_time": "2023-09-22T07:07:03.062243",
     "exception": false,
     "start_time": "2023-09-22T07:07:02.985334",
     "status": "completed"
    },
    "tags": []
   },
   "source": [
    "# LSTM Network"
   ]
  },
  {
   "cell_type": "code",
   "execution_count": 14,
   "id": "41a0a100",
   "metadata": {
    "execution": {
     "iopub.execute_input": "2023-09-22T07:07:03.217390Z",
     "iopub.status.busy": "2023-09-22T07:07:03.216466Z",
     "iopub.status.idle": "2023-09-22T07:07:03.224119Z",
     "shell.execute_reply": "2023-09-22T07:07:03.222957Z"
    },
    "papermill": {
     "duration": 0.087954,
     "end_time": "2023-09-22T07:07:03.226098",
     "exception": false,
     "start_time": "2023-09-22T07:07:03.138144",
     "status": "completed"
    },
    "tags": []
   },
   "outputs": [],
   "source": [
    "output_columns = ['2048']\n",
    "#train_rds = train_rds.to_numpy()\n",
    "train_y = train_mrs[output_columns].to_numpy()\n",
    "#test_rds = test_rds.to_numpy()\n",
    "test_y = test_mrs[output_columns].to_numpy()"
   ]
  },
  {
   "cell_type": "code",
   "execution_count": 15,
   "id": "794d123b",
   "metadata": {
    "execution": {
     "iopub.execute_input": "2023-09-22T07:07:03.377742Z",
     "iopub.status.busy": "2023-09-22T07:07:03.377385Z",
     "iopub.status.idle": "2023-09-22T07:07:03.436836Z",
     "shell.execute_reply": "2023-09-22T07:07:03.435657Z"
    },
    "papermill": {
     "duration": 0.139611,
     "end_time": "2023-09-22T07:07:03.439924",
     "exception": false,
     "start_time": "2023-09-22T07:07:03.300313",
     "status": "completed"
    },
    "tags": []
   },
   "outputs": [
    {
     "name": "stdout",
     "output_type": "stream",
     "text": [
      "train_X shape: (4220, 1, 896)\n",
      "train_y shape: (4220, 1)\n",
      "train_e shape: (4220, 1, 300)\n",
      "~~~~~~~~\n",
      "test_X shape: (1943, 1, 896)\n",
      "test_y shape: (1943, 1)\n",
      "test_e shape: (1943, 1, 300)\n"
     ]
    }
   ],
   "source": [
    "# print(train_rds.shape, train_mrs.shape, train_embeddings.shape)\n",
    "train_X = np.reshape(scaler.transform(train_rds), (train_rds.shape[0], 1, 896))\n",
    "test_X = np.reshape(scaler.transform(test_rds), (test_rds.shape[0], 1, 896))\n",
    "train_emb = np.reshape(train_embeddings, (train_embeddings.shape[0], 1, 300))\n",
    "test_emb = np.reshape(test_embeddings, (test_embeddings.shape[0], 1, 300))\n",
    "\n",
    "print('train_X shape:',train_X.shape)\n",
    "print('train_y shape:',train_y.shape)\n",
    "print('train_e shape:',train_emb.shape)\n",
    "print('~~~~~~~~')\n",
    "print('test_X shape:',test_X.shape)\n",
    "print('test_y shape:',test_y.shape)\n",
    "print('test_e shape:',test_emb.shape)"
   ]
  },
  {
   "cell_type": "code",
   "execution_count": 16,
   "id": "1f962a01",
   "metadata": {
    "execution": {
     "iopub.execute_input": "2023-09-22T07:07:03.599119Z",
     "iopub.status.busy": "2023-09-22T07:07:03.598768Z",
     "iopub.status.idle": "2023-09-22T07:07:06.226001Z",
     "shell.execute_reply": "2023-09-22T07:07:06.225016Z"
    },
    "papermill": {
     "duration": 2.713935,
     "end_time": "2023-09-22T07:07:06.231161",
     "exception": false,
     "start_time": "2023-09-22T07:07:03.517226",
     "status": "completed"
    },
    "tags": []
   },
   "outputs": [
    {
     "name": "stdout",
     "output_type": "stream",
     "text": [
      "(None, 1, 1)\n",
      "Model: \"model\"\n",
      "__________________________________________________________________________________________________\n",
      " Layer (type)                   Output Shape         Param #     Connected to                     \n",
      "==================================================================================================\n",
      " input_1 (InputLayer)           [(None, 1, 300)]     0           []                               \n",
      "                                                                                                  \n",
      " lstm (LSTM)                    [(None, 1, 1024),    5427200     ['input_1[0][0]']                \n",
      "                                 (None, 1024),                                                    \n",
      "                                 (None, 1024)]                                                    \n",
      "                                                                                                  \n",
      " input_2 (InputLayer)           [(None, 1, 896)]     0           []                               \n",
      "                                                                                                  \n",
      " lstm_1 (LSTM)                  [(None, 1, 1024),    7868416     ['input_2[0][0]',                \n",
      "                                 (None, 1024),                    'lstm[0][1]',                   \n",
      "                                 (None, 1024)]                    'lstm[0][2]']                   \n",
      "                                                                                                  \n",
      " attention (Attention)          (None, 1, 1024)      0           ['lstm[0][0]',                   \n",
      "                                                                  'lstm_1[0][0]']                 \n",
      "                                                                                                  \n",
      " dense_2 (Dense)                (None, 1, 1)         1025        ['attention[0][0]']              \n",
      "                                                                                                  \n",
      " tf.compat.v1.squeeze (TFOpLamb  (None, 1)           0           ['dense_2[0][0]']                \n",
      " da)                                                                                              \n",
      "                                                                                                  \n",
      "==================================================================================================\n",
      "Total params: 13,296,641\n",
      "Trainable params: 13,296,641\n",
      "Non-trainable params: 0\n",
      "__________________________________________________________________________________________________\n"
     ]
    }
   ],
   "source": [
    "num_encoder_tokens = 300\n",
    "num_decoder_tokens = 896\n",
    "latent_dim = 1024\n",
    "\n",
    "# Define the input sequence\n",
    "encoder_inputs = Input(shape=(1, num_encoder_tokens))\n",
    "\n",
    "# LSTM layer\n",
    "encoder = LSTM(latent_dim, return_sequences=True, return_state=True)\n",
    "encoder_outputs, state_h, state_c = encoder(encoder_inputs)\n",
    "# We discard `encoder_outputs` and only keep the states\n",
    "encoder_states = [state_h, state_c]\n",
    "\n",
    "# Set up the decoder, using `encoder_states` as initial state\n",
    "decoder_inputs = Input(shape=(1, num_decoder_tokens))\n",
    "\n",
    "# We set up our decoder to return full output sequences,\n",
    "# and to return internal states as well. We don't use the\n",
    "# return states in the training model, but we will use them in inference\n",
    "decoder_lstm = LSTM(latent_dim, return_sequences=True, return_state=True)\n",
    "decoder_outputs, _, _ = decoder_lstm(decoder_inputs, initial_state=encoder_states)\n",
    "\n",
    "# Attention layer\n",
    "attention = Attention()\n",
    "attention_output = attention([encoder_outputs, decoder_outputs])\n",
    "\n",
    "# Dense layer\n",
    "decoder_dense = Dense(len(output_columns), activation='sigmoid')\n",
    "decoder_outputs = decoder_dense(attention_output)\n",
    "print(decoder_outputs.shape)\n",
    "\n",
    "# Define the model\n",
    "model = Model([encoder_inputs, decoder_inputs], tf.squeeze(decoder_outputs, axis=1))\n",
    "model.summary()\n",
    "model.compile(optimizer='adam', loss='mean_squared_error')\n"
   ]
  },
  {
   "cell_type": "code",
   "execution_count": 17,
   "id": "79d357fe",
   "metadata": {
    "execution": {
     "iopub.execute_input": "2023-09-22T07:07:06.391121Z",
     "iopub.status.busy": "2023-09-22T07:07:06.390794Z",
     "iopub.status.idle": "2023-09-22T07:07:06.396357Z",
     "shell.execute_reply": "2023-09-22T07:07:06.394162Z"
    },
    "papermill": {
     "duration": 0.087396,
     "end_time": "2023-09-22T07:07:06.398662",
     "exception": false,
     "start_time": "2023-09-22T07:07:06.311266",
     "status": "completed"
    },
    "tags": []
   },
   "outputs": [],
   "source": [
    "# history = model.fit([train_emb, train_X], train_y, epochs=54, batch_size=64, validation_data=([test_emb, test_X], test_y), verbose=1)"
   ]
  },
  {
   "cell_type": "code",
   "execution_count": 18,
   "id": "f9c4d7b1",
   "metadata": {
    "execution": {
     "iopub.execute_input": "2023-09-22T07:07:06.556197Z",
     "iopub.status.busy": "2023-09-22T07:07:06.555867Z",
     "iopub.status.idle": "2023-09-22T07:07:06.559934Z",
     "shell.execute_reply": "2023-09-22T07:07:06.558912Z"
    },
    "papermill": {
     "duration": 0.084076,
     "end_time": "2023-09-22T07:07:06.562342",
     "exception": false,
     "start_time": "2023-09-22T07:07:06.478266",
     "status": "completed"
    },
    "tags": []
   },
   "outputs": [],
   "source": [
    "# plt.plot(history.history['loss'])\n",
    "# plt.plot(history.history['val_loss'])"
   ]
  },
  {
   "cell_type": "code",
   "execution_count": 19,
   "id": "d38421c0",
   "metadata": {
    "execution": {
     "iopub.execute_input": "2023-09-22T07:07:06.719685Z",
     "iopub.status.busy": "2023-09-22T07:07:06.719353Z",
     "iopub.status.idle": "2023-09-22T07:07:06.724294Z",
     "shell.execute_reply": "2023-09-22T07:07:06.722542Z"
    },
    "papermill": {
     "duration": 0.083847,
     "end_time": "2023-09-22T07:07:06.726363",
     "exception": false,
     "start_time": "2023-09-22T07:07:06.642516",
     "status": "completed"
    },
    "tags": []
   },
   "outputs": [],
   "source": [
    "# y_prangle_spectrumed = model([test_emb, test_X])\n",
    "# print(y_pred.shape)\n",
    "# mean_squared_error(y_pred.numpy(), test_y)"
   ]
  },
  {
   "cell_type": "code",
   "execution_count": 20,
   "id": "dd6bd8a3",
   "metadata": {
    "execution": {
     "iopub.execute_input": "2023-09-22T07:07:06.880110Z",
     "iopub.status.busy": "2023-09-22T07:07:06.879819Z",
     "iopub.status.idle": "2023-09-22T07:07:06.884011Z",
     "shell.execute_reply": "2023-09-22T07:07:06.882790Z"
    },
    "papermill": {
     "duration": 0.084483,
     "end_time": "2023-09-22T07:07:06.886444",
     "exception": false,
     "start_time": "2023-09-22T07:07:06.801961",
     "status": "completed"
    },
    "tags": []
   },
   "outputs": [],
   "source": [
    "# y_pred = model(test_X)\n",
    "# for i,j in enumerate(output_columns):\n",
    "#     print('Test set MSE:', mean_squared_error(y_pred.numpy(), test_y))"
   ]
  },
  {
   "cell_type": "markdown",
   "id": "e6ed28e3",
   "metadata": {
    "papermill": {
     "duration": 0.076177,
     "end_time": "2023-09-22T07:07:07.041345",
     "exception": false,
     "start_time": "2023-09-22T07:07:06.965168",
     "status": "completed"
    },
    "tags": []
   },
   "source": [
    "# RDs: CNN -> DNN, Embeddings:DNN"
   ]
  },
  {
   "cell_type": "code",
   "execution_count": 21,
   "id": "9b9ee260",
   "metadata": {
    "execution": {
     "iopub.execute_input": "2023-09-22T07:07:07.197300Z",
     "iopub.status.busy": "2023-09-22T07:07:07.196956Z",
     "iopub.status.idle": "2023-09-22T07:07:07.215208Z",
     "shell.execute_reply": "2023-09-22T07:07:07.214314Z"
    },
    "papermill": {
     "duration": 0.098145,
     "end_time": "2023-09-22T07:07:07.217337",
     "exception": false,
     "start_time": "2023-09-22T07:07:07.119192",
     "status": "completed"
    },
    "tags": []
   },
   "outputs": [
    {
     "name": "stdout",
     "output_type": "stream",
     "text": [
      "train_X shape: (4220, 896, 1)\n",
      "train_e shape: (4220, 300)\n",
      "train_y shape: (4220, 4)\n",
      "~~~~~~~~\n",
      "test_X shape: (1943, 896, 1)\n",
      "test_e shape: (1943, 300)\n",
      "test_y shape: (1943, 4)\n",
      "[[ -0.585071   9.35283   41.856682 ...  -6.225739 -15.328747  14.726346]\n",
      " [ -0.585071   9.35283   41.856682 ...  -6.225739 -15.328747  14.726346]\n",
      " [ -0.585071   9.35283   41.856682 ...  -6.225739 -15.328747  14.726346]\n",
      " [ -0.585071   9.35283   41.856682 ...  -6.225739 -15.328747  14.726346]\n",
      " [ -0.585071   9.35283   41.856682 ...  -6.225739 -15.328747  14.726346]]\n"
     ]
    }
   ],
   "source": [
    "output_columns = ['1024', '2048', '4096', '8192']\n",
    "train_y = train_mrs[output_columns].to_numpy()\n",
    "test_y = test_mrs[output_columns].to_numpy()\n",
    "\n",
    "scale = 0\n",
    "\n",
    "if scale:\n",
    "    train_rdss = scaler.transform(train_rds)\n",
    "    test_rdss = scaler.transform(test_rds)\n",
    "    train_embeddingss = embedding_scaler.transform(train_embeddings)\n",
    "    test_embeddingss  = embedding_scaler.transform(test_embeddings)\n",
    "else:\n",
    "    train_rdss = train_rds.to_numpy()\n",
    "    test_rdss = test_rds.to_numpy()\n",
    "    train_embeddingss = train_embeddings\n",
    "    test_embeddingss  = test_embeddings\n",
    "    \n",
    "train_X = np.reshape(train_rdss, (train_rds.shape[0], 896, 1))\n",
    "test_X = np.reshape(test_rdss, (test_rds.shape[0], 896, 1))\n",
    "train_emb = np.reshape(train_embeddingss, (train_embeddings.shape[0], 300))\n",
    "test_emb = np.reshape(test_embeddingss, (test_embeddings.shape[0], 300))\n",
    "\n",
    "print('train_X shape:',train_X.shape)\n",
    "print('train_e shape:',train_emb.shape)\n",
    "print('train_y shape:',train_y.shape)\n",
    "print('~~~~~~~~')\n",
    "print('test_X shape:',test_X.shape)\n",
    "print('test_e shape:',test_emb.shape)\n",
    "print('test_y shape:',test_y.shape)\n",
    "print(train_emb[:5])"
   ]
  },
  {
   "cell_type": "code",
   "execution_count": 22,
   "id": "2c688b66",
   "metadata": {
    "execution": {
     "iopub.execute_input": "2023-09-22T07:07:07.382112Z",
     "iopub.status.busy": "2023-09-22T07:07:07.381768Z",
     "iopub.status.idle": "2023-09-22T07:07:11.059491Z",
     "shell.execute_reply": "2023-09-22T07:07:11.058622Z"
    },
    "papermill": {
     "duration": 3.786221,
     "end_time": "2023-09-22T07:07:11.087676",
     "exception": false,
     "start_time": "2023-09-22T07:07:07.301455",
     "status": "completed"
    },
    "tags": []
   },
   "outputs": [
    {
     "name": "stdout",
     "output_type": "stream",
     "text": [
      "(None, 223, 1)\n",
      "(None, 223, 6)\n",
      "(None, 223, 6)\n",
      "(None, 324)\n",
      "(None, 547)\n",
      "(1943, 4)\n",
      "0.12104782224444428\n",
      "Model: \"model_1\"\n",
      "__________________________________________________________________________________________________\n",
      " Layer (type)                   Output Shape         Param #     Connected to                     \n",
      "==================================================================================================\n",
      " input_3 (InputLayer)           [(None, 300)]        0           []                               \n",
      "                                                                                                  \n",
      " dense_3 (Dense)                (None, 223)          67123       ['input_3[0][0]']                \n",
      "                                                                                                  \n",
      " input_4 (InputLayer)           [(None, 896, 1)]     0           []                               \n",
      "                                                                                                  \n",
      " layer_normalization (LayerNorm  (None, 223)         446         ['dense_3[0][0]']                \n",
      " alization)                                                                                       \n",
      "                                                                                                  \n",
      " conv1d (Conv1D)                (None, 223, 6)       54          ['input_4[0][0]']                \n",
      "                                                                                                  \n",
      " reshape (Reshape)              (None, 223, 1)       0           ['layer_normalization[0][0]']    \n",
      "                                                                                                  \n",
      " layer_normalization_1 (LayerNo  (None, 223, 6)      446         ['conv1d[0][0]']                 \n",
      " rmalization)                                                                                     \n",
      "                                                                                                  \n",
      " attention_1 (Attention)        (None, 223, 6)       1           ['reshape[0][0]',                \n",
      "                                                                  'layer_normalization_1[0][0]']  \n",
      "                                                                                                  \n",
      " max_pooling1d (MaxPooling1D)   (None, 54, 6)        0           ['attention_1[0][0]']            \n",
      "                                                                                                  \n",
      " flatten (Flatten)              (None, 324)          0           ['max_pooling1d[0][0]']          \n",
      "                                                                                                  \n",
      " concatenate (Concatenate)      (None, 547)          0           ['flatten[0][0]',                \n",
      "                                                                  'layer_normalization[0][0]']    \n",
      "                                                                                                  \n",
      " dropout (Dropout)              (None, 547)          0           ['concatenate[0][0]']            \n",
      "                                                                                                  \n",
      " dense_4 (Dense)                (None, 1024)         561152      ['dropout[0][0]']                \n",
      "                                                                                                  \n",
      " dense_5 (Dense)                (None, 4)            4100        ['dense_4[0][0]']                \n",
      "                                                                                                  \n",
      "==================================================================================================\n",
      "Total params: 633,322\n",
      "Trainable params: 633,322\n",
      "Non-trainable params: 0\n",
      "__________________________________________________________________________________________________\n"
     ]
    }
   ],
   "source": [
    "def create_model(att_nodes = 64, dnn_nodes = 1024):\n",
    "    conv_out = 223\n",
    "    \n",
    "    embedding_inputs = Input(shape=(300))\n",
    "    dense_emb = Dense(conv_out, activation='relu')\n",
    "    embedding_outputs1 = dense_emb(embedding_inputs)\n",
    "    \n",
    "    emb_norm = tf.keras.layers.LayerNormalization(axis=-1)\n",
    "    embedding_outputs1 = emb_norm(embedding_outputs1)\n",
    "    \n",
    "    expand_layer = tf.keras.layers.Reshape((conv_out,1))\n",
    "    embedding_outputs = expand_layer(embedding_outputs1)\n",
    "    \n",
    "    print(embedding_outputs.shape)\n",
    "    # CNN Layers\n",
    "    hist_inputs = Input(shape=(896, 1))\n",
    "\n",
    "    conv_layer = Conv1D(filters=6, kernel_size=8, strides=4)\n",
    "    conv_outputs = conv_layer(hist_inputs)\n",
    "    \n",
    "    print(conv_outputs.shape)\n",
    "#     pooling = tf.keras.layers.MaxPooling1D(pool_size=8, strides = 4)\n",
    "#     conv_outputs = pooling(conv_outputs)\n",
    "\n",
    "#     conv_outputs = tf.keras.layers.Flatten()(conv_outputs)\n",
    "\n",
    "#     #Alternative\n",
    "#     sec_dense = Dense(1024, activation='relu')\n",
    "#     conv_outputs = sec_dense(tf.keras.layers.Flatten()(hist_inputs))\n",
    "    \n",
    "#     dense_hist = Dense(att_nodes, activation='relu')\n",
    "#     hist_outputs = dense_hist(conv_outputs)\n",
    "    \n",
    "#     emb_norm = tf.keras.layers.LayerNormalization(axis=-1)\n",
    "#     embedding_outputs = emb_norm(embedding_outputs)\n",
    "    \n",
    "#     hist_norm = tf.keras.layers.LayerNormalization(axis=-1)\n",
    "#     hist_outputs = hist_norm(hist_outputs)\n",
    "    \n",
    "    hist_outputs = conv_outputs\n",
    "    hist_norm = tf.keras.layers.LayerNormalization(axis=-2)\n",
    "    hist_outputs = hist_norm(hist_outputs)\n",
    "    \n",
    "    # Attention layer\n",
    "    attention = tf.keras.layers.Attention(score_mode='concat')\n",
    "    attention_output = attention([embedding_outputs, hist_outputs])\n",
    "    \n",
    "    print(attention_output.shape)\n",
    "    \n",
    "    pooling = tf.keras.layers.MaxPooling1D(pool_size=8, strides = 4)\n",
    "    attention_output = pooling(attention_output)\n",
    "\n",
    "    attention_output = tf.keras.layers.Flatten()(attention_output)\n",
    "    \n",
    "    print(attention_output.shape)\n",
    "    attention_output = tf.keras.layers.Concatenate()([attention_output, embedding_outputs1])\n",
    "    print(attention_output.shape)\n",
    "\n",
    "    \n",
    "    drop_layer = tf.keras.layers.Dropout(0.2)\n",
    "    attention_output = drop_layer(attention_output)\n",
    "    \n",
    "    att_norm = tf.keras.layers.LayerNormalization(axis=-1)\n",
    "#     attention_output = att_norm(attention_output)\n",
    "    \n",
    "    dense_input = attention_output\n",
    "    \n",
    "    dense_layer1 = Dense(dnn_nodes, activation='relu')\n",
    "    dense_output1 = dense_layer1(dense_input)\n",
    "    \n",
    "    dense_layer2 = Dense(len(output_columns), activation='sigmoid')\n",
    "    total_output = dense_layer2(dense_output1)\n",
    "\n",
    "    model = Model([hist_inputs, embedding_inputs], total_output)\n",
    "    # model.summary()\n",
    "    model.compile(optimizer=\"adam\", loss=\"mse\")\n",
    "    y_pred = model([test_X, test_emb])\n",
    "    print(y_pred.shape)\n",
    "    print(mean_squared_error(y_pred, test_y))\n",
    "    return model\n",
    "create_model(128, 1024).summary()"
   ]
  },
  {
   "cell_type": "code",
   "execution_count": 23,
   "id": "46af9ae8",
   "metadata": {
    "execution": {
     "iopub.execute_input": "2023-09-22T07:07:11.255500Z",
     "iopub.status.busy": "2023-09-22T07:07:11.254830Z",
     "iopub.status.idle": "2023-09-22T07:07:11.259612Z",
     "shell.execute_reply": "2023-09-22T07:07:11.258661Z"
    },
    "papermill": {
     "duration": 0.090546,
     "end_time": "2023-09-22T07:07:11.261702",
     "exception": false,
     "start_time": "2023-09-22T07:07:11.171156",
     "status": "completed"
    },
    "tags": []
   },
   "outputs": [],
   "source": [
    "# a = 512\n",
    "# b = 0\n",
    "# c = 1024\n",
    "# mymodel = create_model(a, c)\n",
    "# history = mymodel.fit([train_X, train_emb], train_y, epochs=60, batch_size=16, shuffle=True, validation_data=([test_X, test_emb], test_y))\n",
    "# x = min(history.history['loss'])\n",
    "# y = min(history.history['val_loss'])\n",
    "# with open('/kaggle/working/metrics.txt', 'a') as f:\n",
    "#     f.write(f'{a},{b},{c}:{x:.4f},{y:.4f}\\n')\n",
    "#     print(f'{a},{b},{c}:{x:.4f},{y:.4f}\\n')"
   ]
  },
  {
   "cell_type": "markdown",
   "id": "2adf936e",
   "metadata": {
    "papermill": {
     "duration": 0.082658,
     "end_time": "2023-09-22T07:07:11.426693",
     "exception": false,
     "start_time": "2023-09-22T07:07:11.344035",
     "status": "completed"
    },
    "tags": []
   },
   "source": [
    "# RDs: CNN -> DNN, Embeddings:DNN"
   ]
  },
  {
   "cell_type": "code",
   "execution_count": 24,
   "id": "cff77482",
   "metadata": {
    "execution": {
     "iopub.execute_input": "2023-09-22T07:07:11.600118Z",
     "iopub.status.busy": "2023-09-22T07:07:11.599747Z",
     "iopub.status.idle": "2023-09-22T07:07:11.614885Z",
     "shell.execute_reply": "2023-09-22T07:07:11.613360Z"
    },
    "papermill": {
     "duration": 0.105275,
     "end_time": "2023-09-22T07:07:11.618907",
     "exception": false,
     "start_time": "2023-09-22T07:07:11.513632",
     "status": "completed"
    },
    "tags": []
   },
   "outputs": [
    {
     "name": "stdout",
     "output_type": "stream",
     "text": [
      "train_X shape: (4220, 896, 1)\n",
      "train_e shape: (4220, 300)\n",
      "train_y shape: (4220, 4)\n",
      "~~~~~~~~\n",
      "test_X shape: (1943, 896, 1)\n",
      "test_e shape: (1943, 300)\n",
      "test_y shape: (1943, 4)\n",
      "[[ -0.585071   9.35283   41.856682 ...  -6.225739 -15.328747  14.726346]\n",
      " [ -0.585071   9.35283   41.856682 ...  -6.225739 -15.328747  14.726346]\n",
      " [ -0.585071   9.35283   41.856682 ...  -6.225739 -15.328747  14.726346]\n",
      " [ -0.585071   9.35283   41.856682 ...  -6.225739 -15.328747  14.726346]\n",
      " [ -0.585071   9.35283   41.856682 ...  -6.225739 -15.328747  14.726346]]\n"
     ]
    }
   ],
   "source": [
    "output_columns = ['1024', '2048', '4096', '8192']\n",
    "train_y = train_mrs[output_columns].to_numpy()\n",
    "test_y = test_mrs[output_columns].to_numpy()\n",
    "\n",
    "scale = 0\n",
    "\n",
    "if scale:\n",
    "    train_rdss = scaler.transform(train_rds)\n",
    "    test_rdss = scaler.transform(test_rds)\n",
    "    train_embeddingss = embedding_scaler.transform(train_embeddings)\n",
    "    test_embeddingss  = embedding_scaler.transform(test_embeddings)\n",
    "else:\n",
    "    train_rdss = train_rds.to_numpy()\n",
    "    test_rdss = test_rds.to_numpy()\n",
    "    train_embeddingss = train_embeddings\n",
    "    test_embeddingss  = test_embeddings\n",
    "    \n",
    "train_X = np.reshape(train_rdss, (train_rds.shape[0], 896, 1))\n",
    "test_X = np.reshape(test_rdss, (test_rds.shape[0], 896, 1))\n",
    "train_emb = np.reshape(train_embeddingss, (train_embeddings.shape[0], 300))\n",
    "test_emb = np.reshape(test_embeddingss, (test_embeddings.shape[0], 300))\n",
    "\n",
    "print('train_X shape:',train_X.shape)\n",
    "print('train_e shape:',train_emb.shape)\n",
    "print('train_y shape:',train_y.shape)\n",
    "print('~~~~~~~~')\n",
    "print('test_X shape:',test_X.shape)\n",
    "print('test_e shape:',test_emb.shape)\n",
    "print('test_y shape:',test_y.shape)\n",
    "print(train_emb[:5])"
   ]
  },
  {
   "cell_type": "code",
   "execution_count": 25,
   "id": "ed71a184",
   "metadata": {
    "execution": {
     "iopub.execute_input": "2023-09-22T07:07:11.788475Z",
     "iopub.status.busy": "2023-09-22T07:07:11.788110Z",
     "iopub.status.idle": "2023-09-22T07:07:12.004096Z",
     "shell.execute_reply": "2023-09-22T07:07:12.003198Z"
    },
    "papermill": {
     "duration": 0.314544,
     "end_time": "2023-09-22T07:07:12.021463",
     "exception": false,
     "start_time": "2023-09-22T07:07:11.706919",
     "status": "completed"
    },
    "tags": []
   },
   "outputs": [
    {
     "name": "stdout",
     "output_type": "stream",
     "text": [
      "(None, 128)\n",
      "(1943, 4)\n",
      "0.0973102381078598\n",
      "Model: \"model_2\"\n",
      "__________________________________________________________________________________________________\n",
      " Layer (type)                   Output Shape         Param #     Connected to                     \n",
      "==================================================================================================\n",
      " input_6 (InputLayer)           [(None, 896, 1)]     0           []                               \n",
      "                                                                                                  \n",
      " conv1d_1 (Conv1D)              (None, 223, 6)       54          ['input_6[0][0]']                \n",
      "                                                                                                  \n",
      " max_pooling1d_1 (MaxPooling1D)  (None, 54, 6)       0           ['conv1d_1[0][0]']               \n",
      "                                                                                                  \n",
      " flatten_1 (Flatten)            (None, 324)          0           ['max_pooling1d_1[0][0]']        \n",
      "                                                                                                  \n",
      " input_5 (InputLayer)           [(None, 300)]        0           []                               \n",
      "                                                                                                  \n",
      " dense_7 (Dense)                (None, 128)          41600       ['flatten_1[0][0]']              \n",
      "                                                                                                  \n",
      " dense_6 (Dense)                (None, 128)          38528       ['input_5[0][0]']                \n",
      "                                                                                                  \n",
      " layer_normalization_4 (LayerNo  (None, 128)         256         ['dense_7[0][0]']                \n",
      " rmalization)                                                                                     \n",
      "                                                                                                  \n",
      " layer_normalization_3 (LayerNo  (None, 128)         256         ['dense_6[0][0]']                \n",
      " rmalization)                                                                                     \n",
      "                                                                                                  \n",
      " concatenate_1 (Concatenate)    (None, 256)          0           ['layer_normalization_4[0][0]',  \n",
      "                                                                  'layer_normalization_3[0][0]']  \n",
      "                                                                                                  \n",
      " dropout_1 (Dropout)            (None, 256)          0           ['concatenate_1[0][0]']          \n",
      "                                                                                                  \n",
      " dense_8 (Dense)                (None, 1024)         263168      ['dropout_1[0][0]']              \n",
      "                                                                                                  \n",
      " dense_9 (Dense)                (None, 4)            4100        ['dense_8[0][0]']                \n",
      "                                                                                                  \n",
      "==================================================================================================\n",
      "Total params: 347,962\n",
      "Trainable params: 347,962\n",
      "Non-trainable params: 0\n",
      "__________________________________________________________________________________________________\n"
     ]
    }
   ],
   "source": [
    "# Works  \n",
    "def create_model(att_nodes = 64, dnn_nodes = 1024):\n",
    "    \n",
    "    embedding_inputs = Input(shape=(300))\n",
    "    dense_emb = Dense(att_nodes, activation='relu')\n",
    "    embedding_outputs = dense_emb(embedding_inputs)\n",
    "    \n",
    "#     expand_layer = tf.keras.layers.Reshape((conv_out,1))\n",
    "#     embedding_outputs = expand_layer(embedding_outputs1)\n",
    "    \n",
    "    print(embedding_outputs.shape)\n",
    "    # CNN Layers\n",
    "    hist_inputs = Input(shape=(896, 1))\n",
    "\n",
    "    conv_layer = Conv1D(filters=6, kernel_size=8, strides=4)\n",
    "    conv_outputs = conv_layer(hist_inputs)\n",
    "    \n",
    "#     print(conv_outputs.shape)\n",
    "    pooling = tf.keras.layers.MaxPooling1D(pool_size=8, strides = 4)\n",
    "    conv_outputs = pooling(conv_outputs)\n",
    "\n",
    "    conv_outputs = tf.keras.layers.Flatten()(conv_outputs)\n",
    "\n",
    "#     #Alternative\n",
    "#     sec_dense = Dense(1024, activation='relu')\n",
    "#     conv_outputs = sec_dense(tf.keras.layers.Flatten()(hist_inputs))\n",
    "    \n",
    "    dense_hist = Dense(att_nodes, activation='relu')\n",
    "    hist_outputs = dense_hist(conv_outputs)\n",
    "    \n",
    "    emb_norm = tf.keras.layers.LayerNormalization(axis=-1)\n",
    "    embedding_outputs = emb_norm(embedding_outputs)\n",
    "    \n",
    "    hist_norm = tf.keras.layers.LayerNormalization(axis=-1)\n",
    "    hist_outputs = hist_norm(hist_outputs)\n",
    "    \n",
    "#     hist_outputs = conv_outputs\n",
    "#     hist_norm = tf.keras.layers.LayerNormalization(axis=-1)\n",
    "#     hist_outputs = hist_norm(hist_outputs)\n",
    "    \n",
    "    \n",
    "    attention_output = tf.keras.layers.Concatenate()([hist_outputs, embedding_outputs])\n",
    "\n",
    "    \n",
    "    drop_layer = tf.keras.layers.Dropout(0.2)\n",
    "    attention_output = drop_layer(attention_output)\n",
    "    \n",
    "    att_norm = tf.keras.layers.LayerNormalization(axis=-1)\n",
    "    dense_input = attention_output # att_norm(attention_output)\n",
    "    \n",
    "    dense_layer1 = Dense(dnn_nodes, activation='relu')\n",
    "    dense_output1 = dense_layer1(dense_input)\n",
    "    \n",
    "    dense_layer2 = Dense(len(output_columns), activation='sigmoid')\n",
    "    total_output = dense_layer2(dense_output1)\n",
    "\n",
    "    model = Model([hist_inputs, embedding_inputs], total_output)\n",
    "    # model.summary()\n",
    "    model.compile(optimizer=\"adam\", loss=\"mse\")\n",
    "    y_pred = model([test_X, test_emb])\n",
    "    print(y_pred.shape)\n",
    "    print(mean_squared_error(y_pred, test_y))\n",
    "    return model\n",
    "create_model(128, 1024).summary()"
   ]
  },
  {
   "cell_type": "code",
   "execution_count": 26,
   "id": "755a238a",
   "metadata": {
    "execution": {
     "iopub.execute_input": "2023-09-22T07:07:12.191356Z",
     "iopub.status.busy": "2023-09-22T07:07:12.191011Z",
     "iopub.status.idle": "2023-09-22T07:09:08.670759Z",
     "shell.execute_reply": "2023-09-22T07:09:08.669798Z"
    },
    "papermill": {
     "duration": 116.567532,
     "end_time": "2023-09-22T07:09:08.673081",
     "exception": false,
     "start_time": "2023-09-22T07:07:12.105549",
     "status": "completed"
    },
    "tags": []
   },
   "outputs": [
    {
     "name": "stdout",
     "output_type": "stream",
     "text": [
      "(None, 512)\n",
      "(1943, 4)\n",
      "0.23288575225009156\n",
      "264/264 [==============================] - 6s 7ms/step - loss: 0.0718 - val_loss: 0.0818\n",
      "264/264 [==============================] - 3s 10ms/step - loss: 0.0126 - val_loss: 0.0520\n",
      "264/264 [==============================] - 2s 6ms/step - loss: 0.0049 - val_loss: 0.0467\n",
      "264/264 [==============================] - 2s 6ms/step - loss: 0.0032 - val_loss: 0.0443\n",
      "264/264 [==============================] - 2s 6ms/step - loss: 0.0026 - val_loss: 0.0475\n",
      "264/264 [==============================] - 2s 7ms/step - loss: 0.0024 - val_loss: 0.0402\n",
      "264/264 [==============================] - 2s 6ms/step - loss: 0.0021 - val_loss: 0.0432\n",
      "264/264 [==============================] - 2s 6ms/step - loss: 0.0021 - val_loss: 0.0436\n",
      "264/264 [==============================] - 2s 6ms/step - loss: 0.0016 - val_loss: 0.0450\n",
      "264/264 [==============================] - 2s 6ms/step - loss: 0.0015 - val_loss: 0.0417\n",
      "264/264 [==============================] - 2s 6ms/step - loss: 0.0015 - val_loss: 0.0434\n",
      "264/264 [==============================] - 2s 6ms/step - loss: 0.0017 - val_loss: 0.0418\n",
      "264/264 [==============================] - 2s 6ms/step - loss: 0.0015 - val_loss: 0.0440\n",
      "264/264 [==============================] - 2s 6ms/step - loss: 0.0011 - val_loss: 0.0400\n",
      "264/264 [==============================] - 2s 7ms/step - loss: 0.0013 - val_loss: 0.0371\n",
      "264/264 [==============================] - 2s 6ms/step - loss: 0.0011 - val_loss: 0.0431\n",
      "264/264 [==============================] - 2s 6ms/step - loss: 0.0013 - val_loss: 0.0404\n",
      "264/264 [==============================] - 2s 6ms/step - loss: 0.0013 - val_loss: 0.0416\n",
      "264/264 [==============================] - 2s 6ms/step - loss: 0.0012 - val_loss: 0.0396\n",
      "264/264 [==============================] - 2s 6ms/step - loss: 0.0014 - val_loss: 0.0439\n",
      "264/264 [==============================] - 2s 6ms/step - loss: 9.5291e-04 - val_loss: 0.0423\n",
      "264/264 [==============================] - 2s 6ms/step - loss: 0.0010 - val_loss: 0.0395\n",
      "264/264 [==============================] - 2s 6ms/step - loss: 0.0011 - val_loss: 0.0401\n",
      "264/264 [==============================] - 2s 6ms/step - loss: 8.4956e-04 - val_loss: 0.0419\n",
      "264/264 [==============================] - 2s 6ms/step - loss: 0.0010 - val_loss: 0.0411\n",
      "264/264 [==============================] - 2s 6ms/step - loss: 9.5877e-04 - val_loss: 0.0411\n",
      "264/264 [==============================] - 2s 6ms/step - loss: 7.6533e-04 - val_loss: 0.0436\n",
      "264/264 [==============================] - 2s 6ms/step - loss: 7.9788e-04 - val_loss: 0.0381\n",
      "264/264 [==============================] - 2s 6ms/step - loss: 0.0010 - val_loss: 0.0424\n",
      "264/264 [==============================] - 2s 9ms/step - loss: 0.0012 - val_loss: 0.0431\n",
      "264/264 [==============================] - 2s 6ms/step - loss: 9.5490e-04 - val_loss: 0.0417\n",
      "264/264 [==============================] - 2s 6ms/step - loss: 8.0245e-04 - val_loss: 0.0407\n",
      "264/264 [==============================] - 2s 6ms/step - loss: 7.4368e-04 - val_loss: 0.0472\n",
      "264/264 [==============================] - 2s 6ms/step - loss: 7.3337e-04 - val_loss: 0.0440\n",
      "264/264 [==============================] - 2s 6ms/step - loss: 5.7245e-04 - val_loss: 0.0410\n",
      "264/264 [==============================] - 2s 6ms/step - loss: 7.7602e-04 - val_loss: 0.0434\n",
      "264/264 [==============================] - 2s 6ms/step - loss: 7.0715e-04 - val_loss: 0.0441\n",
      "264/264 [==============================] - 2s 6ms/step - loss: 5.8446e-04 - val_loss: 0.0419\n",
      "264/264 [==============================] - 2s 6ms/step - loss: 5.6727e-04 - val_loss: 0.0420\n",
      "264/264 [==============================] - 2s 6ms/step - loss: 5.9681e-04 - val_loss: 0.0446\n",
      "264/264 [==============================] - 2s 6ms/step - loss: 7.7514e-04 - val_loss: 0.0479\n",
      "264/264 [==============================] - 2s 6ms/step - loss: 6.6176e-04 - val_loss: 0.0461\n",
      "264/264 [==============================] - 2s 6ms/step - loss: 5.6930e-04 - val_loss: 0.0449\n",
      "264/264 [==============================] - 2s 7ms/step - loss: 6.1150e-04 - val_loss: 0.0412\n",
      "264/264 [==============================] - 2s 6ms/step - loss: 5.8860e-04 - val_loss: 0.0432\n",
      "264/264 [==============================] - 2s 6ms/step - loss: 5.8004e-04 - val_loss: 0.0445\n",
      "264/264 [==============================] - 2s 6ms/step - loss: 5.7906e-04 - val_loss: 0.0436\n",
      "264/264 [==============================] - 2s 6ms/step - loss: 4.9892e-04 - val_loss: 0.0399\n",
      "264/264 [==============================] - 2s 6ms/step - loss: 9.1901e-04 - val_loss: 0.0442\n",
      "264/264 [==============================] - 2s 6ms/step - loss: 6.0969e-04 - val_loss: 0.0446\n"
     ]
    }
   ],
   "source": [
    "a = 512\n",
    "b = 0\n",
    "c = 1024\n",
    "mymodel = create_model(a, c)\n",
    "l = []\n",
    "for i in range(50):\n",
    "    mymodel.fit([train_X, train_emb], train_y, epochs=1, batch_size=16, shuffle=True, validation_data=([test_X, test_emb], test_y))\n",
    "    l.append(mymodel([test_X, test_emb]))\n",
    "# x = min(history.history['loss'])\n",
    "# y = min(history.history['val_loss'])"
   ]
  },
  {
   "cell_type": "code",
   "execution_count": 27,
   "id": "3ef594c2",
   "metadata": {
    "execution": {
     "iopub.execute_input": "2023-09-22T07:09:09.082359Z",
     "iopub.status.busy": "2023-09-22T07:09:09.081338Z",
     "iopub.status.idle": "2023-09-22T07:09:09.114616Z",
     "shell.execute_reply": "2023-09-22T07:09:09.113615Z"
    },
    "papermill": {
     "duration": 0.218765,
     "end_time": "2023-09-22T07:09:09.116825",
     "exception": false,
     "start_time": "2023-09-22T07:09:08.898060",
     "status": "completed"
    },
    "tags": []
   },
   "outputs": [
    {
     "name": "stdout",
     "output_type": "stream",
     "text": [
      "(1943, 4)\n",
      "0.04456642970526753\n"
     ]
    }
   ],
   "source": [
    "y_pred = mymodel([test_X, test_emb])\n",
    "print(y_pred.shape)\n",
    "print(mean_squared_error(y_pred, test_y))"
   ]
  },
  {
   "cell_type": "code",
   "execution_count": 28,
   "id": "1759ea19",
   "metadata": {
    "execution": {
     "iopub.execute_input": "2023-09-22T07:09:09.483527Z",
     "iopub.status.busy": "2023-09-22T07:09:09.481778Z",
     "iopub.status.idle": "2023-09-22T07:09:09.491711Z",
     "shell.execute_reply": "2023-09-22T07:09:09.490819Z"
    },
    "papermill": {
     "duration": 0.191216,
     "end_time": "2023-09-22T07:09:09.493612",
     "exception": false,
     "start_time": "2023-09-22T07:09:09.302396",
     "status": "completed"
    },
    "tags": []
   },
   "outputs": [
    {
     "data": {
      "text/plain": [
       "0.04429682746418989"
      ]
     },
     "execution_count": 28,
     "metadata": {},
     "output_type": "execute_result"
    }
   ],
   "source": [
    "mean_squared_error(l[3], test_y)"
   ]
  },
  {
   "cell_type": "code",
   "execution_count": 29,
   "id": "6ab708bf",
   "metadata": {
    "execution": {
     "iopub.execute_input": "2023-09-22T07:09:09.854399Z",
     "iopub.status.busy": "2023-09-22T07:09:09.854068Z",
     "iopub.status.idle": "2023-09-22T07:09:09.891579Z",
     "shell.execute_reply": "2023-09-22T07:09:09.890511Z"
    },
    "papermill": {
     "duration": 0.218015,
     "end_time": "2023-09-22T07:09:09.894095",
     "exception": false,
     "start_time": "2023-09-22T07:09:09.676080",
     "status": "completed"
    },
    "tags": []
   },
   "outputs": [
    {
     "name": "stdout",
     "output_type": "stream",
     "text": [
      "0.037132853703101\n"
     ]
    }
   ],
   "source": [
    "print(mean_squared_error(min(l, key=lambda x:mean_squared_error(x, test_y)), test_y))"
   ]
  },
  {
   "cell_type": "code",
   "execution_count": 30,
   "id": "d5b77b55",
   "metadata": {
    "execution": {
     "iopub.execute_input": "2023-09-22T07:09:10.324672Z",
     "iopub.status.busy": "2023-09-22T07:09:10.323459Z",
     "iopub.status.idle": "2023-09-22T07:09:10.351643Z",
     "shell.execute_reply": "2023-09-22T07:09:10.350726Z"
    },
    "papermill": {
     "duration": 0.254588,
     "end_time": "2023-09-22T07:09:10.353870",
     "exception": false,
     "start_time": "2023-09-22T07:09:10.099282",
     "status": "completed"
    },
    "tags": []
   },
   "outputs": [],
   "source": [
    "x = min(l, key=lambda x:mean_squared_error(x, test_y))\n",
    "torch.save(x, f'/kaggle/working/{model_name}_big.pt')"
   ]
  },
  {
   "cell_type": "code",
   "execution_count": 31,
   "id": "fee517c9",
   "metadata": {
    "execution": {
     "iopub.execute_input": "2023-09-22T07:09:10.714202Z",
     "iopub.status.busy": "2023-09-22T07:09:10.713870Z",
     "iopub.status.idle": "2023-09-22T07:09:10.720129Z",
     "shell.execute_reply": "2023-09-22T07:09:10.719226Z"
    },
    "papermill": {
     "duration": 0.189494,
     "end_time": "2023-09-22T07:09:10.722073",
     "exception": false,
     "start_time": "2023-09-22T07:09:10.532579",
     "status": "completed"
    },
    "tags": []
   },
   "outputs": [],
   "source": [
    "f = torch.load(f'/kaggle/working/{model_name}_big.pt')"
   ]
  },
  {
   "cell_type": "code",
   "execution_count": 32,
   "id": "b01c317c",
   "metadata": {
    "execution": {
     "iopub.execute_input": "2023-09-22T07:09:11.085494Z",
     "iopub.status.busy": "2023-09-22T07:09:11.084790Z",
     "iopub.status.idle": "2023-09-22T07:09:11.090955Z",
     "shell.execute_reply": "2023-09-22T07:09:11.090044Z"
    },
    "papermill": {
     "duration": 0.192197,
     "end_time": "2023-09-22T07:09:11.092954",
     "exception": false,
     "start_time": "2023-09-22T07:09:10.900757",
     "status": "completed"
    },
    "tags": []
   },
   "outputs": [
    {
     "data": {
      "text/plain": [
       "TensorShape([1943, 4])"
      ]
     },
     "execution_count": 32,
     "metadata": {},
     "output_type": "execute_result"
    }
   ],
   "source": [
    "f.shape"
   ]
  },
  {
   "cell_type": "code",
   "execution_count": 33,
   "id": "113842dd",
   "metadata": {
    "execution": {
     "iopub.execute_input": "2023-09-22T07:09:11.454523Z",
     "iopub.status.busy": "2023-09-22T07:09:11.453882Z",
     "iopub.status.idle": "2023-09-22T07:09:11.472034Z",
     "shell.execute_reply": "2023-09-22T07:09:11.471021Z"
    },
    "papermill": {
     "duration": 0.200777,
     "end_time": "2023-09-22T07:09:11.474727",
     "exception": false,
     "start_time": "2023-09-22T07:09:11.273950",
     "status": "completed"
    },
    "tags": []
   },
   "outputs": [
    {
     "name": "stdout",
     "output_type": "stream",
     "text": [
      "torch.Size([1943, 4])\n",
      "0.037132853703101\n"
     ]
    }
   ],
   "source": [
    "x = torch.from_numpy(test_y)\n",
    "# torch.save(x, '/kaggle/working/test_y.pt')\n",
    "print(x.shape)\n",
    "print(mean_squared_error(x,f))"
   ]
  },
  {
   "cell_type": "markdown",
   "id": "16d44f51",
   "metadata": {
    "papermill": {
     "duration": 0.180443,
     "end_time": "2023-09-22T07:09:11.896713",
     "exception": false,
     "start_time": "2023-09-22T07:09:11.716270",
     "status": "completed"
    },
    "tags": []
   },
   "source": [
    "# RDs: LSTM -> DNN, Embeddings:DNN"
   ]
  },
  {
   "cell_type": "code",
   "execution_count": 34,
   "id": "c730f18b",
   "metadata": {
    "execution": {
     "iopub.execute_input": "2023-09-22T07:09:12.260315Z",
     "iopub.status.busy": "2023-09-22T07:09:12.259961Z",
     "iopub.status.idle": "2023-09-22T07:09:12.325849Z",
     "shell.execute_reply": "2023-09-22T07:09:12.324662Z"
    },
    "papermill": {
     "duration": 0.24925,
     "end_time": "2023-09-22T07:09:12.328146",
     "exception": false,
     "start_time": "2023-09-22T07:09:12.078896",
     "status": "completed"
    },
    "tags": []
   },
   "outputs": [
    {
     "name": "stdout",
     "output_type": "stream",
     "text": [
      "train_X shape: (4220, 896, 1)\n",
      "train_e shape: (4220, 300)\n",
      "train_y shape: (4220, 4)\n",
      "~~~~~~~~\n",
      "test_X shape: (1943, 896, 1)\n",
      "test_e shape: (1943, 300)\n",
      "test_y shape: (1943, 4)\n",
      "[[ 0.09458411 -0.25581078 -0.32419651 ...  0.28993452  0.32376586\n",
      "  -0.33153817]\n",
      " [ 0.09458411 -0.25581078 -0.32419651 ...  0.28993452  0.32376586\n",
      "  -0.33153817]\n",
      " [ 0.09458411 -0.25581078 -0.32419651 ...  0.28993452  0.32376586\n",
      "  -0.33153817]\n",
      " [ 0.09458411 -0.25581078 -0.32419651 ...  0.28993452  0.32376586\n",
      "  -0.33153817]\n",
      " [ 0.09458411 -0.25581078 -0.32419651 ...  0.28993452  0.32376586\n",
      "  -0.33153817]]\n"
     ]
    }
   ],
   "source": [
    "output_columns = ['1024', '2048', '4096', '8192']\n",
    "train_y = train_mrs[output_columns].to_numpy()\n",
    "test_y = test_mrs[output_columns].to_numpy()\n",
    "\n",
    "scale = 1\n",
    "\n",
    "if scale:\n",
    "    train_rdss = scaler.transform(train_rds)\n",
    "    test_rdss = scaler.transform(test_rds)\n",
    "    train_embeddingss = embedding_scaler.transform(train_embeddings)\n",
    "    test_embeddingss  = embedding_scaler.transform(test_embeddings)\n",
    "else:\n",
    "    train_rdss = train_rds.to_numpy()\n",
    "    test_rdss = test_rds.to_numpy()\n",
    "    train_embeddingss = train_embeddings\n",
    "    test_embeddingss  = test_embeddings\n",
    "    \n",
    "train_X = np.reshape(train_rdss, (train_rds.shape[0], 896, 1))\n",
    "test_X = np.reshape(test_rdss, (test_rds.shape[0], 896, 1))\n",
    "train_emb = np.reshape(train_embeddingss, (train_embeddings.shape[0], 300))\n",
    "test_emb = np.reshape(test_embeddingss, (test_embeddings.shape[0], 300))\n",
    "\n",
    "print('train_X shape:',train_X.shape)\n",
    "print('train_e shape:',train_emb.shape)\n",
    "print('train_y shape:',train_y.shape)\n",
    "print('~~~~~~~~')\n",
    "print('test_X shape:',test_X.shape)\n",
    "print('test_e shape:',test_emb.shape)\n",
    "print('test_y shape:',test_y.shape)\n",
    "print(train_emb[:5])"
   ]
  },
  {
   "cell_type": "code",
   "execution_count": 35,
   "id": "6df6a0bf",
   "metadata": {
    "execution": {
     "iopub.execute_input": "2023-09-22T07:09:12.696102Z",
     "iopub.status.busy": "2023-09-22T07:09:12.695747Z",
     "iopub.status.idle": "2023-09-22T07:09:12.700772Z",
     "shell.execute_reply": "2023-09-22T07:09:12.699659Z"
    },
    "papermill": {
     "duration": 0.187221,
     "end_time": "2023-09-22T07:09:12.702866",
     "exception": false,
     "start_time": "2023-09-22T07:09:12.515645",
     "status": "completed"
    },
    "tags": []
   },
   "outputs": [],
   "source": [
    "train_X_rev = np.flip(train_X, axis=1)\n",
    "test_X_rev = np.flip(test_X, axis=1)"
   ]
  },
  {
   "cell_type": "code",
   "execution_count": 36,
   "id": "d10a3bd0",
   "metadata": {
    "execution": {
     "iopub.execute_input": "2023-09-22T07:09:13.067823Z",
     "iopub.status.busy": "2023-09-22T07:09:13.067462Z",
     "iopub.status.idle": "2023-09-22T07:09:14.194228Z",
     "shell.execute_reply": "2023-09-22T07:09:14.193325Z"
    },
    "papermill": {
     "duration": 1.341199,
     "end_time": "2023-09-22T07:09:14.224495",
     "exception": false,
     "start_time": "2023-09-22T07:09:12.883296",
     "status": "completed"
    },
    "tags": []
   },
   "outputs": [
    {
     "name": "stdout",
     "output_type": "stream",
     "text": [
      "(None, 128)\n",
      "(1943, 4)\n",
      "0.1422855789969752\n",
      "Model: \"model_4\"\n",
      "__________________________________________________________________________________________________\n",
      " Layer (type)                   Output Shape         Param #     Connected to                     \n",
      "==================================================================================================\n",
      " input_10 (InputLayer)          [(None, 896, 1)]     0           []                               \n",
      "                                                                                                  \n",
      " lstm_2 (LSTM)                  [(None, 896, 16),    1152        ['input_10[0][0]']               \n",
      "                                 (None, 16),                                                      \n",
      "                                 (None, 16)]                                                      \n",
      "                                                                                                  \n",
      " input_11 (InputLayer)          [(None, 896, 1)]     0           []                               \n",
      "                                                                                                  \n",
      " lstm_3 (LSTM)                  (None, 896, 16)      1152        ['input_11[0][0]',               \n",
      "                                                                  'lstm_2[0][1]',                 \n",
      "                                                                  'lstm_2[0][2]']                 \n",
      "                                                                                                  \n",
      " concatenate_3 (Concatenate)    (None, 896, 32)      0           ['lstm_2[0][0]',                 \n",
      "                                                                  'lstm_3[0][0]']                 \n",
      "                                                                                                  \n",
      " flatten_3 (Flatten)            (None, 28672)        0           ['concatenate_3[0][0]']          \n",
      "                                                                                                  \n",
      " input_9 (InputLayer)           [(None, 300)]        0           []                               \n",
      "                                                                                                  \n",
      " dense_15 (Dense)               (None, 128)          3670144     ['flatten_3[0][0]']              \n",
      "                                                                                                  \n",
      " dense_14 (Dense)               (None, 128)          38528       ['input_9[0][0]']                \n",
      "                                                                                                  \n",
      " layer_normalization_10 (LayerN  (None, 128)         256         ['dense_15[0][0]']               \n",
      " ormalization)                                                                                    \n",
      "                                                                                                  \n",
      " layer_normalization_9 (LayerNo  (None, 128)         256         ['dense_14[0][0]']               \n",
      " rmalization)                                                                                     \n",
      "                                                                                                  \n",
      " concatenate_4 (Concatenate)    (None, 256)          0           ['layer_normalization_10[0][0]', \n",
      "                                                                  'layer_normalization_9[0][0]']  \n",
      "                                                                                                  \n",
      " dropout_3 (Dropout)            (None, 256)          0           ['concatenate_4[0][0]']          \n",
      "                                                                                                  \n",
      " dense_16 (Dense)               (None, 1024)         263168      ['dropout_3[0][0]']              \n",
      "                                                                                                  \n",
      " dense_17 (Dense)               (None, 4)            4100        ['dense_16[0][0]']               \n",
      "                                                                                                  \n",
      "==================================================================================================\n",
      "Total params: 3,978,756\n",
      "Trainable params: 3,978,756\n",
      "Non-trainable params: 0\n",
      "__________________________________________________________________________________________________\n"
     ]
    }
   ],
   "source": [
    "def create_lstm_model(att_nodes = 64, dnn_nodes = 1024):\n",
    "    \n",
    "    embedding_inputs = Input(shape=(300))\n",
    "    dense_emb = Dense(att_nodes, activation='relu')\n",
    "    embedding_outputs = dense_emb(embedding_inputs)\n",
    "    \n",
    "#     expand_layer = tf.keras.layers.Reshape((conv_out,1))\n",
    "#     embedding_outputs = expand_layer(embedding_outputs1)\n",
    "    \n",
    "    print(embedding_outputs.shape)\n",
    "    # CNN Layers\n",
    "    hist_inputs = Input(shape=(896, 1))\n",
    "    \n",
    "    lstm1 = LSTM(16, return_sequences=True, return_state=True)\n",
    "    lstm_output1, state_h, state_c = lstm1(hist_inputs)\n",
    "    \n",
    "    encoder_states = [state_h, state_c]\n",
    "    \n",
    "    rev_inputs = Input(shape=(896, 1))\n",
    "    lstm2 = LSTM(16, return_sequences=True)\n",
    "    lstm_output2 = lstm2(rev_inputs, initial_state=encoder_states)\n",
    "    \n",
    "#     print(lstm_output1.shape, lstm_output1)\n",
    "    \n",
    "#     attention = Attention()\n",
    "#     attention_output = attention([lstm_output1, lstm_output2])\n",
    "    \n",
    "    attention_output = tf.keras.layers.Concatenate()([lstm_output1, lstm_output2])\n",
    "\n",
    "    lstm_outputs = tf.keras.layers.Flatten()(attention_output)\n",
    "\n",
    "\n",
    "    dense_hist = Dense(att_nodes, activation='relu')\n",
    "    hist_outputs = dense_hist(lstm_outputs)\n",
    "    \n",
    "    emb_norm = tf.keras.layers.LayerNormalization(axis=-1)\n",
    "    embedding_outputs = emb_norm(embedding_outputs)\n",
    "    \n",
    "    hist_norm = tf.keras.layers.LayerNormalization(axis=-1)\n",
    "    hist_outputs = hist_norm(hist_outputs)\n",
    "    \n",
    "    attention_output = tf.keras.layers.Concatenate()([hist_outputs, embedding_outputs])\n",
    "\n",
    "    \n",
    "    drop_layer = tf.keras.layers.Dropout(0.2)\n",
    "    attention_output = drop_layer(attention_output)\n",
    "    \n",
    "    att_norm = tf.keras.layers.LayerNormalization(axis=-1)\n",
    "    dense_input = attention_output # att_norm(attention_output)\n",
    "    \n",
    "    dense_layer1 = Dense(dnn_nodes, activation='relu')\n",
    "    dense_output1 = dense_layer1(dense_input)\n",
    "    \n",
    "    dense_layer2 = Dense(len(output_columns), activation='sigmoid')\n",
    "    total_output = dense_layer2(dense_output1)\n",
    "\n",
    "    model = Model([hist_inputs, rev_inputs, embedding_inputs], total_output)\n",
    "    # model.summary()\n",
    "    model.compile(optimizer=\"adam\", loss=\"mse\")\n",
    "    y_pred = model([test_X, test_X_rev, test_emb])\n",
    "    print(y_pred.shape)\n",
    "    print(mean_squared_error(y_pred, test_y))\n",
    "    return model\n",
    "create_lstm_model(128, 1024).summary()"
   ]
  },
  {
   "cell_type": "code",
   "execution_count": 37,
   "id": "aa55ae11",
   "metadata": {
    "execution": {
     "iopub.execute_input": "2023-09-22T07:09:14.593528Z",
     "iopub.status.busy": "2023-09-22T07:09:14.593150Z",
     "iopub.status.idle": "2023-09-22T07:25:29.838375Z",
     "shell.execute_reply": "2023-09-22T07:25:29.837357Z"
    },
    "papermill": {
     "duration": 975.431538,
     "end_time": "2023-09-22T07:25:29.840753",
     "exception": false,
     "start_time": "2023-09-22T07:09:14.409215",
     "status": "completed"
    },
    "tags": []
   },
   "outputs": [
    {
     "name": "stdout",
     "output_type": "stream",
     "text": [
      "(None, 256)\n",
      "(1943, 4)\n",
      "0.1340275512834403\n",
      "264/264 [==============================] - 22s 62ms/step - loss: 0.0213 - val_loss: 0.0825\n",
      "264/264 [==============================] - 15s 57ms/step - loss: 0.0067 - val_loss: 0.0445\n",
      "264/264 [==============================] - 15s 57ms/step - loss: 0.0032 - val_loss: 0.0482\n",
      "264/264 [==============================] - 16s 59ms/step - loss: 0.0021 - val_loss: 0.0442\n",
      "264/264 [==============================] - 15s 57ms/step - loss: 0.0020 - val_loss: 0.0393\n",
      "264/264 [==============================] - 15s 57ms/step - loss: 0.0014 - val_loss: 0.0420\n",
      "264/264 [==============================] - 16s 59ms/step - loss: 0.0012 - val_loss: 0.0371\n",
      "264/264 [==============================] - 15s 57ms/step - loss: 0.0019 - val_loss: 0.0386\n",
      "264/264 [==============================] - 15s 59ms/step - loss: 0.0014 - val_loss: 0.0388\n",
      "264/264 [==============================] - 15s 57ms/step - loss: 0.0012 - val_loss: 0.0426\n",
      "264/264 [==============================] - 15s 57ms/step - loss: 7.9982e-04 - val_loss: 0.0385\n",
      "264/264 [==============================] - 16s 60ms/step - loss: 8.2618e-04 - val_loss: 0.0431\n",
      "264/264 [==============================] - 15s 58ms/step - loss: 8.2171e-04 - val_loss: 0.0432\n",
      "264/264 [==============================] - 16s 59ms/step - loss: 8.7863e-04 - val_loss: 0.0390\n",
      "264/264 [==============================] - 15s 58ms/step - loss: 6.5190e-04 - val_loss: 0.0417\n",
      "264/264 [==============================] - 15s 57ms/step - loss: 6.0601e-04 - val_loss: 0.0392\n",
      "264/264 [==============================] - 16s 59ms/step - loss: 6.5406e-04 - val_loss: 0.0407\n",
      "264/264 [==============================] - 15s 58ms/step - loss: 6.8038e-04 - val_loss: 0.0425\n",
      "264/264 [==============================] - 16s 59ms/step - loss: 6.0897e-04 - val_loss: 0.0414\n",
      "264/264 [==============================] - 15s 58ms/step - loss: 5.9686e-04 - val_loss: 0.0426\n",
      "264/264 [==============================] - 15s 57ms/step - loss: 6.1463e-04 - val_loss: 0.0416\n",
      "264/264 [==============================] - 15s 59ms/step - loss: 5.6542e-04 - val_loss: 0.0413\n",
      "264/264 [==============================] - 15s 57ms/step - loss: 5.5539e-04 - val_loss: 0.0416\n",
      "264/264 [==============================] - 15s 57ms/step - loss: 5.8506e-04 - val_loss: 0.0421\n",
      "264/264 [==============================] - 16s 60ms/step - loss: 6.6304e-04 - val_loss: 0.0417\n",
      "264/264 [==============================] - 15s 58ms/step - loss: 4.6511e-04 - val_loss: 0.0415\n",
      "264/264 [==============================] - 15s 58ms/step - loss: 4.0226e-04 - val_loss: 0.0412\n",
      "264/264 [==============================] - 16s 59ms/step - loss: 3.9841e-04 - val_loss: 0.0434\n",
      "264/264 [==============================] - 15s 59ms/step - loss: 3.5373e-04 - val_loss: 0.0411\n",
      "264/264 [==============================] - 16s 60ms/step - loss: 4.2971e-04 - val_loss: 0.0410\n",
      "264/264 [==============================] - 15s 58ms/step - loss: 8.2971e-04 - val_loss: 0.0418\n",
      "264/264 [==============================] - 15s 57ms/step - loss: 0.0015 - val_loss: 0.0403\n",
      "264/264 [==============================] - 16s 59ms/step - loss: 7.9576e-04 - val_loss: 0.0469\n",
      "264/264 [==============================] - 15s 58ms/step - loss: 4.3451e-04 - val_loss: 0.0441\n",
      "264/264 [==============================] - 15s 58ms/step - loss: 3.4754e-04 - val_loss: 0.0436\n",
      "264/264 [==============================] - 15s 59ms/step - loss: 3.1155e-04 - val_loss: 0.0448\n",
      "264/264 [==============================] - 16s 59ms/step - loss: 2.8634e-04 - val_loss: 0.0406\n",
      "264/264 [==============================] - 16s 59ms/step - loss: 2.7536e-04 - val_loss: 0.0435\n",
      "264/264 [==============================] - 16s 59ms/step - loss: 2.6098e-04 - val_loss: 0.0426\n",
      "264/264 [==============================] - 16s 60ms/step - loss: 3.2138e-04 - val_loss: 0.0433\n",
      "264/264 [==============================] - 15s 58ms/step - loss: 2.6798e-04 - val_loss: 0.0425\n",
      "264/264 [==============================] - 15s 59ms/step - loss: 2.5167e-04 - val_loss: 0.0424\n",
      "264/264 [==============================] - 16s 59ms/step - loss: 2.6500e-04 - val_loss: 0.0415\n",
      "264/264 [==============================] - 16s 59ms/step - loss: 2.9317e-04 - val_loss: 0.0413\n",
      "264/264 [==============================] - 16s 59ms/step - loss: 2.8680e-04 - val_loss: 0.0427\n",
      "264/264 [==============================] - 16s 60ms/step - loss: 2.3968e-04 - val_loss: 0.0456\n",
      "264/264 [==============================] - 15s 59ms/step - loss: 2.5086e-04 - val_loss: 0.0438\n",
      "264/264 [==============================] - 16s 59ms/step - loss: 2.5884e-04 - val_loss: 0.0408\n",
      "264/264 [==============================] - 16s 60ms/step - loss: 3.7942e-04 - val_loss: 0.0460\n",
      "264/264 [==============================] - 15s 58ms/step - loss: 4.2117e-04 - val_loss: 0.0428\n"
     ]
    }
   ],
   "source": [
    "a = 256\n",
    "b = 0\n",
    "c = 1024\n",
    "mymodel = create_lstm_model(a, c)\n",
    "l = []\n",
    "for i in range(50):\n",
    "    mymodel.fit([train_X, train_X_rev, train_emb], train_y, epochs=1, batch_size=16, shuffle=True, validation_data=([test_X, test_X_rev, test_emb], test_y))\n",
    "    l.append(mymodel([test_X, test_X_rev, test_emb]))"
   ]
  },
  {
   "cell_type": "code",
   "execution_count": 38,
   "id": "d3f6dd68",
   "metadata": {
    "execution": {
     "iopub.execute_input": "2023-09-22T07:25:31.494250Z",
     "iopub.status.busy": "2023-09-22T07:25:31.493848Z",
     "iopub.status.idle": "2023-09-22T07:25:31.534615Z",
     "shell.execute_reply": "2023-09-22T07:25:31.533647Z"
    },
    "papermill": {
     "duration": 0.869274,
     "end_time": "2023-09-22T07:25:31.536795",
     "exception": false,
     "start_time": "2023-09-22T07:25:30.667521",
     "status": "completed"
    },
    "tags": []
   },
   "outputs": [],
   "source": [
    "x = min(l, key=lambda x:mean_squared_error(x, test_y))\n",
    "torch.save(x, f'/kaggle/working/{model_name}_lstm.pt')"
   ]
  },
  {
   "cell_type": "code",
   "execution_count": 39,
   "id": "cb654799",
   "metadata": {
    "execution": {
     "iopub.execute_input": "2023-09-22T07:25:33.134898Z",
     "iopub.status.busy": "2023-09-22T07:25:33.134510Z",
     "iopub.status.idle": "2023-09-22T07:25:33.143284Z",
     "shell.execute_reply": "2023-09-22T07:25:33.142034Z"
    },
    "papermill": {
     "duration": 0.835945,
     "end_time": "2023-09-22T07:25:33.145755",
     "exception": false,
     "start_time": "2023-09-22T07:25:32.309810",
     "status": "completed"
    },
    "tags": []
   },
   "outputs": [
    {
     "name": "stdout",
     "output_type": "stream",
     "text": [
      "0.03707690081494065\n"
     ]
    }
   ],
   "source": [
    "f = torch.load( f'/kaggle/working/{model_name}_lstm.pt')\n",
    "print(mean_squared_error(f, test_y))"
   ]
  },
  {
   "cell_type": "code",
   "execution_count": null,
   "id": "2feb8604",
   "metadata": {
    "papermill": {
     "duration": 0.771445,
     "end_time": "2023-09-22T07:25:34.721698",
     "exception": false,
     "start_time": "2023-09-22T07:25:33.950253",
     "status": "completed"
    },
    "tags": []
   },
   "outputs": [],
   "source": []
  }
 ],
 "metadata": {
  "kernelspec": {
   "display_name": "Python 3",
   "language": "python",
   "name": "python3"
  },
  "language_info": {
   "codemirror_mode": {
    "name": "ipython",
    "version": 3
   },
   "file_extension": ".py",
   "mimetype": "text/x-python",
   "name": "python",
   "nbconvert_exporter": "python",
   "pygments_lexer": "ipython3",
   "version": "3.10.12"
  },
  "papermill": {
   "default_parameters": {},
   "duration": 1224.841477,
   "end_time": "2023-09-22T07:25:39.247894",
   "environment_variables": {},
   "exception": null,
   "input_path": "__notebook__.ipynb",
   "output_path": "__notebook__.ipynb",
   "parameters": {},
   "start_time": "2023-09-22T07:05:14.406417",
   "version": "2.4.0"
  }
 },
 "nbformat": 4,
 "nbformat_minor": 5
}
