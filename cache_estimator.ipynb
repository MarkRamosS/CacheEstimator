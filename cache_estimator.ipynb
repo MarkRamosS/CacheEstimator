{
 "cells": [
  {
   "cell_type": "code",
   "execution_count": 1,
   "id": "22ba1f53",
   "metadata": {},
   "outputs": [],
   "source": [
    "import os \n",
    "import csv\n",
    "import random\n",
    "import pandas as pd\n",
    "import numpy as np\n",
    "import matplotlib.pyplot as plt"
   ]
  },
  {
   "cell_type": "code",
   "execution_count": 2,
   "id": "c107c218",
   "metadata": {},
   "outputs": [],
   "source": [
    "cache_misses = pd.read_csv(\"../ce_data/caches/llc_miss_ratio.csv\")"
   ]
  },
  {
   "cell_type": "code",
   "execution_count": 3,
   "id": "17f364ef",
   "metadata": {},
   "outputs": [
    {
     "name": "stdout",
     "output_type": "stream",
     "text": [
      "[31, 105, 128]\n"
     ]
    }
   ],
   "source": [
    "rnd = [random.randrange(189), random.randrange(189), random.randrange(189)]\n",
    "print(rnd)"
   ]
  },
  {
   "cell_type": "code",
   "execution_count": 4,
   "id": "e4d00533",
   "metadata": {},
   "outputs": [],
   "source": [
    "reuse_distances = pd.DataFrame()\n",
    "test_distances = pd.DataFrame()\n",
    "tmp_ctr = 0\n",
    "for file in os.listdir(\"../ce_data/reuse_distances\"):\n",
    "    x = pd.read_csv(\"../ce_data/reuse_distances/\"+file)\n",
    "    if tmp_ctr in rnd:\n",
    "        test_distances = pd.concat([test_distances, x], ignore_index=True)\n",
    "    else:\n",
    "        reuse_distances = pd.concat([reuse_distances, x], ignore_index=True)\n",
    "    tmp_ctr +=1"
   ]
  },
  {
   "cell_type": "code",
   "execution_count": 5,
   "id": "2569ea7e",
   "metadata": {},
   "outputs": [],
   "source": [
    "test_misses = cache_misses.loc[cache_misses['id'].isin(test_distances['id'])]\n",
    "cache_misses = cache_misses.loc[~cache_misses['id'].isin(test_distances['id'])]"
   ]
  },
  {
   "cell_type": "code",
   "execution_count": 6,
   "id": "b560f234",
   "metadata": {},
   "outputs": [],
   "source": [
    "cache_misses = cache_misses.sort_values(\"id\", ascending=True, ignore_index=True)\n",
    "reuse_distances = reuse_distances.sort_values(\"id\", ascending=True, ignore_index=True)\n",
    "test_misses = test_misses.sort_values(\"id\", ascending=True, ignore_index=True)\n",
    "test_distances = test_distances.sort_values(\"id\", ascending=True, ignore_index=True)"
   ]
  },
  {
   "cell_type": "code",
   "execution_count": 7,
   "id": "4560ce8a",
   "metadata": {},
   "outputs": [
    {
     "name": "stdout",
     "output_type": "stream",
     "text": [
      "                           id        32        64       128       256  \\\n",
      "0         400.perlbench-41B_0  1.000000  1.000000  1.000000  0.998652   \n",
      "1         400.perlbench-41B_1  1.000000  1.000000  1.000000  1.000000   \n",
      "2        400.perlbench-41B_10  1.000000  0.997375  0.997375  0.997375   \n",
      "3       400.perlbench-41B_100  0.996656  0.996656  0.996656  0.993311   \n",
      "4       400.perlbench-41B_101  1.000000  1.000000  1.000000  1.000000   \n",
      "...                       ...       ...       ...       ...       ...   \n",
      "139309        657.xz_s-56B_95  1.000000  1.000000  1.000000  1.000000   \n",
      "139310        657.xz_s-56B_96  1.000000  1.000000  1.000000  1.000000   \n",
      "139311        657.xz_s-56B_97  1.000000  1.000000  1.000000  1.000000   \n",
      "139312        657.xz_s-56B_98  1.000000  1.000000  1.000000  1.000000   \n",
      "139313        657.xz_s-56B_99  1.000000  1.000000  1.000000  1.000000   \n",
      "\n",
      "             512      1024      2048      4096      8192  \n",
      "0       0.889488  0.828841  0.803235  0.773585  0.768194  \n",
      "1       0.928650  0.875960  0.849616  0.839737  0.837541  \n",
      "2       0.968504  0.866142  0.842520  0.826772  0.821522  \n",
      "3       0.923077  0.872910  0.866221  0.785953  0.060201  \n",
      "4       0.964865  0.878378  0.872973  0.724324  0.051351  \n",
      "...          ...       ...       ...       ...       ...  \n",
      "139309  1.000000  1.000000  1.000000  1.000000  1.000000  \n",
      "139310  1.000000  1.000000  1.000000  1.000000  1.000000  \n",
      "139311  1.000000  1.000000  1.000000  1.000000  1.000000  \n",
      "139312  1.000000  1.000000  1.000000  1.000000  1.000000  \n",
      "139313  1.000000  1.000000  1.000000  1.000000  1.000000  \n",
      "\n",
      "[139314 rows x 10 columns]\n",
      "                           id       0      1      2      3     4      5  \\\n",
      "0         400.perlbench-41B_0  105856  45136  24544  15840  4704   9104   \n",
      "1         400.perlbench-41B_1   94192  48656  27200  16912  5280   8448   \n",
      "2        400.perlbench-41B_10  124640  34992  24752  16704  4848  11360   \n",
      "3       400.perlbench-41B_100  138608  28736  28384  18800  5680  14480   \n",
      "4       400.perlbench-41B_101   99040  37504  26352  16160  5584   8528   \n",
      "...                       ...     ...    ...    ...    ...   ...    ...   \n",
      "139309        657.xz_s-56B_95   46768  55680  10256   2000  4768    880   \n",
      "139310        657.xz_s-56B_96   46560  55840  10224   1936  4784    912   \n",
      "139311        657.xz_s-56B_97   46640  55824  10432   2000  4736    896   \n",
      "139312        657.xz_s-56B_98   46656  55968  10240   1984  4736    864   \n",
      "139313        657.xz_s-56B_99   46832  55552  10256   2000  4816    896   \n",
      "\n",
      "            6      7     8  ...  3623878656  3690987520  3758096384  \\\n",
      "0       20144   6368  7968  ...           0           0           0   \n",
      "1       17264   3840  2960  ...           0           0           0   \n",
      "2       21296  12656  8256  ...           0           0           0   \n",
      "3       21088  12048  4640  ...           0           0           0   \n",
      "4       18192   3824  9088  ...           0           0           0   \n",
      "...       ...    ...   ...  ...         ...         ...         ...   \n",
      "139309   2000   2080   320  ...           0           0           0   \n",
      "139310   1984   2112   304  ...           0           0           0   \n",
      "139311   2000   2096   304  ...           0           0           0   \n",
      "139312   1984   2096   320  ...           0           0           0   \n",
      "139313   1984   2064   320  ...           0           0           0   \n",
      "\n",
      "        3825205248  3892314112  3959422976  4026531840  4093640704  \\\n",
      "0                0           0           0           0           0   \n",
      "1                0           0           0           0           0   \n",
      "2                0           0           0           0           0   \n",
      "3                0           0           0           0           0   \n",
      "4                0           0           0           0           0   \n",
      "...            ...         ...         ...         ...         ...   \n",
      "139309           0           0           0           0           0   \n",
      "139310           0           0           0           0           0   \n",
      "139311           0           0           0           0           0   \n",
      "139312           0           0           0           0           0   \n",
      "139313           0           0           0           0           0   \n",
      "\n",
      "        4160749568  4227858432  \n",
      "0                0           0  \n",
      "1                0           0  \n",
      "2                0           0  \n",
      "3                0           0  \n",
      "4                0           0  \n",
      "...            ...         ...  \n",
      "139309           0           0  \n",
      "139310           0           0  \n",
      "139311           0           0  \n",
      "139312           0           0  \n",
      "139313           0           0  \n",
      "\n",
      "[139314 rows x 897 columns]\n",
      "                         id      0      1      2      3       4      5      6  \\\n",
      "0       437.leslie3d-271B_0  17824  30528  12064  24016   37696  44832  50080   \n",
      "1       437.leslie3d-271B_1  17712  30544  11840  24096   37280  45728  51296   \n",
      "2      437.leslie3d-271B_10  21936  32016  30080  50848  125616  46768  21888   \n",
      "3     437.leslie3d-271B_100   9344  18224  31936  35248   37088  28992  23216   \n",
      "4     437.leslie3d-271B_101   9040  17872  33328  35280   34432  28496  24448   \n",
      "...                     ...    ...    ...    ...    ...     ...    ...    ...   \n",
      "2242     621.wrf_s-6673B_95  12160  27968  31488  35040   36176  58208  32784   \n",
      "2243     621.wrf_s-6673B_96  12784  29552  30416  33456   38048  62448  34768   \n",
      "2244     621.wrf_s-6673B_97  13808  23216  25904  27520   33152  47568  38912   \n",
      "2245     621.wrf_s-6673B_98  13808  18912  20272  22368   23312  29456  43408   \n",
      "2246     621.wrf_s-6673B_99  14992  17728  19504  23120   24240  26960  33440   \n",
      "\n",
      "          7      8  ...  3623878656  3690987520  3758096384  3825205248  \\\n",
      "0     42048  45984  ...           0           0           0           0   \n",
      "1     42128  45584  ...           0           0           0           0   \n",
      "2     13808   6464  ...           0           0           0           0   \n",
      "3     28656  16480  ...           0           0           0           0   \n",
      "4     27920  17456  ...           0           0           0           0   \n",
      "...     ...    ...  ...         ...         ...         ...         ...   \n",
      "2242  35568  14304  ...           0           0           0           0   \n",
      "2243  32688  13680  ...           0           0           0           0   \n",
      "2244  42768  38144  ...           0           0           0           0   \n",
      "2245  55504  62512  ...           0           0           0           0   \n",
      "2246  49440  53424  ...           0           0           0           0   \n",
      "\n",
      "      3892314112  3959422976  4026531840  4093640704  4160749568  4227858432  \n",
      "0              0           0           0           0           0           0  \n",
      "1              0           0           0           0           0           0  \n",
      "2              0           0           0           0           0           0  \n",
      "3              0           0           0           0           0           0  \n",
      "4              0           0           0           0           0           0  \n",
      "...          ...         ...         ...         ...         ...         ...  \n",
      "2242           0           0           0           0           0           0  \n",
      "2243           0           0           0           0           0           0  \n",
      "2244           0           0           0           0           0           0  \n",
      "2245           0           0           0           0           0           0  \n",
      "2246           0           0           0           0           0           0  \n",
      "\n",
      "[2247 rows x 897 columns]\n",
      "                         id   32   64  128       256       512      1024  \\\n",
      "0       437.leslie3d-271B_0  1.0  1.0  1.0  1.000000  0.946858  0.655705   \n",
      "1       437.leslie3d-271B_1  1.0  1.0  1.0  1.000000  0.970639  0.654811   \n",
      "2      437.leslie3d-271B_10  1.0  1.0  1.0  1.000000  0.962439  0.757442   \n",
      "3     437.leslie3d-271B_100  1.0  1.0  1.0  0.997455  0.938849  0.863973   \n",
      "4     437.leslie3d-271B_101  1.0  1.0  1.0  1.000000  0.955817  0.867917   \n",
      "...                     ...  ...  ...  ...       ...       ...       ...   \n",
      "2242     621.wrf_s-6673B_95  1.0  1.0  1.0  0.999917  0.949014  0.780959   \n",
      "2243     621.wrf_s-6673B_96  1.0  1.0  1.0  1.000000  0.966382  0.746341   \n",
      "2244     621.wrf_s-6673B_97  1.0  1.0  1.0  1.000000  0.945579  0.739875   \n",
      "2245     621.wrf_s-6673B_98  1.0  1.0  1.0  1.000000  0.971423  0.755427   \n",
      "2246     621.wrf_s-6673B_99  1.0  1.0  1.0  0.999938  0.957589  0.746674   \n",
      "\n",
      "          2048      4096      8192  \n",
      "0     0.655705  0.655749  0.655705  \n",
      "1     0.654811  0.654811  0.654811  \n",
      "2     0.757416  0.753544  0.563749  \n",
      "3     0.863973  0.665716  0.528994  \n",
      "4     0.867917  0.653128  0.530502  \n",
      "...        ...       ...       ...  \n",
      "2242  0.285537  0.252537  0.219560  \n",
      "2243  0.326846  0.244652  0.221168  \n",
      "2244  0.302651  0.263692  0.218717  \n",
      "2245  0.283241  0.243078  0.217746  \n",
      "2246  0.435290  0.326546  0.271860  \n",
      "\n",
      "[2247 rows x 10 columns]\n"
     ]
    }
   ],
   "source": [
    "print(cache_misses)\n",
    "print(reuse_distances)\n",
    "print(test_distances)\n",
    "print(test_misses)"
   ]
  },
  {
   "cell_type": "code",
   "execution_count": 8,
   "id": "8c04f263",
   "metadata": {},
   "outputs": [],
   "source": [
    "# Quick check if all columns are the same\n",
    "for i,j in zip(reuse_distances['id'], cache_misses['id']):\n",
    "    if i!=j:\n",
    "        print(i, j)"
   ]
  },
  {
   "cell_type": "code",
   "execution_count": 9,
   "id": "e860ea42",
   "metadata": {},
   "outputs": [],
   "source": [
    "from sklearn.model_selection import train_test_split\n",
    "X_train, X_test, y_train, y_test = train_test_split(reuse_distances,cache_misses, test_size=0.1)"
   ]
  },
  {
   "cell_type": "code",
   "execution_count": 10,
   "id": "44869d49",
   "metadata": {},
   "outputs": [
    {
     "name": "stdout",
     "output_type": "stream",
     "text": [
      "31748          445.gobmk-36B_36\n",
      "42892         458.sjeng-31B_278\n",
      "137200       657.xz_s-3167B_218\n",
      "63839     482.sphinx3-1297B_255\n",
      "12427           429.mcf-22B_498\n",
      "                  ...          \n",
      "18581      435.gromacs-226B_643\n",
      "18363      435.gromacs-226B_447\n",
      "57268        473.astar-359B_408\n",
      "130968     654.roms_s-1021B_677\n",
      "5781            403.gcc-17B_583\n",
      "Name: id, Length: 125382, dtype: object\n"
     ]
    }
   ],
   "source": [
    "X_train_ids = X_train[\"id\"]\n",
    "X_test_ids = X_test[\"id\"]\n",
    "y_train_ids = y_train[\"id\"]\n",
    "y_test_ids = y_test[\"id\"]\n",
    "\n",
    "print(X_train_ids)"
   ]
  },
  {
   "cell_type": "code",
   "execution_count": 11,
   "id": "5a569df1",
   "metadata": {},
   "outputs": [],
   "source": [
    "X_train = X_train.drop(columns=[\"id\"])\n",
    "X_test = X_test.drop(columns=[\"id\"])\n",
    "y_train = y_train.drop(columns=[\"id\"])\n",
    "y_test = y_test.drop(columns=[\"id\"])"
   ]
  },
  {
   "cell_type": "code",
   "execution_count": 12,
   "id": "3c537454",
   "metadata": {},
   "outputs": [
    {
     "name": "stdout",
     "output_type": "stream",
     "text": [
      "(125382, 896) (13932, 896)\n",
      "(125382, 9) (13932, 9)\n"
     ]
    }
   ],
   "source": [
    "print(X_train.shape, X_test.shape)\n",
    "print(y_train.shape, y_test.shape)"
   ]
  },
  {
   "cell_type": "code",
   "execution_count": 13,
   "id": "6b1fbf9a",
   "metadata": {},
   "outputs": [
    {
     "name": "stdout",
     "output_type": "stream",
     "text": [
      "Index(['0', '1', '2', '3', '4', '5', '6', '7', '8', '9',\n",
      "       ...\n",
      "       '3623878656', '3690987520', '3758096384', '3825205248', '3892314112',\n",
      "       '3959422976', '4026531840', '4093640704', '4160749568', '4227858432'],\n",
      "      dtype='object', length=896)\n"
     ]
    }
   ],
   "source": [
    "print(X_train.columns)"
   ]
  },
  {
   "cell_type": "code",
   "execution_count": 14,
   "id": "f228d088",
   "metadata": {},
   "outputs": [
    {
     "name": "stdout",
     "output_type": "stream",
     "text": [
      "Model: \"sequential\"\n",
      "_________________________________________________________________\n",
      " Layer (type)                Output Shape              Param #   \n",
      "=================================================================\n",
      " dense (Dense)               (None, 512)               459264    \n",
      "                                                                 \n",
      " dense_1 (Dense)             (None, 512)               262656    \n",
      "                                                                 \n",
      " dense_2 (Dense)             (None, 9)                 4617      \n",
      "                                                                 \n",
      "=================================================================\n",
      "Total params: 726,537\n",
      "Trainable params: 726,537\n",
      "Non-trainable params: 0\n",
      "_________________________________________________________________\n"
     ]
    }
   ],
   "source": [
    "from keras.models import Sequential\n",
    "from keras.layers import Dense\n",
    "from keras.metrics import MeanSquaredError\n",
    "from keras.losses import MeanSquaredError\n",
    "# Create the model\n",
    "model = Sequential()\n",
    "\n",
    "# Add the input layer and the first hidden layer\n",
    "model.add(Dense(512, input_dim=896, activation='sigmoid'))\n",
    "\n",
    "# Add the second hidden layer\n",
    "model.add(Dense(512, activation='sigmoid'))\n",
    "\n",
    "# Add the output layer\n",
    "model.add(Dense(9, activation='sigmoid'))\n",
    "\n",
    "# Compile the model\n",
    "model.compile(loss=MeanSquaredError() , optimizer='adam')\n",
    "\n",
    "# Print the model summary\n",
    "model.summary()"
   ]
  },
  {
   "cell_type": "code",
   "execution_count": 15,
   "id": "018417f1",
   "metadata": {},
   "outputs": [
    {
     "name": "stdout",
     "output_type": "stream",
     "text": [
      "Epoch 1/20\n",
      "3919/3919 [==============================] - 23s 6ms/step - loss: 0.0695\n",
      "Epoch 2/20\n",
      "3919/3919 [==============================] - 22s 6ms/step - loss: 0.0675\n",
      "Epoch 3/20\n",
      "3919/3919 [==============================] - 22s 6ms/step - loss: 0.0686\n",
      "Epoch 4/20\n",
      "3919/3919 [==============================] - 22s 6ms/step - loss: 0.0646\n",
      "Epoch 5/20\n",
      "3919/3919 [==============================] - 22s 6ms/step - loss: 0.0626\n",
      "Epoch 6/20\n",
      "3919/3919 [==============================] - 22s 6ms/step - loss: 0.0593\n",
      "Epoch 7/20\n",
      "3919/3919 [==============================] - 22s 6ms/step - loss: 0.0609\n",
      "Epoch 8/20\n",
      "3919/3919 [==============================] - 22s 6ms/step - loss: 0.0543\n",
      "Epoch 9/20\n",
      "3919/3919 [==============================] - 22s 6ms/step - loss: 0.0553\n",
      "Epoch 10/20\n",
      "3919/3919 [==============================] - 22s 6ms/step - loss: 0.0578\n",
      "Epoch 11/20\n",
      "3919/3919 [==============================] - 22s 6ms/step - loss: 0.0545\n",
      "Epoch 12/20\n",
      "3919/3919 [==============================] - 22s 6ms/step - loss: 0.0521\n",
      "Epoch 13/20\n",
      "3919/3919 [==============================] - 22s 6ms/step - loss: 0.0531\n",
      "Epoch 14/20\n",
      "3919/3919 [==============================] - 22s 6ms/step - loss: 0.0562\n",
      "Epoch 15/20\n",
      "3919/3919 [==============================] - 22s 6ms/step - loss: 0.0575\n",
      "Epoch 16/20\n",
      "3919/3919 [==============================] - 22s 6ms/step - loss: 0.0555\n",
      "Epoch 17/20\n",
      "3919/3919 [==============================] - 21s 5ms/step - loss: 0.0503\n",
      "Epoch 18/20\n",
      "3919/3919 [==============================] - 21s 5ms/step - loss: 0.0552\n",
      "Epoch 19/20\n",
      "3919/3919 [==============================] - 21s 5ms/step - loss: 0.0515\n",
      "Epoch 20/20\n",
      "3919/3919 [==============================] - 21s 5ms/step - loss: 0.0539\n"
     ]
    },
    {
     "data": {
      "text/plain": [
       "<keras.callbacks.History at 0x2283a0fefa0>"
      ]
     },
     "execution_count": 15,
     "metadata": {},
     "output_type": "execute_result"
    }
   ],
   "source": [
    "model.fit(X_train.to_numpy(), y_train.to_numpy(), epochs=20)"
   ]
  },
  {
   "cell_type": "code",
   "execution_count": 16,
   "id": "bae89238",
   "metadata": {},
   "outputs": [],
   "source": [
    "f = model(X_test.to_numpy())"
   ]
  },
  {
   "cell_type": "code",
   "execution_count": 17,
   "id": "c5b403aa",
   "metadata": {},
   "outputs": [
    {
     "name": "stdout",
     "output_type": "stream",
     "text": [
      "Mean squared error for cache size 32\t: 0.04380860296204889\n",
      "Mean squared error for cache size 64\t: 0.046249517710557936\n",
      "Mean squared error for cache size 128\t: 0.049495517588676895\n",
      "Mean squared error for cache size 256\t: 0.054294298525031474\n",
      "Mean squared error for cache size 512\t: 0.06067280362603706\n",
      "Mean squared error for cache size 1024\t: 0.055309304246600494\n",
      "Mean squared error for cache size 2048\t: 0.06063767239948323\n",
      "Mean squared error for cache size 4096\t: 0.06147204758753704\n",
      "Mean squared error for cache size 8192\t: 0.06127600581091548\n"
     ]
    }
   ],
   "source": [
    "from sklearn.metrics import mean_squared_error\n",
    "# Compare columns\n",
    "for i,j in enumerate(['32','64','128','256','512','1024','2048','4096','8192']):\n",
    "    model_out = f.numpy()[:,i]\n",
    "    y_out = y_test.to_numpy()[:,i]\n",
    "    print(f'Mean squared error for cache size {j}\\t: {mean_squared_error(model_out, y_out)}')"
   ]
  },
  {
   "cell_type": "code",
   "execution_count": 18,
   "id": "fe0c7868",
   "metadata": {},
   "outputs": [
    {
     "name": "stdout",
     "output_type": "stream",
     "text": [
      "tf.Tensor(\n",
      "[[0.9995916  0.9992937  0.9985631  ... 0.8802107  0.8664787  0.7873012 ]\n",
      " [0.99764    0.99599594 0.99151886 ... 0.4698933  0.3877806  0.31591353]\n",
      " [0.99871844 0.99768704 0.9958874  ... 0.59711546 0.4763542  0.4271807 ]\n",
      " ...\n",
      " [0.9995992  0.9992164  0.99837434 ... 0.905261   0.91674143 0.8939051 ]\n",
      " [0.99847585 0.99693114 0.9920211  ... 0.39229855 0.33465594 0.3151484 ]\n",
      " [0.9991931  0.998745   0.9980849  ... 0.91245985 0.85329366 0.808674  ]], shape=(13932, 9), dtype=float32)\n"
     ]
    }
   ],
   "source": [
    "print(f)"
   ]
  },
  {
   "cell_type": "code",
   "execution_count": 19,
   "id": "bc505374",
   "metadata": {},
   "outputs": [
    {
     "name": "stdout",
     "output_type": "stream",
     "text": [
      "[[1.         1.         1.         ... 1.         1.         1.        ]\n",
      " [0.9880035  0.97784483 0.96508214 ... 0.15846044 0.03031499 0.        ]\n",
      " [0.99947674 0.9988862  0.99739864 ... 0.56432957 0.48378658 0.43592791]\n",
      " ...\n",
      " [1.         1.         1.         ... 0.97572118 0.97572118 0.97572118]\n",
      " [0.99929575 0.9983978  0.99698944 ... 0.64754762 0.34766533 0.08350205]\n",
      " [1.         1.         1.         ... 1.         1.         1.        ]] shape = (13932, 9)\n"
     ]
    }
   ],
   "source": [
    "print(y_test.to_numpy(), 'shape =', y_test.to_numpy().shape)"
   ]
  },
  {
   "cell_type": "code",
   "execution_count": 20,
   "id": "d933ee12",
   "metadata": {},
   "outputs": [
    {
     "name": "stdout",
     "output_type": "stream",
     "text": [
      "                         id      0      1      2      3       4      5      6  \\\n",
      "0       437.leslie3d-271B_0  17824  30528  12064  24016   37696  44832  50080   \n",
      "1       437.leslie3d-271B_1  17712  30544  11840  24096   37280  45728  51296   \n",
      "2      437.leslie3d-271B_10  21936  32016  30080  50848  125616  46768  21888   \n",
      "3     437.leslie3d-271B_100   9344  18224  31936  35248   37088  28992  23216   \n",
      "4     437.leslie3d-271B_101   9040  17872  33328  35280   34432  28496  24448   \n",
      "...                     ...    ...    ...    ...    ...     ...    ...    ...   \n",
      "2242     621.wrf_s-6673B_95  12160  27968  31488  35040   36176  58208  32784   \n",
      "2243     621.wrf_s-6673B_96  12784  29552  30416  33456   38048  62448  34768   \n",
      "2244     621.wrf_s-6673B_97  13808  23216  25904  27520   33152  47568  38912   \n",
      "2245     621.wrf_s-6673B_98  13808  18912  20272  22368   23312  29456  43408   \n",
      "2246     621.wrf_s-6673B_99  14992  17728  19504  23120   24240  26960  33440   \n",
      "\n",
      "          7      8  ...  3623878656  3690987520  3758096384  3825205248  \\\n",
      "0     42048  45984  ...           0           0           0           0   \n",
      "1     42128  45584  ...           0           0           0           0   \n",
      "2     13808   6464  ...           0           0           0           0   \n",
      "3     28656  16480  ...           0           0           0           0   \n",
      "4     27920  17456  ...           0           0           0           0   \n",
      "...     ...    ...  ...         ...         ...         ...         ...   \n",
      "2242  35568  14304  ...           0           0           0           0   \n",
      "2243  32688  13680  ...           0           0           0           0   \n",
      "2244  42768  38144  ...           0           0           0           0   \n",
      "2245  55504  62512  ...           0           0           0           0   \n",
      "2246  49440  53424  ...           0           0           0           0   \n",
      "\n",
      "      3892314112  3959422976  4026531840  4093640704  4160749568  4227858432  \n",
      "0              0           0           0           0           0           0  \n",
      "1              0           0           0           0           0           0  \n",
      "2              0           0           0           0           0           0  \n",
      "3              0           0           0           0           0           0  \n",
      "4              0           0           0           0           0           0  \n",
      "...          ...         ...         ...         ...         ...         ...  \n",
      "2242           0           0           0           0           0           0  \n",
      "2243           0           0           0           0           0           0  \n",
      "2244           0           0           0           0           0           0  \n",
      "2245           0           0           0           0           0           0  \n",
      "2246           0           0           0           0           0           0  \n",
      "\n",
      "[2247 rows x 897 columns]\n"
     ]
    }
   ],
   "source": [
    "print(test_distances)"
   ]
  },
  {
   "cell_type": "code",
   "execution_count": 21,
   "id": "b7ac9ba4",
   "metadata": {},
   "outputs": [],
   "source": [
    "tm_ids = test_misses[\"id\"]\n",
    "test_misses = test_misses.drop(columns=[\"id\"])"
   ]
  },
  {
   "cell_type": "code",
   "execution_count": 22,
   "id": "91ee992a",
   "metadata": {},
   "outputs": [],
   "source": [
    "td_ids = test_distances[\"id\"]\n",
    "test_distances = test_distances.drop(columns=[\"id\"])"
   ]
  },
  {
   "cell_type": "code",
   "execution_count": 24,
   "id": "db367ea7",
   "metadata": {},
   "outputs": [],
   "source": [
    "f = model(test_distances.to_numpy())"
   ]
  },
  {
   "cell_type": "code",
   "execution_count": 25,
   "id": "3ed9fed6",
   "metadata": {},
   "outputs": [
    {
     "name": "stdout",
     "output_type": "stream",
     "text": [
      "Mean squared error for cache size 32\t: 0.0014185103344748486\n",
      "Mean squared error for cache size 64\t: 0.0037782744835771916\n",
      "Mean squared error for cache size 128\t: 0.009222021334196692\n",
      "Mean squared error for cache size 256\t: 0.022473753329407913\n",
      "Mean squared error for cache size 512\t: 0.06390969910777379\n",
      "Mean squared error for cache size 1024\t: 0.04887628637288899\n",
      "Mean squared error for cache size 2048\t: 0.06957508706674734\n",
      "Mean squared error for cache size 4096\t: 0.06996495192355792\n",
      "Mean squared error for cache size 8192\t: 0.07727743426022149\n"
     ]
    }
   ],
   "source": [
    "from sklearn.metrics import mean_squared_error\n",
    "# Compare columns\n",
    "for i,j in enumerate(['32','64','128','256','512','1024','2048','4096','8192']):\n",
    "    model_out = f.numpy()[:,i]\n",
    "    y_out = test_misses.to_numpy()[:,i]\n",
    "    print(f'Mean squared error for cache size {j}\\t: {mean_squared_error(model_out, y_out)}')"
   ]
  },
  {
   "cell_type": "code",
   "execution_count": null,
   "id": "3545c907",
   "metadata": {},
   "outputs": [],
   "source": []
  }
 ],
 "metadata": {
  "kernelspec": {
   "display_name": "Local-venv",
   "language": "python",
   "name": "local-venv"
  },
  "language_info": {
   "codemirror_mode": {
    "name": "ipython",
    "version": 3
   },
   "file_extension": ".py",
   "mimetype": "text/x-python",
   "name": "python",
   "nbconvert_exporter": "python",
   "pygments_lexer": "ipython3",
   "version": "3.8.8"
  }
 },
 "nbformat": 4,
 "nbformat_minor": 5
}
