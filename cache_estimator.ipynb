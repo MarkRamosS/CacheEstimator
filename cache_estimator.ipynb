{
 "cells": [
  {
   "cell_type": "code",
   "execution_count": 1,
   "id": "22ba1f53",
   "metadata": {},
   "outputs": [],
   "source": [
    "import os \n",
    "import csv\n",
    "import random\n",
    "import pandas as pd\n",
    "import numpy as np\n",
    "import matplotlib.pyplot as plt"
   ]
  },
  {
   "cell_type": "code",
   "execution_count": 2,
   "id": "17f364ef",
   "metadata": {},
   "outputs": [
    {
     "name": "stdout",
     "output_type": "stream",
     "text": [
      "[163, 28, 6]\n"
     ]
    }
   ],
   "source": [
    "random.seed(42)\n",
    "rnd = [random.randrange(189), random.randrange(189), random.randrange(189)]\n",
    "print(rnd)"
   ]
  },
  {
   "cell_type": "code",
   "execution_count": 3,
   "id": "e4d00533",
   "metadata": {},
   "outputs": [],
   "source": [
    "reuse_distances = pd.DataFrame()\n",
    "test_distances = pd.DataFrame()\n",
    "tmp_ctr = 0\n",
    "for file in os.listdir(\"../ce_data/reuse_distances\"):\n",
    "    x = pd.read_csv(\"../ce_data/reuse_distances/\"+file)\n",
    "    x[\"file\"] = tmp_ctr\n",
    "    reuse_distances = pd.concat([reuse_distances, x], ignore_index=True)\n",
    "    tmp_ctr += 1"
   ]
  },
  {
   "cell_type": "code",
   "execution_count": 4,
   "id": "2569ea7e",
   "metadata": {},
   "outputs": [],
   "source": [
    "cache_misses = pd.read_csv(\"../ce_data/caches/llc_miss_ratio.csv\")"
   ]
  },
  {
   "cell_type": "code",
   "execution_count": 5,
   "id": "a5607613",
   "metadata": {},
   "outputs": [
    {
     "name": "stderr",
     "output_type": "stream",
     "text": [
      "<ipython-input-5-c68c1a061e1d>:7: UserWarning: Boolean Series key will be reindexed to match DataFrame index.\n",
      "  cache_misses = cache_misses[accesses_l1d[i] >= accesses_llc[i]]\n",
      "<ipython-input-5-c68c1a061e1d>:8: UserWarning: Boolean Series key will be reindexed to match DataFrame index.\n",
      "  reuse_distances = reuse_distances[accesses_l1d[i] >= accesses_llc[i]]\n"
     ]
    },
    {
     "name": "stdout",
     "output_type": "stream",
     "text": [
      "                         id   32   64  128       256       512      1024  \\\n",
      "0       400.perlbench-41B_0  1.0  1.0  1.0  0.998652  0.889488  0.828841   \n",
      "1       400.perlbench-41B_1  1.0  1.0  1.0  1.000000  0.928650  0.875960   \n",
      "2       400.perlbench-41B_2  1.0  1.0  1.0  1.000000  0.950963  0.872154   \n",
      "3       400.perlbench-41B_3  1.0  1.0  1.0  1.000000  0.946746  0.866864   \n",
      "4       400.perlbench-41B_4  1.0  1.0  1.0  1.000000  0.956240  0.878444   \n",
      "...                     ...  ...  ...  ...       ...       ...       ...   \n",
      "141556     657.xz_s-56B_744  1.0  1.0  1.0  1.000000  1.000000  1.000000   \n",
      "141557     657.xz_s-56B_745  1.0  1.0  1.0  1.000000  1.000000  1.000000   \n",
      "141558     657.xz_s-56B_746  1.0  1.0  1.0  1.000000  1.000000  1.000000   \n",
      "141559     657.xz_s-56B_747  1.0  1.0  1.0  1.000000  1.000000  1.000000   \n",
      "141560     657.xz_s-56B_748  1.0  1.0  1.0  1.000000  1.000000  1.000000   \n",
      "\n",
      "            2048      4096      8192  \n",
      "0       0.803235  0.773585  0.768194  \n",
      "1       0.849616  0.839737  0.837541  \n",
      "2       0.856392  0.845884  0.844133  \n",
      "3       0.857988  0.840237  0.837278  \n",
      "4       0.858995  0.849271  0.849271  \n",
      "...          ...       ...       ...  \n",
      "141556  1.000000  1.000000  1.000000  \n",
      "141557  1.000000  1.000000  1.000000  \n",
      "141558  1.000000  1.000000  1.000000  \n",
      "141559  1.000000  1.000000  1.000000  \n",
      "141560  1.000000  1.000000  1.000000  \n",
      "\n",
      "[141259 rows x 10 columns]\n"
     ]
    }
   ],
   "source": [
    "accesses_l1d = pd.read_csv(\"../ce_data/caches/l1d_accesses.csv\")\n",
    "accesses_l1d = accesses_l1d.sort_values(\"id\", ignore_index=True)\n",
    "accesses_llc = pd.read_csv(\"../ce_data/caches/llc_accesses.csv\")\n",
    "accesses_llc = accesses_llc.sort_values(\"id\", ignore_index=True)\n",
    "# Drop all rows with l1d accesses < llc accesses\n",
    "for i in ['1024','2048','4096','8192']:\n",
    "    cache_misses = cache_misses[accesses_l1d[i] >= accesses_llc[i]]\n",
    "    reuse_distances = reuse_distances[accesses_l1d[i] >= accesses_llc[i]]\n",
    "print(cache_misses)"
   ]
  },
  {
   "cell_type": "code",
   "execution_count": 11,
   "id": "bbf4c795",
   "metadata": {},
   "outputs": [],
   "source": [
    "test_misses = cache_misses[reuse_distances[\"file\"].isin(rnd)]\n",
    "test_distances = reuse_distances[reuse_distances[\"file\"].isin(rnd)]\n",
    "cache_misses = cache_misses[~reuse_distances[\"file\"].isin(rnd)]\n",
    "reuse_distances = reuse_distances[~reuse_distances[\"file\"].isin(rnd)]"
   ]
  },
  {
   "cell_type": "code",
   "execution_count": 14,
   "id": "645a2fcd",
   "metadata": {},
   "outputs": [],
   "source": [
    "test_distances = test_distances.drop(columns=[\"file\"])\n",
    "reuse_distances = reuse_distances.drop(columns=[\"file\"])"
   ]
  },
  {
   "cell_type": "code",
   "execution_count": 15,
   "id": "b560f234",
   "metadata": {},
   "outputs": [],
   "source": [
    "cache_misses = cache_misses.sort_values(\"id\", ascending=True, ignore_index=True)\n",
    "reuse_distances = reuse_distances.sort_values(\"id\", ascending=True, ignore_index=True)\n",
    "test_misses = test_misses.sort_values(\"id\", ascending=True, ignore_index=True)\n",
    "test_distances = test_distances.sort_values(\"id\", ascending=True, ignore_index=True)"
   ]
  },
  {
   "cell_type": "code",
   "execution_count": 16,
   "id": "3f5f7de9",
   "metadata": {},
   "outputs": [],
   "source": [
    "td_ids = test_distances[\"id\"]\n",
    "test_distances = test_distances.drop(columns=[\"id\"])\n",
    "tm_ids = test_misses[\"id\"]\n",
    "test_misses = test_misses.drop(columns=[\"id\",'32','64','128','256','512'])"
   ]
  },
  {
   "cell_type": "code",
   "execution_count": 17,
   "id": "4560ce8a",
   "metadata": {},
   "outputs": [
    {
     "name": "stdout",
     "output_type": "stream",
     "text": [
      "                           id        32        64       128       256  \\\n",
      "0         400.perlbench-41B_0  1.000000  1.000000  1.000000  0.998652   \n",
      "1         400.perlbench-41B_1  1.000000  1.000000  1.000000  1.000000   \n",
      "2        400.perlbench-41B_10  1.000000  0.997375  0.997375  0.997375   \n",
      "3       400.perlbench-41B_100  0.996656  0.996656  0.996656  0.993311   \n",
      "4       400.perlbench-41B_101  1.000000  1.000000  1.000000  1.000000   \n",
      "...                       ...       ...       ...       ...       ...   \n",
      "139163        657.xz_s-56B_95  1.000000  1.000000  1.000000  1.000000   \n",
      "139164        657.xz_s-56B_96  1.000000  1.000000  1.000000  1.000000   \n",
      "139165        657.xz_s-56B_97  1.000000  1.000000  1.000000  1.000000   \n",
      "139166        657.xz_s-56B_98  1.000000  1.000000  1.000000  1.000000   \n",
      "139167        657.xz_s-56B_99  1.000000  1.000000  1.000000  1.000000   \n",
      "\n",
      "             512      1024      2048      4096      8192  \n",
      "0       0.889488  0.828841  0.803235  0.773585  0.768194  \n",
      "1       0.928650  0.875960  0.849616  0.839737  0.837541  \n",
      "2       0.968504  0.866142  0.842520  0.826772  0.821522  \n",
      "3       0.923077  0.872910  0.866221  0.785953  0.060201  \n",
      "4       0.964865  0.878378  0.872973  0.724324  0.051351  \n",
      "...          ...       ...       ...       ...       ...  \n",
      "139163  1.000000  1.000000  1.000000  1.000000  1.000000  \n",
      "139164  1.000000  1.000000  1.000000  1.000000  1.000000  \n",
      "139165  1.000000  1.000000  1.000000  1.000000  1.000000  \n",
      "139166  1.000000  1.000000  1.000000  1.000000  1.000000  \n",
      "139167  1.000000  1.000000  1.000000  1.000000  1.000000  \n",
      "\n",
      "[139168 rows x 10 columns]\n",
      "                           id       0      1      2      3     4      5  \\\n",
      "0         400.perlbench-41B_0  105856  45136  24544  15840  4704   9104   \n",
      "1         400.perlbench-41B_1   94192  48656  27200  16912  5280   8448   \n",
      "2        400.perlbench-41B_10  124640  34992  24752  16704  4848  11360   \n",
      "3       400.perlbench-41B_100  138608  28736  28384  18800  5680  14480   \n",
      "4       400.perlbench-41B_101   99040  37504  26352  16160  5584   8528   \n",
      "...                       ...     ...    ...    ...    ...   ...    ...   \n",
      "139163        657.xz_s-56B_95   46768  55680  10256   2000  4768    880   \n",
      "139164        657.xz_s-56B_96   46560  55840  10224   1936  4784    912   \n",
      "139165        657.xz_s-56B_97   46640  55824  10432   2000  4736    896   \n",
      "139166        657.xz_s-56B_98   46656  55968  10240   1984  4736    864   \n",
      "139167        657.xz_s-56B_99   46832  55552  10256   2000  4816    896   \n",
      "\n",
      "            6      7     8  ...  3623878656  3690987520  3758096384  \\\n",
      "0       20144   6368  7968  ...           0           0           0   \n",
      "1       17264   3840  2960  ...           0           0           0   \n",
      "2       21296  12656  8256  ...           0           0           0   \n",
      "3       21088  12048  4640  ...           0           0           0   \n",
      "4       18192   3824  9088  ...           0           0           0   \n",
      "...       ...    ...   ...  ...         ...         ...         ...   \n",
      "139163   2000   2080   320  ...           0           0           0   \n",
      "139164   1984   2112   304  ...           0           0           0   \n",
      "139165   2000   2096   304  ...           0           0           0   \n",
      "139166   1984   2096   320  ...           0           0           0   \n",
      "139167   1984   2064   320  ...           0           0           0   \n",
      "\n",
      "        3825205248  3892314112  3959422976  4026531840  4093640704  \\\n",
      "0                0           0           0           0           0   \n",
      "1                0           0           0           0           0   \n",
      "2                0           0           0           0           0   \n",
      "3                0           0           0           0           0   \n",
      "4                0           0           0           0           0   \n",
      "...            ...         ...         ...         ...         ...   \n",
      "139163           0           0           0           0           0   \n",
      "139164           0           0           0           0           0   \n",
      "139165           0           0           0           0           0   \n",
      "139166           0           0           0           0           0   \n",
      "139167           0           0           0           0           0   \n",
      "\n",
      "        4160749568  4227858432  \n",
      "0                0           0  \n",
      "1                0           0  \n",
      "2                0           0  \n",
      "3                0           0  \n",
      "4                0           0  \n",
      "...            ...         ...  \n",
      "139163           0           0  \n",
      "139164           0           0  \n",
      "139165           0           0  \n",
      "139166           0           0  \n",
      "139167           0           0  \n",
      "\n",
      "[139168 rows x 897 columns]\n",
      "           0      1      2      3      4      5      6      7     8     9  \\\n",
      "0      15024   3520   1584   1744   1200    672    752    784   704   608   \n",
      "1       7904   2256    688    784    656    400    528    448   256   416   \n",
      "2      13904   3312   1440   1296    880    720    720    736   768   528   \n",
      "3      12928   2896   1584   1072   1168    544    832    464   464   656   \n",
      "4       7488   1872    832    800    656    384    384    320   432   240   \n",
      "...      ...    ...    ...    ...    ...    ...    ...    ...   ...   ...   \n",
      "2086  184576  66640  35056  28272  20944  23552  16976  13216  8832  6448   \n",
      "2087  186304  65232  35600  28096  19408  21680  17824  14496  8416  6368   \n",
      "2088  184192  66160  33264  27136  20144  22800  16416  13152  7712  6256   \n",
      "2089  186352  66448  35088  28672  20768  22592  17120  14608  8720  6448   \n",
      "2090  188240  63200  32016  27152  18912  20800  15872  13216  7088  5520   \n",
      "\n",
      "      ...  3623878656  3690987520  3758096384  3825205248  3892314112  \\\n",
      "0     ...           0           0           0           0           0   \n",
      "1     ...           0           0           0           0           0   \n",
      "2     ...           0           0           0           0           0   \n",
      "3     ...           0           0           0           0           0   \n",
      "4     ...           0           0           0           0           0   \n",
      "...   ...         ...         ...         ...         ...         ...   \n",
      "2086  ...           0           0           0           0           0   \n",
      "2087  ...           0           0           0           0           0   \n",
      "2088  ...           0           0           0           0           0   \n",
      "2089  ...           0           0           0           0           0   \n",
      "2090  ...           0           0           0           0           0   \n",
      "\n",
      "      3959422976  4026531840  4093640704  4160749568  4227858432  \n",
      "0              0           0           0           0           0  \n",
      "1              0           0           0           0           0  \n",
      "2              0           0           0           0           0  \n",
      "3              0           0           0           0           0  \n",
      "4              0           0           0           0           0  \n",
      "...          ...         ...         ...         ...         ...  \n",
      "2086           0           0           0           0           0  \n",
      "2087           0           0           0           0           0  \n",
      "2088           0           0           0           0           0  \n",
      "2089           0           0           0           0           0  \n",
      "2090           0           0           0           0           0  \n",
      "\n",
      "[2091 rows x 896 columns]\n",
      "          1024      2048      4096      8192\n",
      "0     0.049063  0.003882  0.003766  0.003766\n",
      "1     0.048016  0.000793  0.000765  0.000765\n",
      "2     0.047684  0.002797  0.002761  0.002761\n",
      "3     0.050853  0.002371  0.002335  0.002335\n",
      "4     0.047375  0.000783  0.000776  0.000776\n",
      "...        ...       ...       ...       ...\n",
      "2086  0.000000  0.000000  0.000000  0.000000\n",
      "2087  0.000000  0.000000  0.000000  0.000000\n",
      "2088  0.000000  0.000000  0.000000  0.000000\n",
      "2089  0.000000  0.000000  0.000000  0.000000\n",
      "2090  0.000000  0.000000  0.000000  0.000000\n",
      "\n",
      "[2091 rows x 4 columns]\n"
     ]
    }
   ],
   "source": [
    "print(cache_misses)\n",
    "print(reuse_distances)\n",
    "print(test_distances)\n",
    "print(test_misses)"
   ]
  },
  {
   "cell_type": "code",
   "execution_count": 18,
   "id": "8c04f263",
   "metadata": {},
   "outputs": [],
   "source": [
    "# Quick check if all columns are the same\n",
    "for i,j in zip(reuse_distances['id'], cache_misses['id']):\n",
    "    if i!=j:\n",
    "        print(i, j)"
   ]
  },
  {
   "cell_type": "code",
   "execution_count": 19,
   "id": "e860ea42",
   "metadata": {},
   "outputs": [],
   "source": [
    "from sklearn.model_selection import train_test_split\n",
    "X_train, X_test, y_train, y_test = train_test_split(reuse_distances,cache_misses, test_size=0.1)"
   ]
  },
  {
   "cell_type": "code",
   "execution_count": 20,
   "id": "44869d49",
   "metadata": {},
   "outputs": [
    {
     "name": "stdout",
     "output_type": "stream",
     "text": [
      "54810          471.omnetpp-188B_23\n",
      "123245    648.exchange2_s-353B_588\n",
      "115339        644.nab_s-12459B_212\n",
      "118151         644.nab_s-7928B_721\n",
      "32911          450.soplex-247B_744\n",
      "                    ...           \n",
      "63211        482.sphinx3-1297B_408\n",
      "64658        482.sphinx3-1522B_362\n",
      "133858         654.roms_s-293B_711\n",
      "41481           458.sjeng-283B_368\n",
      "60765             481.wrf-455B_219\n",
      "Name: id, Length: 125251, dtype: object\n"
     ]
    }
   ],
   "source": [
    "X_train_ids = X_train[\"id\"]\n",
    "X_test_ids = X_test[\"id\"]\n",
    "y_train_ids = y_train[\"id\"]\n",
    "y_test_ids = y_test[\"id\"]\n",
    "print(X_train_ids)"
   ]
  },
  {
   "cell_type": "code",
   "execution_count": 21,
   "id": "5a569df1",
   "metadata": {},
   "outputs": [],
   "source": [
    "X_train = X_train.drop(columns=[\"id\"])\n",
    "X_test = X_test.drop(columns=[\"id\"])\n",
    "y_train = y_train.drop(columns=[\"id\",'32','64','128','256','512'])\n",
    "y_test = y_test.drop(columns=[\"id\",'32','64','128','256','512'])"
   ]
  },
  {
   "cell_type": "code",
   "execution_count": 22,
   "id": "3c537454",
   "metadata": {},
   "outputs": [
    {
     "name": "stdout",
     "output_type": "stream",
     "text": [
      "(125251, 896) (13917, 896)\n",
      "(125251, 4) (13917, 4)\n"
     ]
    }
   ],
   "source": [
    "print(X_train.shape, X_test.shape)\n",
    "print(y_train.shape, y_test.shape)"
   ]
  },
  {
   "cell_type": "code",
   "execution_count": 23,
   "id": "6b1fbf9a",
   "metadata": {},
   "outputs": [
    {
     "name": "stdout",
     "output_type": "stream",
     "text": [
      "Index(['0', '1', '2', '3', '4', '5', '6', '7', '8', '9',\n",
      "       ...\n",
      "       '3623878656', '3690987520', '3758096384', '3825205248', '3892314112',\n",
      "       '3959422976', '4026531840', '4093640704', '4160749568', '4227858432'],\n",
      "      dtype='object', length=896)\n"
     ]
    }
   ],
   "source": [
    "print(X_train.columns)"
   ]
  },
  {
   "cell_type": "code",
   "execution_count": 24,
   "id": "f228d088",
   "metadata": {},
   "outputs": [
    {
     "name": "stdout",
     "output_type": "stream",
     "text": [
      "Model: \"sequential\"\n",
      "_________________________________________________________________\n",
      " Layer (type)                Output Shape              Param #   \n",
      "=================================================================\n",
      " dense (Dense)               (None, 1024)              918528    \n",
      "                                                                 \n",
      " dense_1 (Dense)             (None, 1024)              1049600   \n",
      "                                                                 \n",
      " dense_2 (Dense)             (None, 4)                 4100      \n",
      "                                                                 \n",
      "=================================================================\n",
      "Total params: 1,972,228\n",
      "Trainable params: 1,972,228\n",
      "Non-trainable params: 0\n",
      "_________________________________________________________________\n"
     ]
    }
   ],
   "source": [
    "from keras.models import Sequential\n",
    "from keras.layers import Dense\n",
    "from keras.metrics import MeanSquaredError\n",
    "from keras.losses import MeanSquaredError\n",
    "# Create the model\n",
    "model = Sequential()\n",
    "\n",
    "# Add the input layer and the first hidden layer\n",
    "model.add(Dense(1024, input_dim=896, activation='sigmoid'))\n",
    "\n",
    "# Add the second hidden layer\n",
    "model.add(Dense(1024, activation='sigmoid'))\n",
    "\n",
    "# Add the output layer\n",
    "model.add(Dense(4, activation='sigmoid'))\n",
    "\n",
    "# Compile the model\n",
    "model.compile(loss=MeanSquaredError() , optimizer='adam')\n",
    "\n",
    "# Print the model summary\n",
    "model.summary()"
   ]
  },
  {
   "cell_type": "code",
   "execution_count": 25,
   "id": "018417f1",
   "metadata": {},
   "outputs": [
    {
     "name": "stdout",
     "output_type": "stream",
     "text": [
      "Epoch 1/10\n",
      "3915/3915 [==============================] - 46s 12ms/step - loss: 0.1059\n",
      "Epoch 2/10\n",
      "3915/3915 [==============================] - 46s 12ms/step - loss: 0.0681\n",
      "Epoch 3/10\n",
      "3915/3915 [==============================] - 43s 11ms/step - loss: 0.0659\n",
      "Epoch 4/10\n",
      "3915/3915 [==============================] - 42s 11ms/step - loss: 0.0652\n",
      "Epoch 5/10\n",
      "3915/3915 [==============================] - 42s 11ms/step - loss: 0.0598\n",
      "Epoch 6/10\n",
      "3915/3915 [==============================] - 48s 12ms/step - loss: 0.0603\n",
      "Epoch 7/10\n",
      "3915/3915 [==============================] - 46s 12ms/step - loss: 0.0602\n",
      "Epoch 8/10\n",
      "3915/3915 [==============================] - 46s 12ms/step - loss: 0.0578\n",
      "Epoch 9/10\n",
      "3915/3915 [==============================] - 44s 11ms/step - loss: 0.0581\n",
      "Epoch 10/10\n",
      "3915/3915 [==============================] - 48s 12ms/step - loss: 0.0569\n"
     ]
    },
    {
     "data": {
      "text/plain": [
       "<keras.callbacks.History at 0x24ac593ad60>"
      ]
     },
     "execution_count": 25,
     "metadata": {},
     "output_type": "execute_result"
    }
   ],
   "source": [
    "model.fit(X_train.to_numpy(), y_train.to_numpy(), epochs=10)"
   ]
  },
  {
   "cell_type": "code",
   "execution_count": 27,
   "id": "bae89238",
   "metadata": {},
   "outputs": [],
   "source": [
    "f = model(X_test.to_numpy())"
   ]
  },
  {
   "cell_type": "code",
   "execution_count": 29,
   "id": "c5b403aa",
   "metadata": {},
   "outputs": [
    {
     "name": "stdout",
     "output_type": "stream",
     "text": [
      "Mean squared error for cache size 1024\t: 0.055656720646459136\n",
      "Mean squared error for cache size 2048\t: 0.0611111492296626\n",
      "Mean squared error for cache size 4096\t: 0.06080751771724772\n",
      "Mean squared error for cache size 8192\t: 0.058186930715442654\n"
     ]
    }
   ],
   "source": [
    "from sklearn.metrics import mean_squared_error, mean_absolute_error\n",
    "# Compare columns\n",
    "for i,j in enumerate(['1024','2048','4096','8192']):\n",
    "    model_out = f.numpy()[:,i]\n",
    "    y_out = y_test.to_numpy()[:,i]\n",
    "    print(f'Mean squared error for cache size {j}\\t: {mean_squared_error(model_out, y_out)}')"
   ]
  },
  {
   "cell_type": "code",
   "execution_count": 18,
   "id": "d933ee12",
   "metadata": {},
   "outputs": [
    {
     "name": "stdout",
     "output_type": "stream",
     "text": [
      "           0      1      2      3      4      5      6      7     8     9  \\\n",
      "0       5648   1600    752    656    608    336    320    208   320   288   \n",
      "1       5120   1472    976    560    528    336    272    272   240   432   \n",
      "2       9184   2048   1104   1040    800    496    400    544   384   416   \n",
      "3      15024   3520   1584   1744   1200    672    752    784   704   608   \n",
      "4      12976   3072   1440   1440    912    464    560    624   448   544   \n",
      "...      ...    ...    ...    ...    ...    ...    ...    ...   ...   ...   \n",
      "2242  184576  66640  35056  28272  20944  23552  16976  13216  8832  6448   \n",
      "2243  186304  65232  35600  28096  19408  21680  17824  14496  8416  6368   \n",
      "2244  184192  66160  33264  27136  20144  22800  16416  13152  7712  6256   \n",
      "2245  186352  66448  35088  28672  20768  22592  17120  14608  8720  6448   \n",
      "2246  188240  63200  32016  27152  18912  20800  15872  13216  7088  5520   \n",
      "\n",
      "      ...  3623878656  3690987520  3758096384  3825205248  3892314112  \\\n",
      "0     ...           0           0           0           0           0   \n",
      "1     ...           0           0           0           0           0   \n",
      "2     ...           0           0           0           0           0   \n",
      "3     ...           0           0           0           0           0   \n",
      "4     ...           0           0           0           0           0   \n",
      "...   ...         ...         ...         ...         ...         ...   \n",
      "2242  ...           0           0           0           0           0   \n",
      "2243  ...           0           0           0           0           0   \n",
      "2244  ...           0           0           0           0           0   \n",
      "2245  ...           0           0           0           0           0   \n",
      "2246  ...           0           0           0           0           0   \n",
      "\n",
      "      3959422976  4026531840  4093640704  4160749568  4227858432  \n",
      "0              0           0           0           0           0  \n",
      "1              0           0           0           0           0  \n",
      "2              0           0           0           0           0  \n",
      "3              0           0           0           0           0  \n",
      "4              0           0           0           0           0  \n",
      "...          ...         ...         ...         ...         ...  \n",
      "2242           0           0           0           0           0  \n",
      "2243           0           0           0           0           0  \n",
      "2244           0           0           0           0           0  \n",
      "2245           0           0           0           0           0  \n",
      "2246           0           0           0           0           0  \n",
      "\n",
      "[2247 rows x 896 columns]\n"
     ]
    }
   ],
   "source": [
    "print(test_distances)"
   ]
  },
  {
   "cell_type": "code",
   "execution_count": 19,
   "id": "db367ea7",
   "metadata": {},
   "outputs": [],
   "source": [
    "f = model(test_distances.to_numpy())"
   ]
  },
  {
   "cell_type": "code",
   "execution_count": 20,
   "id": "167089a5",
   "metadata": {},
   "outputs": [
    {
     "name": "stdout",
     "output_type": "stream",
     "text": [
      "tf.Tensor(\n",
      "[[0.20996214 0.05470732 0.02328947 0.01612861]\n",
      " [0.40929827 0.25896218 0.22301589 0.2405568 ]\n",
      " [0.18005052 0.07281118 0.03855316 0.02697584]\n",
      " ...\n",
      " [0.3907446  0.30435568 0.2435273  0.18891862]\n",
      " [0.3907446  0.30435568 0.2435273  0.18891862]\n",
      " [0.3899918  0.2876871  0.20303065 0.15766022]], shape=(2247, 4), dtype=float32)\n"
     ]
    }
   ],
   "source": [
    "print(f)"
   ]
  },
  {
   "cell_type": "code",
   "execution_count": 21,
   "id": "6d764639",
   "metadata": {},
   "outputs": [
    {
     "name": "stdout",
     "output_type": "stream",
     "text": [
      "          1024      2048      4096      8192\n",
      "0     0.046590  0.000969  0.000962  0.000962\n",
      "1     0.047124  0.001620  0.001620  0.001620\n",
      "2     0.049473  0.001464  0.001464  0.001464\n",
      "3     0.049063  0.003882  0.003766  0.003766\n",
      "4     0.051722  0.002382  0.002318  0.002318\n",
      "...        ...       ...       ...       ...\n",
      "2242  0.000000  0.000000  0.000000  0.000000\n",
      "2243  0.000000  0.000000  0.000000  0.000000\n",
      "2244  0.000000  0.000000  0.000000  0.000000\n",
      "2245  0.000000  0.000000  0.000000  0.000000\n",
      "2246  0.000000  0.000000  0.000000  0.000000\n",
      "\n",
      "[2247 rows x 4 columns]\n"
     ]
    }
   ],
   "source": [
    "print(test_misses)"
   ]
  },
  {
   "cell_type": "code",
   "execution_count": 22,
   "id": "3ed9fed6",
   "metadata": {},
   "outputs": [
    {
     "name": "stdout",
     "output_type": "stream",
     "text": [
      "Mean squared error for cache size 1024\t: 0.0728684008729644\n",
      "Mean squared error for cache size 2048\t: 0.06678401400913811\n",
      "Mean squared error for cache size 4096\t: 0.05643301108894797\n",
      "Mean squared error for cache size 8192\t: 0.04919953181115533\n"
     ]
    }
   ],
   "source": [
    "from sklearn.metrics import mean_squared_error\n",
    "# Compare columns\n",
    "for i,j in enumerate(['1024','2048','4096','8192']):\n",
    "    model_out = f.numpy()[:,i]\n",
    "    y_out = test_misses.to_numpy()[:,i]\n",
    "    print(f'Mean squared error for cache size {j}\\t: {mean_squared_error(model_out, y_out)}')"
   ]
  },
  {
   "cell_type": "code",
   "execution_count": null,
   "id": "3545c907",
   "metadata": {},
   "outputs": [],
   "source": []
  }
 ],
 "metadata": {
  "kernelspec": {
   "display_name": "Local-venv",
   "language": "python",
   "name": "local-venv"
  },
  "language_info": {
   "codemirror_mode": {
    "name": "ipython",
    "version": 3
   },
   "file_extension": ".py",
   "mimetype": "text/x-python",
   "name": "python",
   "nbconvert_exporter": "python",
   "pygments_lexer": "ipython3",
   "version": "3.8.8"
  }
 },
 "nbformat": 4,
 "nbformat_minor": 5
}
