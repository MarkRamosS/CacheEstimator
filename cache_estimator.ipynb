{
 "cells": [
  {
   "cell_type": "code",
   "execution_count": 5,
   "id": "22ba1f53",
   "metadata": {},
   "outputs": [],
   "source": [
    "import os \n",
    "import csv\n",
    "import pandas as pd\n",
    "import matplotlib.pyplot as plt"
   ]
  },
  {
   "cell_type": "code",
   "execution_count": 4,
   "id": "c107c218",
   "metadata": {},
   "outputs": [
    {
     "data": {
      "text/html": [
       "<div>\n",
       "<style scoped>\n",
       "    .dataframe tbody tr th:only-of-type {\n",
       "        vertical-align: middle;\n",
       "    }\n",
       "\n",
       "    .dataframe tbody tr th {\n",
       "        vertical-align: top;\n",
       "    }\n",
       "\n",
       "    .dataframe thead th {\n",
       "        text-align: right;\n",
       "    }\n",
       "</style>\n",
       "<table border=\"1\" class=\"dataframe\">\n",
       "  <thead>\n",
       "    <tr style=\"text-align: right;\">\n",
       "      <th></th>\n",
       "      <th>id</th>\n",
       "      <th>32</th>\n",
       "      <th>64</th>\n",
       "      <th>128</th>\n",
       "      <th>256</th>\n",
       "      <th>512</th>\n",
       "      <th>1024</th>\n",
       "      <th>2048</th>\n",
       "      <th>4096</th>\n",
       "      <th>8192</th>\n",
       "    </tr>\n",
       "  </thead>\n",
       "  <tbody>\n",
       "    <tr>\n",
       "      <th>0</th>\n",
       "      <td>400.perlbench-41B_0</td>\n",
       "      <td>0.001166</td>\n",
       "      <td>0.001166</td>\n",
       "      <td>0.001166</td>\n",
       "      <td>0.001166</td>\n",
       "      <td>0.001166</td>\n",
       "      <td>0.001166</td>\n",
       "      <td>0.001166</td>\n",
       "      <td>0.001166</td>\n",
       "      <td>0.001166</td>\n",
       "    </tr>\n",
       "    <tr>\n",
       "      <th>1</th>\n",
       "      <td>400.perlbench-41B_1</td>\n",
       "      <td>0.001646</td>\n",
       "      <td>0.001646</td>\n",
       "      <td>0.001646</td>\n",
       "      <td>0.001646</td>\n",
       "      <td>0.001646</td>\n",
       "      <td>0.001646</td>\n",
       "      <td>0.001646</td>\n",
       "      <td>0.001646</td>\n",
       "      <td>0.001646</td>\n",
       "    </tr>\n",
       "    <tr>\n",
       "      <th>2</th>\n",
       "      <td>400.perlbench-41B_2</td>\n",
       "      <td>0.001015</td>\n",
       "      <td>0.001015</td>\n",
       "      <td>0.001015</td>\n",
       "      <td>0.001015</td>\n",
       "      <td>0.001015</td>\n",
       "      <td>0.001015</td>\n",
       "      <td>0.001015</td>\n",
       "      <td>0.001015</td>\n",
       "      <td>0.001015</td>\n",
       "    </tr>\n",
       "    <tr>\n",
       "      <th>3</th>\n",
       "      <td>400.perlbench-41B_3</td>\n",
       "      <td>0.000598</td>\n",
       "      <td>0.000598</td>\n",
       "      <td>0.000598</td>\n",
       "      <td>0.000598</td>\n",
       "      <td>0.000598</td>\n",
       "      <td>0.000598</td>\n",
       "      <td>0.000598</td>\n",
       "      <td>0.000598</td>\n",
       "      <td>0.000598</td>\n",
       "    </tr>\n",
       "    <tr>\n",
       "      <th>4</th>\n",
       "      <td>400.perlbench-41B_4</td>\n",
       "      <td>0.001044</td>\n",
       "      <td>0.001044</td>\n",
       "      <td>0.001044</td>\n",
       "      <td>0.001044</td>\n",
       "      <td>0.001044</td>\n",
       "      <td>0.001044</td>\n",
       "      <td>0.001044</td>\n",
       "      <td>0.001044</td>\n",
       "      <td>0.001044</td>\n",
       "    </tr>\n",
       "  </tbody>\n",
       "</table>\n",
       "</div>"
      ],
      "text/plain": [
       "                    id        32        64       128       256       512  \\\n",
       "0  400.perlbench-41B_0  0.001166  0.001166  0.001166  0.001166  0.001166   \n",
       "1  400.perlbench-41B_1  0.001646  0.001646  0.001646  0.001646  0.001646   \n",
       "2  400.perlbench-41B_2  0.001015  0.001015  0.001015  0.001015  0.001015   \n",
       "3  400.perlbench-41B_3  0.000598  0.000598  0.000598  0.000598  0.000598   \n",
       "4  400.perlbench-41B_4  0.001044  0.001044  0.001044  0.001044  0.001044   \n",
       "\n",
       "       1024      2048      4096      8192  \n",
       "0  0.001166  0.001166  0.001166  0.001166  \n",
       "1  0.001646  0.001646  0.001646  0.001646  \n",
       "2  0.001015  0.001015  0.001015  0.001015  \n",
       "3  0.000598  0.000598  0.000598  0.000598  \n",
       "4  0.001044  0.001044  0.001044  0.001044  "
      ]
     },
     "execution_count": 4,
     "metadata": {},
     "output_type": "execute_result"
    }
   ],
   "source": [
    "cache_misses = pd.read_csv(\"../ce_data/caches/l1d_miss_ratio.csv\")\n",
    "cache_misses.head()"
   ]
  },
  {
   "cell_type": "code",
   "execution_count": 2,
   "id": "e4d00533",
   "metadata": {},
   "outputs": [],
   "source": [
    "reuse_distances = pd.DataFrame()\n",
    "for file in os.listdir(\"../ce_data/reuse_distances\"):\n",
    "    x = pd.read_csv(\"../ce_data/reuse_distances/\"+file)\n",
    "    reuse_distances = reuse_distances.append(x, ignore_index=True)"
   ]
  },
  {
   "cell_type": "code",
   "execution_count": 6,
   "id": "4560ce8a",
   "metadata": {},
   "outputs": [
    {
     "name": "stdout",
     "output_type": "stream",
     "text": [
      "                         id       0      1      2      3     4     5      6  \\\n",
      "0       400.perlbench-41B_0  105856  45136  24544  15840  4704  9104  20144   \n",
      "1       400.perlbench-41B_1   94192  48656  27200  16912  5280  8448  17264   \n",
      "2       400.perlbench-41B_2   93200  39568  26640  18928  5552  8704  16096   \n",
      "3       400.perlbench-41B_3   86576  38368  26432  18320  5296  9648  15936   \n",
      "4       400.perlbench-41B_4  104944  42128  25744  16528  6368  8432  17712   \n",
      "...                     ...     ...    ...    ...    ...   ...   ...    ...   \n",
      "141556     657.xz_s-56B_744   47552  55344  10576   1776  4848   992   2192   \n",
      "141557     657.xz_s-56B_745   47600  54848  10544   1760  4912  1008   2192   \n",
      "141558     657.xz_s-56B_746   47584  55312  10432   1792  4816   960   2208   \n",
      "141559     657.xz_s-56B_747   47696  55264  10384   1760  4880  1008   2192   \n",
      "141560     657.xz_s-56B_748   47616  55296  10432   1776  4832   992   2192   \n",
      "\n",
      "           7      8  ...  3623878656  3690987520  3758096384  3825205248  \\\n",
      "0       6368   7968  ...           0           0           0           0   \n",
      "1       3840   2960  ...           0           0           0           0   \n",
      "2       3904   7200  ...           0           0           0           0   \n",
      "3       3760  10336  ...           0           0           0           0   \n",
      "4       5376   7264  ...           0           0           0           0   \n",
      "...      ...    ...  ...         ...         ...         ...         ...   \n",
      "141556  2160    368  ...           0           0           0           0   \n",
      "141557  2128    368  ...           0           0           0           0   \n",
      "141558  2144    368  ...           0           0           0           0   \n",
      "141559  2160    352  ...           0           0           0           0   \n",
      "141560  2144    368  ...           0           0           0           0   \n",
      "\n",
      "        3892314112  3959422976  4026531840  4093640704  4160749568  4227858432  \n",
      "0                0           0           0           0           0           0  \n",
      "1                0           0           0           0           0           0  \n",
      "2                0           0           0           0           0           0  \n",
      "3                0           0           0           0           0           0  \n",
      "4                0           0           0           0           0           0  \n",
      "...            ...         ...         ...         ...         ...         ...  \n",
      "141556           0           0           0           0           0           0  \n",
      "141557           0           0           0           0           0           0  \n",
      "141558           0           0           0           0           0           0  \n",
      "141559           0           0           0           0           0           0  \n",
      "141560           0           0           0           0           0           0  \n",
      "\n",
      "[141561 rows x 897 columns]\n"
     ]
    }
   ],
   "source": [
    "print(reuse_distances)"
   ]
  },
  {
   "cell_type": "code",
   "execution_count": null,
   "id": "ab55d146",
   "metadata": {},
   "outputs": [],
   "source": [
    "def plot_rd(filename):\n",
    "    print(llc[llc['filename']==filename]['hit_rate'].item())\n",
    "    print(llc[llc['filename']==filename]['accesses'].item())\n",
    "    x = pd.read_csv('dataset/input/'+filename+'.csv')\n",
    "    plt.plot(x['reuse distance'], x['histogram value'])\n",
    "    plt.xlabel('Reuse Distance (log scale)')\n",
    "    plt.title('Histogram of '+filename)\n",
    "    plt.ylabel('Accesses (log scale)')\n",
    "    plt.xscale('log')\n",
    "    plt.yscale('log')\n",
    "    plt.show()"
   ]
  },
  {
   "cell_type": "code",
   "execution_count": 7,
   "id": "e2007200",
   "metadata": {},
   "outputs": [
    {
     "ename": "NameError",
     "evalue": "name 'llc' is not defined",
     "output_type": "error",
     "traceback": [
      "\u001b[1;31m---------------------------------------------------------------------------\u001b[0m",
      "\u001b[1;31mNameError\u001b[0m                                 Traceback (most recent call last)",
      "\u001b[1;32m<ipython-input-7-9fb983b21d09>\u001b[0m in \u001b[0;36m<module>\u001b[1;34m\u001b[0m\n\u001b[1;32m----> 1\u001b[1;33m \u001b[0mf\u001b[0m \u001b[1;33m=\u001b[0m \u001b[0mllc\u001b[0m\u001b[1;33m.\u001b[0m\u001b[0msort_values\u001b[0m\u001b[1;33m(\u001b[0m\u001b[1;34m'hit_rate'\u001b[0m\u001b[1;33m)\u001b[0m\u001b[1;33m\u001b[0m\u001b[1;33m\u001b[0m\u001b[0m\n\u001b[0m",
      "\u001b[1;31mNameError\u001b[0m: name 'llc' is not defined"
     ]
    }
   ],
   "source": [
    "f = llc.sort_values('hit_rate')"
   ]
  },
  {
   "cell_type": "code",
   "execution_count": null,
   "id": "f228d088",
   "metadata": {},
   "outputs": [],
   "source": [
    "from keras.models import Sequential\n",
    "from keras.layers import Dense\n",
    "\n",
    "# Create the model\n",
    "model = Sequential()\n",
    "\n",
    "# Add the input layer and the first hidden layer\n",
    "model.add(Dense(64, input_dim=189, activation='relu'))\n",
    "\n",
    "# Add the second hidden layer\n",
    "model.add(Dense(64, activation='relu'))\n",
    "\n",
    "# Add the output layer\n",
    "model.add(Dense(9, activation='softmax'))\n",
    "\n",
    "# Compile the model\n",
    "model.compile(loss='categorical_crossentropy', optimizer='adam', metrics=['accuracy'])\n",
    "\n",
    "# Print the model summary\n",
    "model.summary()"
   ]
  },
  {
   "cell_type": "code",
   "execution_count": null,
   "id": "f272a72b",
   "metadata": {},
   "outputs": [],
   "source": []
  },
  {
   "cell_type": "code",
   "execution_count": null,
   "id": "552ad44b",
   "metadata": {},
   "outputs": [],
   "source": []
  },
  {
   "cell_type": "code",
   "execution_count": null,
   "id": "b560f234",
   "metadata": {},
   "outputs": [],
   "source": []
  },
  {
   "cell_type": "code",
   "execution_count": null,
   "id": "8c04f263",
   "metadata": {},
   "outputs": [],
   "source": []
  },
  {
   "cell_type": "code",
   "execution_count": null,
   "id": "e860ea42",
   "metadata": {},
   "outputs": [],
   "source": []
  },
  {
   "cell_type": "code",
   "execution_count": null,
   "id": "44869d49",
   "metadata": {},
   "outputs": [],
   "source": []
  }
 ],
 "metadata": {
  "kernelspec": {
   "display_name": "Local-venv",
   "language": "python",
   "name": "local-venv"
  },
  "language_info": {
   "codemirror_mode": {
    "name": "ipython",
    "version": 3
   },
   "file_extension": ".py",
   "mimetype": "text/x-python",
   "name": "python",
   "nbconvert_exporter": "python",
   "pygments_lexer": "ipython3",
   "version": "3.8.8"
  }
 },
 "nbformat": 4,
 "nbformat_minor": 5
}
