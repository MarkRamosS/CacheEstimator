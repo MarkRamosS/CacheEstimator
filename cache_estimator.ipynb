{
 "cells": [
  {
   "cell_type": "code",
   "execution_count": 1,
   "id": "22ba1f53",
   "metadata": {},
   "outputs": [],
   "source": [
    "import os \n",
    "import csv\n",
    "import random\n",
    "import pandas as pd\n",
    "import numpy as np\n",
    "import matplotlib.pyplot as plt"
   ]
  },
  {
   "cell_type": "code",
   "execution_count": 2,
   "id": "17f364ef",
   "metadata": {},
   "outputs": [
    {
     "name": "stdout",
     "output_type": "stream",
     "text": [
      "[163, 28, 6]\n"
     ]
    }
   ],
   "source": [
    "random.seed(42)\n",
    "rnd = [random.randrange(189), random.randrange(189), random.randrange(189)]\n",
    "print(rnd)"
   ]
  },
  {
   "cell_type": "code",
   "execution_count": 3,
   "id": "e4d00533",
   "metadata": {},
   "outputs": [],
   "source": [
    "reuse_distances = pd.DataFrame()\n",
    "test_distances = pd.DataFrame()\n",
    "tmp_ctr = 0\n",
    "for file in os.listdir(\"../ce_data/reuse_distances\"):\n",
    "    x = pd.read_csv(\"../ce_data/reuse_distances/\"+file)\n",
    "    if tmp_ctr in rnd:\n",
    "        test_distances = pd.concat([test_distances, x], ignore_index=True)\n",
    "    else:\n",
    "        reuse_distances = pd.concat([reuse_distances, x], ignore_index=True)\n",
    "    tmp_ctr +=1"
   ]
  },
  {
   "cell_type": "code",
   "execution_count": 4,
   "id": "2569ea7e",
   "metadata": {},
   "outputs": [],
   "source": [
    "cache_misses = pd.read_csv(\"../ce_data/caches/llc_miss_ratio.csv\")\n",
    "test_misses = cache_misses.loc[cache_misses['id'].isin(test_distances['id'])]\n",
    "cache_misses = cache_misses.loc[~cache_misses['id'].isin(test_distances['id'])]"
   ]
  },
  {
   "cell_type": "code",
   "execution_count": 5,
   "id": "b560f234",
   "metadata": {},
   "outputs": [],
   "source": [
    "cache_misses = cache_misses.sort_values(\"id\", ascending=True, ignore_index=True)\n",
    "reuse_distances = reuse_distances.sort_values(\"id\", ascending=True, ignore_index=True)\n",
    "test_misses = test_misses.sort_values(\"id\", ascending=True, ignore_index=True)\n",
    "test_distances = test_distances.sort_values(\"id\", ascending=True, ignore_index=True)"
   ]
  },
  {
   "cell_type": "code",
   "execution_count": 6,
   "id": "3f5f7de9",
   "metadata": {},
   "outputs": [],
   "source": [
    "td_ids = test_distances[\"id\"]\n",
    "test_distances = test_distances.drop(columns=[\"id\"])\n",
    "tm_ids = test_misses[\"id\"]\n",
    "test_misses = test_misses.drop(columns=[\"id\",'32','64','128','256','512'])"
   ]
  },
  {
   "cell_type": "code",
   "execution_count": 7,
   "id": "4560ce8a",
   "metadata": {},
   "outputs": [
    {
     "name": "stdout",
     "output_type": "stream",
     "text": [
      "                           id        32        64       128       256  \\\n",
      "0         400.perlbench-41B_0  1.000000  1.000000  1.000000  0.998652   \n",
      "1         400.perlbench-41B_1  1.000000  1.000000  1.000000  1.000000   \n",
      "2        400.perlbench-41B_10  1.000000  0.997375  0.997375  0.997375   \n",
      "3       400.perlbench-41B_100  0.996656  0.996656  0.996656  0.993311   \n",
      "4       400.perlbench-41B_101  1.000000  1.000000  1.000000  1.000000   \n",
      "...                       ...       ...       ...       ...       ...   \n",
      "139309        657.xz_s-56B_95  1.000000  1.000000  1.000000  1.000000   \n",
      "139310        657.xz_s-56B_96  1.000000  1.000000  1.000000  1.000000   \n",
      "139311        657.xz_s-56B_97  1.000000  1.000000  1.000000  1.000000   \n",
      "139312        657.xz_s-56B_98  1.000000  1.000000  1.000000  1.000000   \n",
      "139313        657.xz_s-56B_99  1.000000  1.000000  1.000000  1.000000   \n",
      "\n",
      "             512      1024      2048      4096      8192  \n",
      "0       0.889488  0.828841  0.803235  0.773585  0.768194  \n",
      "1       0.928650  0.875960  0.849616  0.839737  0.837541  \n",
      "2       0.968504  0.866142  0.842520  0.826772  0.821522  \n",
      "3       0.923077  0.872910  0.866221  0.785953  0.060201  \n",
      "4       0.964865  0.878378  0.872973  0.724324  0.051351  \n",
      "...          ...       ...       ...       ...       ...  \n",
      "139309  1.000000  1.000000  1.000000  1.000000  1.000000  \n",
      "139310  1.000000  1.000000  1.000000  1.000000  1.000000  \n",
      "139311  1.000000  1.000000  1.000000  1.000000  1.000000  \n",
      "139312  1.000000  1.000000  1.000000  1.000000  1.000000  \n",
      "139313  1.000000  1.000000  1.000000  1.000000  1.000000  \n",
      "\n",
      "[139314 rows x 10 columns]\n",
      "                           id       0      1      2      3     4      5  \\\n",
      "0         400.perlbench-41B_0  105856  45136  24544  15840  4704   9104   \n",
      "1         400.perlbench-41B_1   94192  48656  27200  16912  5280   8448   \n",
      "2        400.perlbench-41B_10  124640  34992  24752  16704  4848  11360   \n",
      "3       400.perlbench-41B_100  138608  28736  28384  18800  5680  14480   \n",
      "4       400.perlbench-41B_101   99040  37504  26352  16160  5584   8528   \n",
      "...                       ...     ...    ...    ...    ...   ...    ...   \n",
      "139309        657.xz_s-56B_95   46768  55680  10256   2000  4768    880   \n",
      "139310        657.xz_s-56B_96   46560  55840  10224   1936  4784    912   \n",
      "139311        657.xz_s-56B_97   46640  55824  10432   2000  4736    896   \n",
      "139312        657.xz_s-56B_98   46656  55968  10240   1984  4736    864   \n",
      "139313        657.xz_s-56B_99   46832  55552  10256   2000  4816    896   \n",
      "\n",
      "            6      7     8  ...  3623878656  3690987520  3758096384  \\\n",
      "0       20144   6368  7968  ...           0           0           0   \n",
      "1       17264   3840  2960  ...           0           0           0   \n",
      "2       21296  12656  8256  ...           0           0           0   \n",
      "3       21088  12048  4640  ...           0           0           0   \n",
      "4       18192   3824  9088  ...           0           0           0   \n",
      "...       ...    ...   ...  ...         ...         ...         ...   \n",
      "139309   2000   2080   320  ...           0           0           0   \n",
      "139310   1984   2112   304  ...           0           0           0   \n",
      "139311   2000   2096   304  ...           0           0           0   \n",
      "139312   1984   2096   320  ...           0           0           0   \n",
      "139313   1984   2064   320  ...           0           0           0   \n",
      "\n",
      "        3825205248  3892314112  3959422976  4026531840  4093640704  \\\n",
      "0                0           0           0           0           0   \n",
      "1                0           0           0           0           0   \n",
      "2                0           0           0           0           0   \n",
      "3                0           0           0           0           0   \n",
      "4                0           0           0           0           0   \n",
      "...            ...         ...         ...         ...         ...   \n",
      "139309           0           0           0           0           0   \n",
      "139310           0           0           0           0           0   \n",
      "139311           0           0           0           0           0   \n",
      "139312           0           0           0           0           0   \n",
      "139313           0           0           0           0           0   \n",
      "\n",
      "        4160749568  4227858432  \n",
      "0                0           0  \n",
      "1                0           0  \n",
      "2                0           0  \n",
      "3                0           0  \n",
      "4                0           0  \n",
      "...            ...         ...  \n",
      "139309           0           0  \n",
      "139310           0           0  \n",
      "139311           0           0  \n",
      "139312           0           0  \n",
      "139313           0           0  \n",
      "\n",
      "[139314 rows x 897 columns]\n",
      "           0      1      2      3      4      5      6      7     8     9  \\\n",
      "0       5648   1600    752    656    608    336    320    208   320   288   \n",
      "1       5120   1472    976    560    528    336    272    272   240   432   \n",
      "2       9184   2048   1104   1040    800    496    400    544   384   416   \n",
      "3      15024   3520   1584   1744   1200    672    752    784   704   608   \n",
      "4      12976   3072   1440   1440    912    464    560    624   448   544   \n",
      "...      ...    ...    ...    ...    ...    ...    ...    ...   ...   ...   \n",
      "2242  184576  66640  35056  28272  20944  23552  16976  13216  8832  6448   \n",
      "2243  186304  65232  35600  28096  19408  21680  17824  14496  8416  6368   \n",
      "2244  184192  66160  33264  27136  20144  22800  16416  13152  7712  6256   \n",
      "2245  186352  66448  35088  28672  20768  22592  17120  14608  8720  6448   \n",
      "2246  188240  63200  32016  27152  18912  20800  15872  13216  7088  5520   \n",
      "\n",
      "      ...  3623878656  3690987520  3758096384  3825205248  3892314112  \\\n",
      "0     ...           0           0           0           0           0   \n",
      "1     ...           0           0           0           0           0   \n",
      "2     ...           0           0           0           0           0   \n",
      "3     ...           0           0           0           0           0   \n",
      "4     ...           0           0           0           0           0   \n",
      "...   ...         ...         ...         ...         ...         ...   \n",
      "2242  ...           0           0           0           0           0   \n",
      "2243  ...           0           0           0           0           0   \n",
      "2244  ...           0           0           0           0           0   \n",
      "2245  ...           0           0           0           0           0   \n",
      "2246  ...           0           0           0           0           0   \n",
      "\n",
      "      3959422976  4026531840  4093640704  4160749568  4227858432  \n",
      "0              0           0           0           0           0  \n",
      "1              0           0           0           0           0  \n",
      "2              0           0           0           0           0  \n",
      "3              0           0           0           0           0  \n",
      "4              0           0           0           0           0  \n",
      "...          ...         ...         ...         ...         ...  \n",
      "2242           0           0           0           0           0  \n",
      "2243           0           0           0           0           0  \n",
      "2244           0           0           0           0           0  \n",
      "2245           0           0           0           0           0  \n",
      "2246           0           0           0           0           0  \n",
      "\n",
      "[2247 rows x 896 columns]\n",
      "          1024      2048      4096      8192\n",
      "0     0.046590  0.000969  0.000962  0.000962\n",
      "1     0.047124  0.001620  0.001620  0.001620\n",
      "2     0.049473  0.001464  0.001464  0.001464\n",
      "3     0.049063  0.003882  0.003766  0.003766\n",
      "4     0.051722  0.002382  0.002318  0.002318\n",
      "...        ...       ...       ...       ...\n",
      "2242  0.000000  0.000000  0.000000  0.000000\n",
      "2243  0.000000  0.000000  0.000000  0.000000\n",
      "2244  0.000000  0.000000  0.000000  0.000000\n",
      "2245  0.000000  0.000000  0.000000  0.000000\n",
      "2246  0.000000  0.000000  0.000000  0.000000\n",
      "\n",
      "[2247 rows x 4 columns]\n"
     ]
    }
   ],
   "source": [
    "print(cache_misses)\n",
    "print(reuse_distances)\n",
    "print(test_distances)\n",
    "print(test_misses)"
   ]
  },
  {
   "cell_type": "code",
   "execution_count": 8,
   "id": "8c04f263",
   "metadata": {},
   "outputs": [],
   "source": [
    "# Quick check if all columns are the same\n",
    "for i,j in zip(reuse_distances['id'], cache_misses['id']):\n",
    "    if i!=j:\n",
    "        print(i, j)"
   ]
  },
  {
   "cell_type": "code",
   "execution_count": 9,
   "id": "e860ea42",
   "metadata": {},
   "outputs": [],
   "source": [
    "from sklearn.model_selection import train_test_split\n",
    "X_train, X_test, y_train, y_test = train_test_split(reuse_distances,cache_misses, test_size=0.1)"
   ]
  },
  {
   "cell_type": "code",
   "execution_count": 10,
   "id": "44869d49",
   "metadata": {},
   "outputs": [
    {
     "name": "stdout",
     "output_type": "stream",
     "text": [
      "123645    648.exchange2_s-387B_152\n",
      "51780          464.h264ref-97B_188\n",
      "52252          464.h264ref-97B_612\n",
      "122270    648.exchange2_s-210B_263\n",
      "119821    648.exchange2_s-1227B_82\n",
      "                    ...           \n",
      "132219        654.roms_s-1390B_454\n",
      "1143         400.perlbench-50B_453\n",
      "111248       641.leela_s-1083B_455\n",
      "128063       649.fotonik3d_s-1B_85\n",
      "101181          625.x264_s-12B_158\n",
      "Name: id, Length: 125382, dtype: object\n"
     ]
    }
   ],
   "source": [
    "X_train_ids = X_train[\"id\"]\n",
    "X_test_ids = X_test[\"id\"]\n",
    "y_train_ids = y_train[\"id\"]\n",
    "y_test_ids = y_test[\"id\"]\n",
    "\n",
    "print(X_train_ids)"
   ]
  },
  {
   "cell_type": "code",
   "execution_count": 11,
   "id": "5a569df1",
   "metadata": {},
   "outputs": [],
   "source": [
    "X_train = X_train.drop(columns=[\"id\"])\n",
    "X_test = X_test.drop(columns=[\"id\"])\n",
    "y_train = y_train.drop(columns=[\"id\",'32','64','128','256','512'])\n",
    "y_test = y_test.drop(columns=[\"id\",'32','64','128','256','512'])"
   ]
  },
  {
   "cell_type": "code",
   "execution_count": 12,
   "id": "3c537454",
   "metadata": {},
   "outputs": [
    {
     "name": "stdout",
     "output_type": "stream",
     "text": [
      "(125382, 896) (13932, 896)\n",
      "(125382, 4) (13932, 4)\n"
     ]
    }
   ],
   "source": [
    "print(X_train.shape, X_test.shape)\n",
    "print(y_train.shape, y_test.shape)"
   ]
  },
  {
   "cell_type": "code",
   "execution_count": 13,
   "id": "6b1fbf9a",
   "metadata": {},
   "outputs": [
    {
     "name": "stdout",
     "output_type": "stream",
     "text": [
      "Index(['0', '1', '2', '3', '4', '5', '6', '7', '8', '9',\n",
      "       ...\n",
      "       '3623878656', '3690987520', '3758096384', '3825205248', '3892314112',\n",
      "       '3959422976', '4026531840', '4093640704', '4160749568', '4227858432'],\n",
      "      dtype='object', length=896)\n"
     ]
    }
   ],
   "source": [
    "print(X_train.columns)"
   ]
  },
  {
   "cell_type": "code",
   "execution_count": 14,
   "id": "f228d088",
   "metadata": {},
   "outputs": [
    {
     "name": "stdout",
     "output_type": "stream",
     "text": [
      "Model: \"sequential\"\n",
      "_________________________________________________________________\n",
      " Layer (type)                Output Shape              Param #   \n",
      "=================================================================\n",
      " dense (Dense)               (None, 896)               803712    \n",
      "                                                                 \n",
      " dense_1 (Dense)             (None, 896)               803712    \n",
      "                                                                 \n",
      " dense_2 (Dense)             (None, 4)                 3588      \n",
      "                                                                 \n",
      "=================================================================\n",
      "Total params: 1,611,012\n",
      "Trainable params: 1,611,012\n",
      "Non-trainable params: 0\n",
      "_________________________________________________________________\n"
     ]
    }
   ],
   "source": [
    "from keras.models import Sequential\n",
    "from keras.layers import Dense\n",
    "from keras.metrics import MeanSquaredError\n",
    "from keras.losses import MeanSquaredError\n",
    "# Create the model\n",
    "model = Sequential()\n",
    "\n",
    "# Add the input layer and the first hidden layer\n",
    "model.add(Dense(896, input_dim=896, activation='sigmoid'))\n",
    "\n",
    "# Add the second hidden layer\n",
    "model.add(Dense(896, activation='sigmoid'))\n",
    "\n",
    "# Add the output layer\n",
    "model.add(Dense(4, activation='sigmoid'))\n",
    "\n",
    "# Compile the model\n",
    "model.compile(loss=MeanSquaredError() , optimizer='adam')\n",
    "\n",
    "# Print the model summary\n",
    "model.summary()"
   ]
  },
  {
   "cell_type": "code",
   "execution_count": 15,
   "id": "018417f1",
   "metadata": {},
   "outputs": [
    {
     "name": "stdout",
     "output_type": "stream",
     "text": [
      "Epoch 1/10\n",
      "3919/3919 [==============================] - 39s 10ms/step - loss: 0.0724\n",
      "Epoch 2/10\n",
      "3919/3919 [==============================] - 36s 9ms/step - loss: 0.0671\n",
      "Epoch 3/10\n",
      "3919/3919 [==============================] - 36s 9ms/step - loss: 0.0636\n",
      "Epoch 4/10\n",
      "3919/3919 [==============================] - 35s 9ms/step - loss: 0.0645\n",
      "Epoch 5/10\n",
      "3919/3919 [==============================] - 38s 10ms/step - loss: 0.0613\n",
      "Epoch 6/10\n",
      "3919/3919 [==============================] - 38s 10ms/step - loss: 0.0601\n",
      "Epoch 7/10\n",
      "3919/3919 [==============================] - 38s 10ms/step - loss: 0.0594\n",
      "Epoch 8/10\n",
      "3919/3919 [==============================] - 39s 10ms/step - loss: 0.0615\n",
      "Epoch 9/10\n",
      "3919/3919 [==============================] - 38s 10ms/step - loss: 0.0604\n",
      "Epoch 10/10\n",
      "3919/3919 [==============================] - 39s 10ms/step - loss: 0.0586\n"
     ]
    },
    {
     "data": {
      "text/plain": [
       "<keras.callbacks.History at 0x19ea30ddb80>"
      ]
     },
     "execution_count": 15,
     "metadata": {},
     "output_type": "execute_result"
    }
   ],
   "source": [
    "model.fit(X_train.to_numpy(), y_train.to_numpy(), epochs=10)"
   ]
  },
  {
   "cell_type": "code",
   "execution_count": 16,
   "id": "bae89238",
   "metadata": {},
   "outputs": [],
   "source": [
    "f = model(X_test.to_numpy())"
   ]
  },
  {
   "cell_type": "code",
   "execution_count": 17,
   "id": "c5b403aa",
   "metadata": {},
   "outputs": [
    {
     "name": "stdout",
     "output_type": "stream",
     "text": [
      "Mean squared error for cache size 1024\t: 0.05517712466736137\n",
      "Mean squared error for cache size 2048\t: 0.061540295183689364\n",
      "Mean squared error for cache size 4096\t: 0.060909559515391544\n",
      "Mean squared error for cache size 8192\t: 0.05465849192179149\n"
     ]
    }
   ],
   "source": [
    "from sklearn.metrics import mean_squared_error\n",
    "# Compare columns\n",
    "for i,j in enumerate(['1024','2048','4096','8192']):\n",
    "    model_out = f.numpy()[:,i]\n",
    "    y_out = y_test.to_numpy()[:,i]\n",
    "    print(f'Mean squared error for cache size {j}\\t: {mean_squared_error(model_out, y_out)}')"
   ]
  },
  {
   "cell_type": "code",
   "execution_count": 18,
   "id": "d933ee12",
   "metadata": {},
   "outputs": [
    {
     "name": "stdout",
     "output_type": "stream",
     "text": [
      "           0      1      2      3      4      5      6      7     8     9  \\\n",
      "0       5648   1600    752    656    608    336    320    208   320   288   \n",
      "1       5120   1472    976    560    528    336    272    272   240   432   \n",
      "2       9184   2048   1104   1040    800    496    400    544   384   416   \n",
      "3      15024   3520   1584   1744   1200    672    752    784   704   608   \n",
      "4      12976   3072   1440   1440    912    464    560    624   448   544   \n",
      "...      ...    ...    ...    ...    ...    ...    ...    ...   ...   ...   \n",
      "2242  184576  66640  35056  28272  20944  23552  16976  13216  8832  6448   \n",
      "2243  186304  65232  35600  28096  19408  21680  17824  14496  8416  6368   \n",
      "2244  184192  66160  33264  27136  20144  22800  16416  13152  7712  6256   \n",
      "2245  186352  66448  35088  28672  20768  22592  17120  14608  8720  6448   \n",
      "2246  188240  63200  32016  27152  18912  20800  15872  13216  7088  5520   \n",
      "\n",
      "      ...  3623878656  3690987520  3758096384  3825205248  3892314112  \\\n",
      "0     ...           0           0           0           0           0   \n",
      "1     ...           0           0           0           0           0   \n",
      "2     ...           0           0           0           0           0   \n",
      "3     ...           0           0           0           0           0   \n",
      "4     ...           0           0           0           0           0   \n",
      "...   ...         ...         ...         ...         ...         ...   \n",
      "2242  ...           0           0           0           0           0   \n",
      "2243  ...           0           0           0           0           0   \n",
      "2244  ...           0           0           0           0           0   \n",
      "2245  ...           0           0           0           0           0   \n",
      "2246  ...           0           0           0           0           0   \n",
      "\n",
      "      3959422976  4026531840  4093640704  4160749568  4227858432  \n",
      "0              0           0           0           0           0  \n",
      "1              0           0           0           0           0  \n",
      "2              0           0           0           0           0  \n",
      "3              0           0           0           0           0  \n",
      "4              0           0           0           0           0  \n",
      "...          ...         ...         ...         ...         ...  \n",
      "2242           0           0           0           0           0  \n",
      "2243           0           0           0           0           0  \n",
      "2244           0           0           0           0           0  \n",
      "2245           0           0           0           0           0  \n",
      "2246           0           0           0           0           0  \n",
      "\n",
      "[2247 rows x 896 columns]\n"
     ]
    }
   ],
   "source": [
    "print(test_distances)"
   ]
  },
  {
   "cell_type": "code",
   "execution_count": 19,
   "id": "db367ea7",
   "metadata": {},
   "outputs": [],
   "source": [
    "f = model(test_distances.to_numpy())"
   ]
  },
  {
   "cell_type": "code",
   "execution_count": 20,
   "id": "167089a5",
   "metadata": {},
   "outputs": [
    {
     "name": "stdout",
     "output_type": "stream",
     "text": [
      "tf.Tensor(\n",
      "[[0.3471112  0.27875435 0.22926319 0.20406228]\n",
      " [0.2759319  0.20317009 0.18533567 0.18423703]\n",
      " [0.1692524  0.09300341 0.05433223 0.03941225]\n",
      " ...\n",
      " [0.44662878 0.38883492 0.32705888 0.23140106]\n",
      " [0.44662878 0.38883492 0.32705888 0.23140106]\n",
      " [0.4466288  0.38883483 0.32705888 0.23140106]], shape=(2247, 4), dtype=float32)\n"
     ]
    }
   ],
   "source": [
    "print(f)"
   ]
  },
  {
   "cell_type": "code",
   "execution_count": 21,
   "id": "6d764639",
   "metadata": {},
   "outputs": [
    {
     "name": "stdout",
     "output_type": "stream",
     "text": [
      "          1024      2048      4096      8192\n",
      "0     0.046590  0.000969  0.000962  0.000962\n",
      "1     0.047124  0.001620  0.001620  0.001620\n",
      "2     0.049473  0.001464  0.001464  0.001464\n",
      "3     0.049063  0.003882  0.003766  0.003766\n",
      "4     0.051722  0.002382  0.002318  0.002318\n",
      "...        ...       ...       ...       ...\n",
      "2242  0.000000  0.000000  0.000000  0.000000\n",
      "2243  0.000000  0.000000  0.000000  0.000000\n",
      "2244  0.000000  0.000000  0.000000  0.000000\n",
      "2245  0.000000  0.000000  0.000000  0.000000\n",
      "2246  0.000000  0.000000  0.000000  0.000000\n",
      "\n",
      "[2247 rows x 4 columns]\n"
     ]
    }
   ],
   "source": [
    "print(test_misses)"
   ]
  },
  {
   "cell_type": "code",
   "execution_count": 22,
   "id": "3ed9fed6",
   "metadata": {},
   "outputs": [
    {
     "name": "stdout",
     "output_type": "stream",
     "text": [
      "Mean squared error for cache size 1024\t: 0.10148151760593702\n",
      "Mean squared error for cache size 2048\t: 0.10351027023400965\n",
      "Mean squared error for cache size 4096\t: 0.08842017717430908\n",
      "Mean squared error for cache size 8192\t: 0.07278161739104462\n"
     ]
    }
   ],
   "source": [
    "from sklearn.metrics import mean_squared_error\n",
    "# Compare columns\n",
    "for i,j in enumerate(['1024','2048','4096','8192']):\n",
    "    model_out = f.numpy()[:,i]\n",
    "    y_out = test_misses.to_numpy()[:,i]\n",
    "    print(f'Mean squared error for cache size {j}\\t: {mean_squared_error(model_out, y_out)}')"
   ]
  },
  {
   "cell_type": "code",
   "execution_count": null,
   "id": "3545c907",
   "metadata": {},
   "outputs": [],
   "source": []
  }
 ],
 "metadata": {
  "kernelspec": {
   "display_name": "Local-venv",
   "language": "python",
   "name": "local-venv"
  },
  "language_info": {
   "codemirror_mode": {
    "name": "ipython",
    "version": 3
   },
   "file_extension": ".py",
   "mimetype": "text/x-python",
   "name": "python",
   "nbconvert_exporter": "python",
   "pygments_lexer": "ipython3",
   "version": "3.8.8"
  }
 },
 "nbformat": 4,
 "nbformat_minor": 5
}
