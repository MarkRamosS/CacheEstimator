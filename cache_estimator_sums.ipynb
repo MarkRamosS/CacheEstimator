{
 "cells": [
  {
   "cell_type": "code",
   "execution_count": 1,
   "id": "3008758f",
   "metadata": {},
   "outputs": [],
   "source": [
    "import os \n",
    "import csv\n",
    "import random\n",
    "import pandas as pd\n",
    "import numpy as np\n",
    "import matplotlib.pyplot as plt"
   ]
  },
  {
   "cell_type": "code",
   "execution_count": 2,
   "id": "4f76ca71",
   "metadata": {},
   "outputs": [],
   "source": [
    "random.seed(42)"
   ]
  },
  {
   "cell_type": "code",
   "execution_count": 3,
   "id": "2024b8c6",
   "metadata": {},
   "outputs": [
    {
     "name": "stdout",
     "output_type": "stream",
     "text": [
      "          1024      2048      4096      8192\n",
      "0     0.890827  0.795337  0.662562  0.123317\n",
      "1     0.866846  0.765354  0.660919  0.077643\n",
      "2     0.848553  0.727294  0.641544  0.262694\n",
      "3     0.617509  0.223128  0.040222  0.001846\n",
      "4     0.588169  0.200199  0.032464  0.001848\n",
      "...        ...       ...       ...       ...\n",
      "6186  0.785621  0.600917  0.436724  0.297468\n",
      "6187  0.739754  0.549444  0.413295  0.301718\n",
      "6188  0.934745  0.882877  0.810774  0.632815\n",
      "6189  0.949653  0.904684  0.823035  0.558143\n",
      "6190  0.998407  0.998407  0.998407  0.998407\n",
      "\n",
      "[6191 rows x 4 columns]\n",
      "                         id         0         1         2        3        4  \\\n",
      "0       400.perlbench-41B_0  50816880  17323312  11868112  7701840  3853504   \n",
      "1     400.perlbench-41B_436  17361520   6023600   4203744  2591488  1828656   \n",
      "2       400.perlbench-50B_0  58283520  17249296  14592592  9466576  7204896   \n",
      "3          401.bzip2-226B_0   3098304   3037808   2698720  2692176  1999568   \n",
      "4         401.bzip2-226B_54   1623056   1618144   1501200  1353728  1014736   \n",
      "...                     ...       ...       ...       ...      ...      ...   \n",
      "6186     657.xz_s-3167B_466   4869744   5968224   3301024  2821488  2218352   \n",
      "6187     657.xz_s-3167B_574   4967104   7056944   3530208  2928336  2367040   \n",
      "6188       657.xz_s-4994B_0  18063488  19199008   9437200  7269680  7833904   \n",
      "6189     657.xz_s-4994B_343  13498912  14343616   6633152  5098416  6450640   \n",
      "6190         657.xz_s-56B_0  26356736  36838224  10074240  2059088  2506384   \n",
      "\n",
      "            5        6        7        8  ...  3623878656  3690987520  \\\n",
      "0     5287776  7547888  4450480  4572784  ...           0           0   \n",
      "1     1847648  2429008  1860832  1582208  ...           0           0   \n",
      "2     5614336  8940048  4846496  5377296  ...           0           0   \n",
      "3     1238496   939408   815232   694672  ...           0           0   \n",
      "4      670656   500784   432384   374944  ...           0           0   \n",
      "...       ...      ...      ...      ...  ...         ...         ...   \n",
      "6186  1938048  1205216  1027344   888272  ...           0           0   \n",
      "6187  2018816  1157072   981616   821872  ...           0           0   \n",
      "6188  3198400  3376912  1776144  1934080  ...           0           0   \n",
      "6189  2275728  2397248  1270496  1381904  ...           0           0   \n",
      "6190  1296016   888016   770032   557968  ...           0           0   \n",
      "\n",
      "      3758096384  3825205248  3892314112  3959422976  4026531840  4093640704  \\\n",
      "0              0           0           0           0           0           0   \n",
      "1              0           0           0           0           0           0   \n",
      "2              0           0           0           0           0           0   \n",
      "3              0           0           0           0           0           0   \n",
      "4              0           0           0           0           0           0   \n",
      "...          ...         ...         ...         ...         ...         ...   \n",
      "6186           0           0           0           0           0           0   \n",
      "6187           0           0           0           0           0           0   \n",
      "6188           0           0           0           0           0           0   \n",
      "6189           0           0           0           0           0           0   \n",
      "6190           0           0           0           0           0           0   \n",
      "\n",
      "      4160749568  4227858432  \n",
      "0              0           0  \n",
      "1              0           0  \n",
      "2              0           0  \n",
      "3              0           0  \n",
      "4              0           0  \n",
      "...          ...         ...  \n",
      "6186           0           0  \n",
      "6187           0           0  \n",
      "6188           0           0  \n",
      "6189           0           0  \n",
      "6190           0           0  \n",
      "\n",
      "[6191 rows x 897 columns]\n"
     ]
    }
   ],
   "source": [
    "path = '../ce_data/output_512/dataset.csv'\n",
    "df = pd.read_csv(path)\n",
    "miss_ratios = pd.DataFrame()\n",
    "for i in [\"1024\",\"2048\",\"4096\",\"8192\"]:\n",
    "    miss_ratios[i] = df['misses_'+i] / df['accesses_'+i]\n",
    "    df = df.drop(columns=['misses_'+i, 'accesses_'+i, 'l1d_accesses_'+i])\n",
    "print(miss_ratios)\n",
    "print(df)"
   ]
  },
  {
   "cell_type": "code",
   "execution_count": 4,
   "id": "514a0d5b",
   "metadata": {},
   "outputs": [
    {
     "name": "stdout",
     "output_type": "stream",
     "text": [
      "189\n"
     ]
    }
   ],
   "source": [
    "filenames = []\n",
    "for i in df[\"id\"]:\n",
    "    nmb = i.split('_')[-1]\n",
    "    filenames.append(i[:-len(nmb)-1])\n",
    "df[\"file_name\"] = filenames\n",
    "filenames = list(set(filenames))\n",
    "print(len(filenames))   # 189"
   ]
  },
  {
   "cell_type": "markdown",
   "id": "49ab17d3",
   "metadata": {},
   "source": [
    "There's a chance that reuse distance histograms within files are similar to each other. This may be due to them being sampled from the same files and therefore generated from the same code, so the histograms will be similar. To avoid this interfering with our process, we'll be moving all the lines that are derived from randomly picked files until they add up to 20% of the dataset. "
   ]
  },
  {
   "cell_type": "code",
   "execution_count": 5,
   "id": "23e2c087",
   "metadata": {},
   "outputs": [
    {
     "name": "stdout",
     "output_type": "stream",
     "text": [
      "The test set consists of 52 files with a total of 1258 rows\n"
     ]
    }
   ],
   "source": [
    "collected_rows = 0\n",
    "files = []\n",
    "while len(df) * 0.2 > collected_rows:\n",
    "    rf = filenames[random.randint(0,188)]\n",
    "    if rf in files: # No duplicates\n",
    "        continue\n",
    "    files.append(rf)\n",
    "    collected_rows += len(df[df[\"file_name\"] == rf])\n",
    "print(f\"The test set consists of {len(files)} files with a total of {collected_rows} rows\")"
   ]
  },
  {
   "cell_type": "code",
   "execution_count": 6,
   "id": "432136f0",
   "metadata": {},
   "outputs": [
    {
     "name": "stdout",
     "output_type": "stream",
     "text": [
      "                         id         0         1         2        3        4  \\\n",
      "0       400.perlbench-41B_0  50816880  17323312  11868112  7701840  3853504   \n",
      "1     400.perlbench-41B_436  17361520   6023600   4203744  2591488  1828656   \n",
      "2       400.perlbench-50B_0  58283520  17249296  14592592  9466576  7204896   \n",
      "3          401.bzip2-226B_0   3098304   3037808   2698720  2692176  1999568   \n",
      "4         401.bzip2-226B_54   1623056   1618144   1501200  1353728  1014736   \n",
      "...                     ...       ...       ...       ...      ...      ...   \n",
      "6184     657.xz_s-3167B_164   5260112   6183536   3447952  2850672  2245888   \n",
      "6185     657.xz_s-3167B_274   8309920  11139248   5694208  4479968  3585760   \n",
      "6186     657.xz_s-3167B_466   4869744   5968224   3301024  2821488  2218352   \n",
      "6187     657.xz_s-3167B_574   4967104   7056944   3530208  2928336  2367040   \n",
      "6190         657.xz_s-56B_0  26356736  36838224  10074240  2059088  2506384   \n",
      "\n",
      "            5        6        7        8  ...  3690987520  3758096384  \\\n",
      "0     5287776  7547888  4450480  4572784  ...           0           0   \n",
      "1     1847648  2429008  1860832  1582208  ...           0           0   \n",
      "2     5614336  8940048  4846496  5377296  ...           0           0   \n",
      "3     1238496   939408   815232   694672  ...           0           0   \n",
      "4      670656   500784   432384   374944  ...           0           0   \n",
      "...       ...      ...      ...      ...  ...         ...         ...   \n",
      "6184  2061888  1289968  1084400   914080  ...           0           0   \n",
      "6185  3184416  1830048  1513952  1329680  ...           0           0   \n",
      "6186  1938048  1205216  1027344   888272  ...           0           0   \n",
      "6187  2018816  1157072   981616   821872  ...           0           0   \n",
      "6190  1296016   888016   770032   557968  ...           0           0   \n",
      "\n",
      "      3825205248  3892314112  3959422976  4026531840  4093640704  4160749568  \\\n",
      "0              0           0           0           0           0           0   \n",
      "1              0           0           0           0           0           0   \n",
      "2              0           0           0           0           0           0   \n",
      "3              0           0           0           0           0           0   \n",
      "4              0           0           0           0           0           0   \n",
      "...          ...         ...         ...         ...         ...         ...   \n",
      "6184           0           0           0           0           0           0   \n",
      "6185           0           0           0           0           0           0   \n",
      "6186           0           0           0           0           0           0   \n",
      "6187           0           0           0           0           0           0   \n",
      "6190           0           0           0           0           0           0   \n",
      "\n",
      "      4227858432          file_name  \n",
      "0              0  400.perlbench-41B  \n",
      "1              0  400.perlbench-41B  \n",
      "2              0  400.perlbench-50B  \n",
      "3              0     401.bzip2-226B  \n",
      "4              0     401.bzip2-226B  \n",
      "...          ...                ...  \n",
      "6184           0     657.xz_s-3167B  \n",
      "6185           0     657.xz_s-3167B  \n",
      "6186           0     657.xz_s-3167B  \n",
      "6187           0     657.xz_s-3167B  \n",
      "6190           0       657.xz_s-56B  \n",
      "\n",
      "[4933 rows x 898 columns]\n"
     ]
    }
   ],
   "source": [
    "train_rds = df[~df[\"file_name\"].isin(files)]\n",
    "train_mrs = miss_ratios[~df[\"file_name\"].isin(files)]\n",
    "test_rds = df[df[\"file_name\"].isin(files)]\n",
    "test_mrs = miss_ratios[df[\"file_name\"].isin(files)]\n",
    "print(train_rds)"
   ]
  },
  {
   "cell_type": "code",
   "execution_count": 7,
   "id": "5363730c",
   "metadata": {},
   "outputs": [],
   "source": [
    "train_rds = train_rds.drop(columns=[\"id\", \"file_name\"])\n",
    "test_rds = test_rds.drop(columns=[\"id\", \"file_name\"])"
   ]
  },
  {
   "cell_type": "code",
   "execution_count": 8,
   "id": "f88e8f8d",
   "metadata": {},
   "outputs": [
    {
     "name": "stdout",
     "output_type": "stream",
     "text": [
      "Model: \"sequential\"\n",
      "_________________________________________________________________\n",
      " Layer (type)                Output Shape              Param #   \n",
      "=================================================================\n",
      " dense (Dense)               (None, 896)               803712    \n",
      "                                                                 \n",
      " dense_1 (Dense)             (None, 896)               803712    \n",
      "                                                                 \n",
      " dense_2 (Dense)             (None, 4)                 3588      \n",
      "                                                                 \n",
      "=================================================================\n",
      "Total params: 1,611,012\n",
      "Trainable params: 1,611,012\n",
      "Non-trainable params: 0\n",
      "_________________________________________________________________\n"
     ]
    }
   ],
   "source": [
    "from keras.models import Sequential\n",
    "from keras.layers import Dense\n",
    "from keras.metrics import MeanSquaredError\n",
    "from keras.losses import MeanSquaredError\n",
    "# Create the model\n",
    "model = Sequential()\n",
    "\n",
    "# Add the input layer and the first hidden layer\n",
    "model.add(Dense(896, input_dim=896, activation='sigmoid'))\n",
    "\n",
    "# Add the second hidden layer\n",
    "model.add(Dense(896, activation='sigmoid'))\n",
    "\n",
    "# Add the output layer\n",
    "model.add(Dense(4, activation='sigmoid'))\n",
    "\n",
    "# Compile the model\n",
    "model.compile(loss=MeanSquaredError() , optimizer='adam')\n",
    "\n",
    "# Print the model summary\n",
    "model.summary()"
   ]
  },
  {
   "cell_type": "code",
   "execution_count": 9,
   "id": "2fcd7fe7",
   "metadata": {},
   "outputs": [
    {
     "name": "stdout",
     "output_type": "stream",
     "text": [
      "Epoch 1/10\n",
      "155/155 [==============================] - 2s 8ms/step - loss: 0.0535\n",
      "Epoch 2/10\n",
      "155/155 [==============================] - 1s 8ms/step - loss: 0.0379\n",
      "Epoch 3/10\n",
      "155/155 [==============================] - 1s 8ms/step - loss: 0.0334\n",
      "Epoch 4/10\n",
      "155/155 [==============================] - 1s 8ms/step - loss: 0.0298\n",
      "Epoch 5/10\n",
      "155/155 [==============================] - 1s 8ms/step - loss: 0.0271\n",
      "Epoch 6/10\n",
      "155/155 [==============================] - 1s 8ms/step - loss: 0.0271\n",
      "Epoch 7/10\n",
      "155/155 [==============================] - 1s 8ms/step - loss: 0.0251\n",
      "Epoch 8/10\n",
      "155/155 [==============================] - 1s 8ms/step - loss: 0.0242\n",
      "Epoch 9/10\n",
      "155/155 [==============================] - 1s 8ms/step - loss: 0.0206\n",
      "Epoch 10/10\n",
      "155/155 [==============================] - 1s 8ms/step - loss: 0.0143\n"
     ]
    },
    {
     "data": {
      "text/plain": [
       "<keras.callbacks.History at 0x27a1c953d00>"
      ]
     },
     "execution_count": 9,
     "metadata": {},
     "output_type": "execute_result"
    }
   ],
   "source": [
    "model.fit(train_rds.to_numpy(), train_mrs.to_numpy(), epochs=10)"
   ]
  },
  {
   "cell_type": "code",
   "execution_count": 10,
   "id": "a14c46b0",
   "metadata": {},
   "outputs": [],
   "source": [
    "#from sklearn.metrics import mean_squared_error, mean_absolute_error\n",
    "# Compare columns\n",
    "#for i,j in enumerate(['1024','2048','4096','8192']):\n",
    " #   model_out = f.numpy()[:,i]\n",
    "  #  y_out = y_test.to_numpy()[:,i]\n",
    "   # print(f'Mean squared error for cache size {j}\\t: {mean_squared_error(model_out, y_out)}')"
   ]
  },
  {
   "cell_type": "code",
   "execution_count": 11,
   "id": "890b379d",
   "metadata": {},
   "outputs": [
    {
     "name": "stdout",
     "output_type": "stream",
     "text": [
      "Mean squared error for cache size 1024\t: 0.011784924929154065\n",
      "Mean squared error for cache size 2048\t: 0.029948703831710406\n",
      "Mean squared error for cache size 4096\t: 0.03848118389036915\n",
      "Mean squared error for cache size 8192\t: 0.03892120673627349\n"
     ]
    }
   ],
   "source": [
    "from sklearn.metrics import mean_squared_error, mean_absolute_error\n",
    "f = model(test_rds.to_numpy())\n",
    "# Compare columns\n",
    "for i,j in enumerate(['1024','2048','4096','8192']):\n",
    "    model_out = f.numpy()[:,i]\n",
    "    y_out = test_mrs.to_numpy()[:,i]\n",
    "    print(f'Mean squared error for cache size {j}\\t: {mean_squared_error(model_out, y_out)}')"
   ]
  },
  {
   "cell_type": "code",
   "execution_count": null,
   "id": "2110edab",
   "metadata": {},
   "outputs": [],
   "source": []
  }
 ],
 "metadata": {
  "kernelspec": {
   "display_name": "Python 3",
   "language": "python",
   "name": "python3"
  },
  "language_info": {
   "codemirror_mode": {
    "name": "ipython",
    "version": 3
   },
   "file_extension": ".py",
   "mimetype": "text/x-python",
   "name": "python",
   "nbconvert_exporter": "python",
   "pygments_lexer": "ipython3",
   "version": "3.8.8"
  }
 },
 "nbformat": 4,
 "nbformat_minor": 5
}
