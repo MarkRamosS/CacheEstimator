{
 "cells": [
  {
   "cell_type": "code",
   "execution_count": 1,
   "id": "3008758f",
   "metadata": {},
   "outputs": [],
   "source": [
    "import os \n",
    "import csv\n",
    "import random\n",
    "import pandas as pd\n",
    "import numpy as np\n",
    "import matplotlib.pyplot as plt"
   ]
  },
  {
   "cell_type": "code",
   "execution_count": 10,
   "id": "2024b8c6",
   "metadata": {},
   "outputs": [
    {
     "name": "stdout",
     "output_type": "stream",
     "text": [
      "          1024      2048      4096      8192\n",
      "0     0.890827  0.795337  0.662562  0.123317\n",
      "1     0.866846  0.765354  0.660919  0.077643\n",
      "2     0.848553  0.727294  0.641544  0.262694\n",
      "3     0.617509  0.223128  0.040222  0.001846\n",
      "4     0.588169  0.200199  0.032464  0.001848\n",
      "...        ...       ...       ...       ...\n",
      "6186  0.785621  0.600917  0.436724  0.297468\n",
      "6187  0.739754  0.549444  0.413295  0.301718\n",
      "6188  0.934745  0.882877  0.810774  0.632815\n",
      "6189  0.949653  0.904684  0.823035  0.558143\n",
      "6190  0.998407  0.998407  0.998407  0.998407\n",
      "\n",
      "[6191 rows x 4 columns]\n",
      "             0         1         2        3        4        5        6  \\\n",
      "0     50816880  17323312  11868112  7701840  3853504  5287776  7547888   \n",
      "1     17361520   6023600   4203744  2591488  1828656  1847648  2429008   \n",
      "2     58283520  17249296  14592592  9466576  7204896  5614336  8940048   \n",
      "3      3098304   3037808   2698720  2692176  1999568  1238496   939408   \n",
      "4      1623056   1618144   1501200  1353728  1014736   670656   500784   \n",
      "...        ...       ...       ...      ...      ...      ...      ...   \n",
      "6186   4869744   5968224   3301024  2821488  2218352  1938048  1205216   \n",
      "6187   4967104   7056944   3530208  2928336  2367040  2018816  1157072   \n",
      "6188  18063488  19199008   9437200  7269680  7833904  3198400  3376912   \n",
      "6189  13498912  14343616   6633152  5098416  6450640  2275728  2397248   \n",
      "6190  26356736  36838224  10074240  2059088  2506384  1296016   888016   \n",
      "\n",
      "            7        8        9  ...  3623878656  3690987520  3758096384  \\\n",
      "0     4450480  4572784  4012032  ...           0           0           0   \n",
      "1     1860832  1582208  1378080  ...           0           0           0   \n",
      "2     4846496  5377296  3936432  ...           0           0           0   \n",
      "3      815232   694672   587600  ...           0           0           0   \n",
      "4      432384   374944   305328  ...           0           0           0   \n",
      "...       ...      ...      ...  ...         ...         ...         ...   \n",
      "6186  1027344   888272   643616  ...           0           0           0   \n",
      "6187   981616   821872   608576  ...           0           0           0   \n",
      "6188  1776144  1934080  1485120  ...           0           0           0   \n",
      "6189  1270496  1381904  1165088  ...           0           0           0   \n",
      "6190   770032   557968        0  ...           0           0           0   \n",
      "\n",
      "      3825205248  3892314112  3959422976  4026531840  4093640704  4160749568  \\\n",
      "0              0           0           0           0           0           0   \n",
      "1              0           0           0           0           0           0   \n",
      "2              0           0           0           0           0           0   \n",
      "3              0           0           0           0           0           0   \n",
      "4              0           0           0           0           0           0   \n",
      "...          ...         ...         ...         ...         ...         ...   \n",
      "6186           0           0           0           0           0           0   \n",
      "6187           0           0           0           0           0           0   \n",
      "6188           0           0           0           0           0           0   \n",
      "6189           0           0           0           0           0           0   \n",
      "6190           0           0           0           0           0           0   \n",
      "\n",
      "      4227858432  \n",
      "0              0  \n",
      "1              0  \n",
      "2              0  \n",
      "3              0  \n",
      "4              0  \n",
      "...          ...  \n",
      "6186           0  \n",
      "6187           0  \n",
      "6188           0  \n",
      "6189           0  \n",
      "6190           0  \n",
      "\n",
      "[6191 rows x 896 columns]\n"
     ]
    }
   ],
   "source": [
    "path = '../ce_data/output_512/dataset.csv'\n",
    "df = pd.read_csv(path)\n",
    "miss_ratios = pd.DataFrame()\n",
    "for i in [\"1024\",\"2048\",\"4096\",\"8192\"]:\n",
    "    miss_ratios[i] = df['misses_'+i] / df['accesses_'+i]\n",
    "    df = df.drop(columns=['misses_'+i, 'accesses_'+i, 'l1d_accesses_'+i])\n",
    "df = df.drop(columns=[\"id\"])\n",
    "print(miss_ratios)\n",
    "print(df)"
   ]
  },
  {
   "cell_type": "code",
   "execution_count": 13,
   "id": "9fe89b33",
   "metadata": {},
   "outputs": [],
   "source": [
    "from sklearn.model_selection import train_test_split\n",
    "X_train, X_test, y_train, y_test = train_test_split(df,miss_ratios, test_size=0.3)"
   ]
  },
  {
   "cell_type": "code",
   "execution_count": 15,
   "id": "f88e8f8d",
   "metadata": {},
   "outputs": [
    {
     "name": "stdout",
     "output_type": "stream",
     "text": [
      "Model: \"sequential\"\n",
      "_________________________________________________________________\n",
      " Layer (type)                Output Shape              Param #   \n",
      "=================================================================\n",
      " dense (Dense)               (None, 1024)              918528    \n",
      "                                                                 \n",
      " dense_1 (Dense)             (None, 1024)              1049600   \n",
      "                                                                 \n",
      " dense_2 (Dense)             (None, 4)                 4100      \n",
      "                                                                 \n",
      "=================================================================\n",
      "Total params: 1,972,228\n",
      "Trainable params: 1,972,228\n",
      "Non-trainable params: 0\n",
      "_________________________________________________________________\n"
     ]
    }
   ],
   "source": [
    "from keras.models import Sequential\n",
    "from keras.layers import Dense\n",
    "from keras.metrics import MeanSquaredError\n",
    "from keras.losses import MeanSquaredError\n",
    "# Create the model\n",
    "model = Sequential()\n",
    "\n",
    "# Add the input layer and the first hidden layer\n",
    "model.add(Dense(1024, input_dim=896, activation='sigmoid'))\n",
    "\n",
    "# Add the second hidden layer\n",
    "model.add(Dense(1024, activation='sigmoid'))\n",
    "\n",
    "# Add the output layer\n",
    "model.add(Dense(4, activation='sigmoid'))\n",
    "\n",
    "# Compile the model\n",
    "model.compile(loss=MeanSquaredError() , optimizer='adam')\n",
    "\n",
    "# Print the model summary\n",
    "model.summary()"
   ]
  },
  {
   "cell_type": "code",
   "execution_count": 16,
   "id": "2fcd7fe7",
   "metadata": {},
   "outputs": [
    {
     "name": "stdout",
     "output_type": "stream",
     "text": [
      "Epoch 1/10\n",
      "136/136 [==============================] - 2s 11ms/step - loss: 0.0686\n",
      "Epoch 2/10\n",
      "136/136 [==============================] - 2s 11ms/step - loss: 0.0525\n",
      "Epoch 3/10\n",
      "136/136 [==============================] - 1s 11ms/step - loss: 0.0359\n",
      "Epoch 4/10\n",
      "136/136 [==============================] - 2s 11ms/step - loss: 0.0327\n",
      "Epoch 5/10\n",
      "136/136 [==============================] - 2s 11ms/step - loss: 0.0289\n",
      "Epoch 6/10\n",
      "136/136 [==============================] - 2s 11ms/step - loss: 0.0277\n",
      "Epoch 7/10\n",
      "136/136 [==============================] - 2s 11ms/step - loss: 0.0270\n",
      "Epoch 8/10\n",
      "136/136 [==============================] - 2s 11ms/step - loss: 0.0248\n",
      "Epoch 9/10\n",
      "136/136 [==============================] - 2s 11ms/step - loss: 0.0268\n",
      "Epoch 10/10\n",
      "136/136 [==============================] - 2s 11ms/step - loss: 0.0240\n"
     ]
    },
    {
     "data": {
      "text/plain": [
       "<keras.callbacks.History at 0x2711abe4970>"
      ]
     },
     "execution_count": 16,
     "metadata": {},
     "output_type": "execute_result"
    }
   ],
   "source": [
    "model.fit(X_train.to_numpy(), y_train.to_numpy(), epochs=10)"
   ]
  },
  {
   "cell_type": "code",
   "execution_count": 17,
   "id": "2bc72043",
   "metadata": {},
   "outputs": [],
   "source": [
    "f = model(X_test.to_numpy())"
   ]
  },
  {
   "cell_type": "code",
   "execution_count": 18,
   "id": "a14c46b0",
   "metadata": {},
   "outputs": [
    {
     "name": "stdout",
     "output_type": "stream",
     "text": [
      "Mean squared error for cache size 1024\t: 0.035968517155317\n",
      "Mean squared error for cache size 2048\t: 0.028481030381368375\n",
      "Mean squared error for cache size 4096\t: 0.023978277399955557\n",
      "Mean squared error for cache size 8192\t: 0.02555132078879714\n"
     ]
    }
   ],
   "source": [
    "from sklearn.metrics import mean_squared_error, mean_absolute_error\n",
    "# Compare columns\n",
    "for i,j in enumerate(['1024','2048','4096','8192']):\n",
    "    model_out = f.numpy()[:,i]\n",
    "    y_out = y_test.to_numpy()[:,i]\n",
    "    print(f'Mean squared error for cache size {j}\\t: {mean_squared_error(model_out, y_out)}')"
   ]
  },
  {
   "cell_type": "code",
   "execution_count": null,
   "id": "890b379d",
   "metadata": {},
   "outputs": [],
   "source": []
  }
 ],
 "metadata": {
  "kernelspec": {
   "display_name": "Python 3",
   "language": "python",
   "name": "python3"
  },
  "language_info": {
   "codemirror_mode": {
    "name": "ipython",
    "version": 3
   },
   "file_extension": ".py",
   "mimetype": "text/x-python",
   "name": "python",
   "nbconvert_exporter": "python",
   "pygments_lexer": "ipython3",
   "version": "3.8.8"
  }
 },
 "nbformat": 4,
 "nbformat_minor": 5
}
