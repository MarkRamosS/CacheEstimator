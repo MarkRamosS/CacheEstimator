{
 "cells": [
  {
   "cell_type": "code",
   "execution_count": 1,
   "id": "eaac05fc",
   "metadata": {},
   "outputs": [],
   "source": [
    "import os \n",
    "import csv\n",
    "import pandas as pd\n",
    "import numpy as np\n",
    "import matplotlib.pyplot as plt\n",
    "from scipy import stats\n",
    "import json"
   ]
  },
  {
   "cell_type": "code",
   "execution_count": 15,
   "id": "a982c42c",
   "metadata": {},
   "outputs": [
    {
     "name": "stdout",
     "output_type": "stream",
     "text": [
      "        random_32  lru_32  random_64  lru_64  random_128  lru_128  random_256  \\\n",
      "0        0.000000      16   0.000000       0    0.000000        0    0.000000   \n",
      "1        0.000000      32   0.000000       0    0.000000        0    0.000000   \n",
      "2        0.000000       0   0.000000       0    0.000000        0    0.000000   \n",
      "3        0.000619     240   0.000497     240    0.000436      240    0.000436   \n",
      "4        0.001229     416   0.000985     416    0.000924      416    0.000863   \n",
      "...           ...     ...        ...     ...         ...      ...         ...   \n",
      "141556   0.000000       0   0.000000       0    0.000000        0    0.000000   \n",
      "141557   0.000000       0   0.000000       0    0.000000        0    0.000000   \n",
      "141558   0.000000       0   0.000000       0    0.000000        0    0.000000   \n",
      "141559   0.000000       0   0.000000       0    0.000000        0    0.000000   \n",
      "141560   0.000000       0   0.000000       0    0.000000        0    0.000000   \n",
      "\n",
      "        lru_256  random_512  lru_512  random_1024  lru_1024  random_2048  \\\n",
      "0             0    0.000000        0     0.000000         0     0.000000   \n",
      "1             0    0.000000        0     0.000000         0     0.000000   \n",
      "2             0    0.000000        0     0.000000         0     0.000000   \n",
      "3           240    0.000375      240     0.000000       208     0.000000   \n",
      "4           416    0.000863      416     0.000741       416     0.000192   \n",
      "...         ...         ...      ...          ...       ...          ...   \n",
      "141556        0    0.000000        0     0.000000         0     0.000000   \n",
      "141557        0    0.000000        0     0.000000         0     0.000000   \n",
      "141558        0    0.000000        0     0.000000         0     0.000000   \n",
      "141559        0    0.000000        0     0.000000         0     0.000000   \n",
      "141560        0    0.000000        0     0.000000         0     0.000000   \n",
      "\n",
      "        lru_2048  random_4096  lru_4096  random_8192  lru_8192  \\\n",
      "0              0          0.0         0          0.0         0   \n",
      "1              0          0.0         0          0.0         0   \n",
      "2              0          0.0         0          0.0         0   \n",
      "3              0          0.0         0          0.0         0   \n",
      "4            400          0.0         0          0.0         0   \n",
      "...          ...          ...       ...          ...       ...   \n",
      "141556         0          0.0         0          0.0         0   \n",
      "141557         0          0.0         0          0.0         0   \n",
      "141558         0          0.0         0          0.0         0   \n",
      "141559         0          0.0         0          0.0         0   \n",
      "141560         0          0.0         0          0.0         0   \n",
      "\n",
      "        total_accesses                     id  \n",
      "0               506496    400.perlbench-41B_0  \n",
      "1               481664    400.perlbench-41B_1  \n",
      "2               540848   400.perlbench-41B_10  \n",
      "3               580928  400.perlbench-41B_100  \n",
      "4               503792  400.perlbench-41B_101  \n",
      "...                ...                    ...  \n",
      "141556          146624        657.xz_s-56B_95  \n",
      "141557          146720        657.xz_s-56B_96  \n",
      "141558          146640        657.xz_s-56B_97  \n",
      "141559          146672        657.xz_s-56B_98  \n",
      "141560          146624        657.xz_s-56B_99  \n",
      "\n",
      "[141561 rows x 20 columns]\n",
      "        random_32    lru_32  random_64    lru_64  random_128   lru_128  \\\n",
      "0        0.000000  0.000032   0.000000  0.000000    0.000000  0.000000   \n",
      "1        0.000000  0.000066   0.000000  0.000000    0.000000  0.000000   \n",
      "2        0.000000  0.000000   0.000000  0.000000    0.000000  0.000000   \n",
      "3        0.000619  0.000413   0.000497  0.000413    0.000436  0.000413   \n",
      "4        0.001229  0.000826   0.000985  0.000826    0.000924  0.000826   \n",
      "...           ...       ...        ...       ...         ...       ...   \n",
      "141556   0.000000  0.000000   0.000000  0.000000    0.000000  0.000000   \n",
      "141557   0.000000  0.000000   0.000000  0.000000    0.000000  0.000000   \n",
      "141558   0.000000  0.000000   0.000000  0.000000    0.000000  0.000000   \n",
      "141559   0.000000  0.000000   0.000000  0.000000    0.000000  0.000000   \n",
      "141560   0.000000  0.000000   0.000000  0.000000    0.000000  0.000000   \n",
      "\n",
      "        random_256   lru_256  random_512   lru_512  random_1024  lru_1024  \\\n",
      "0         0.000000  0.000000    0.000000  0.000000     0.000000  0.000000   \n",
      "1         0.000000  0.000000    0.000000  0.000000     0.000000  0.000000   \n",
      "2         0.000000  0.000000    0.000000  0.000000     0.000000  0.000000   \n",
      "3         0.000436  0.000413    0.000375  0.000413     0.000000  0.000358   \n",
      "4         0.000863  0.000826    0.000863  0.000826     0.000741  0.000826   \n",
      "...            ...       ...         ...       ...          ...       ...   \n",
      "141556    0.000000  0.000000    0.000000  0.000000     0.000000  0.000000   \n",
      "141557    0.000000  0.000000    0.000000  0.000000     0.000000  0.000000   \n",
      "141558    0.000000  0.000000    0.000000  0.000000     0.000000  0.000000   \n",
      "141559    0.000000  0.000000    0.000000  0.000000     0.000000  0.000000   \n",
      "141560    0.000000  0.000000    0.000000  0.000000     0.000000  0.000000   \n",
      "\n",
      "        random_2048  lru_2048  random_4096  lru_4096  random_8192  lru_8192  \\\n",
      "0          0.000000  0.000000          0.0       0.0          0.0       0.0   \n",
      "1          0.000000  0.000000          0.0       0.0          0.0       0.0   \n",
      "2          0.000000  0.000000          0.0       0.0          0.0       0.0   \n",
      "3          0.000000  0.000000          0.0       0.0          0.0       0.0   \n",
      "4          0.000192  0.000794          0.0       0.0          0.0       0.0   \n",
      "...             ...       ...          ...       ...          ...       ...   \n",
      "141556     0.000000  0.000000          0.0       0.0          0.0       0.0   \n",
      "141557     0.000000  0.000000          0.0       0.0          0.0       0.0   \n",
      "141558     0.000000  0.000000          0.0       0.0          0.0       0.0   \n",
      "141559     0.000000  0.000000          0.0       0.0          0.0       0.0   \n",
      "141560     0.000000  0.000000          0.0       0.0          0.0       0.0   \n",
      "\n",
      "        total_accesses                     id  \n",
      "0               506496    400.perlbench-41B_0  \n",
      "1               481664    400.perlbench-41B_1  \n",
      "2               540848   400.perlbench-41B_10  \n",
      "3               580928  400.perlbench-41B_100  \n",
      "4               503792  400.perlbench-41B_101  \n",
      "...                ...                    ...  \n",
      "141556          146624        657.xz_s-56B_95  \n",
      "141557          146720        657.xz_s-56B_96  \n",
      "141558          146640        657.xz_s-56B_97  \n",
      "141559          146672        657.xz_s-56B_98  \n",
      "141560          146624        657.xz_s-56B_99  \n",
      "\n",
      "[141561 rows x 20 columns]\n"
     ]
    }
   ],
   "source": [
    "o = pd.DataFrame()\n",
    "for file in os.listdir('../ce_data/StatCache'):\n",
    "    x = pd.read_csv(\"../ce_data/StatCache/\"+file)\n",
    "    x['id'] = x.index\n",
    "    x['id'] = x['id'].apply(lambda x: file[:-4] + \"_\" + str(x))\n",
    "    o = pd.concat([x, o], ignore_index=True)\n",
    "o = o.sort_values(\"id\", ascending=True, ignore_index=True).fillna(0)\n",
    "print(o)\n",
    "for i in ['32','64','128','256','512','1024','2048','4096','8192']:\n",
    "    o['lru_'+i] = o['lru_'+i]/o['total_accesses']\n",
    "print(o)"
   ]
  },
  {
   "cell_type": "code",
   "execution_count": 16,
   "id": "8bb8b7e7",
   "metadata": {},
   "outputs": [
    {
     "name": "stdout",
     "output_type": "stream",
     "text": [
      "3.158958807177154e-05\n"
     ]
    }
   ],
   "source": [
    "print(o['lru_32'][0])"
   ]
  },
  {
   "cell_type": "code",
   "execution_count": 10,
   "id": "4989c236",
   "metadata": {},
   "outputs": [
    {
     "name": "stdout",
     "output_type": "stream",
     "text": [
      "                           id        32        64       128       256  \\\n",
      "0         400.perlbench-41B_0  1.000000  1.000000  1.000000  0.998652   \n",
      "1         400.perlbench-41B_1  1.000000  1.000000  1.000000  1.000000   \n",
      "2        400.perlbench-41B_10  1.000000  0.997375  0.997375  0.997375   \n",
      "3       400.perlbench-41B_100  0.996656  0.996656  0.996656  0.993311   \n",
      "4       400.perlbench-41B_101  1.000000  1.000000  1.000000  1.000000   \n",
      "...                       ...       ...       ...       ...       ...   \n",
      "141556        657.xz_s-56B_95  1.000000  1.000000  1.000000  1.000000   \n",
      "141557        657.xz_s-56B_96  1.000000  1.000000  1.000000  1.000000   \n",
      "141558        657.xz_s-56B_97  1.000000  1.000000  1.000000  1.000000   \n",
      "141559        657.xz_s-56B_98  1.000000  1.000000  1.000000  1.000000   \n",
      "141560        657.xz_s-56B_99  1.000000  1.000000  1.000000  1.000000   \n",
      "\n",
      "             512      1024      2048      4096      8192  \n",
      "0       0.889488  0.828841  0.803235  0.773585  0.768194  \n",
      "1       0.928650  0.875960  0.849616  0.839737  0.837541  \n",
      "2       0.968504  0.866142  0.842520  0.826772  0.821522  \n",
      "3       0.923077  0.872910  0.866221  0.785953  0.060201  \n",
      "4       0.964865  0.878378  0.872973  0.724324  0.051351  \n",
      "...          ...       ...       ...       ...       ...  \n",
      "141556  1.000000  1.000000  1.000000  1.000000  1.000000  \n",
      "141557  1.000000  1.000000  1.000000  1.000000  1.000000  \n",
      "141558  1.000000  1.000000  1.000000  1.000000  1.000000  \n",
      "141559  1.000000  1.000000  1.000000  1.000000  1.000000  \n",
      "141560  1.000000  1.000000  1.000000  1.000000  1.000000  \n",
      "\n",
      "[141561 rows x 10 columns]\n"
     ]
    }
   ],
   "source": [
    "cache_misses = pd.read_csv(\"../ce_data/caches/llc_miss_ratio.csv\")\n",
    "cache_misses = cache_misses.sort_values(\"id\", ignore_index=True)\n",
    "print(cache_misses)"
   ]
  },
  {
   "cell_type": "code",
   "execution_count": 11,
   "id": "47a0edd3",
   "metadata": {},
   "outputs": [],
   "source": [
    "# Little check\n",
    "d = {}\n",
    "for i,j in zip(cache_misses[\"id\"], o[\"id\"]):\n",
    "    if i != j:\n",
    "        print(i)\n",
    "    if i in d: \n",
    "        print(i)\n",
    "    d[i]=1"
   ]
  },
  {
   "cell_type": "code",
   "execution_count": 12,
   "id": "fb279629",
   "metadata": {},
   "outputs": [
    {
     "name": "stdout",
     "output_type": "stream",
     "text": [
      "Cache size 32\t: lru_mse = 15686.843828412379,\t random_mse = 0.7688156845581666\n",
      "Cache size 64\t: lru_mse = 7533.084105267284,\t random_mse = 0.773865207083091\n",
      "Cache size 128\t: lru_mse = 4589.306667769615,\t random_mse = 0.7683378564248594\n",
      "Cache size 256\t: lru_mse = 2293.9706553855126,\t random_mse = 0.746738916300773\n",
      "Cache size 512\t: lru_mse = 0.19365307801926943,\t random_mse = 0.6474104323601267\n",
      "Cache size 1024\t: lru_mse = 0.1867318782536081,\t random_mse = 0.3850742052080373\n",
      "Cache size 2048\t: lru_mse = 0.1918957771407773,\t random_mse = 0.33225249039596066\n",
      "Cache size 4096\t: lru_mse = 0.18917798076323786,\t random_mse = 0.274371042118911\n",
      "Cache size 8192\t: lru_mse = 0.16951024831761782,\t random_mse = 0.22390588890801244\n"
     ]
    }
   ],
   "source": [
    "from sklearn.metrics import mean_squared_error\n",
    "for i in ['32','64','128','256','512','1024','2048','4096','8192']:\n",
    "    c_acc_lru = mean_squared_error((o['lru_'+i] / o['lru_512']).replace(np.inf, 0).fillna(0), cache_misses[i])\n",
    "    c_acc_rand = mean_squared_error(o['random_'+i], cache_misses[i])\n",
    "    print(f'Cache size {i}\\t: lru_mse = {c_acc_lru},\\t random_mse = {c_acc_rand}')"
   ]
  },
  {
   "cell_type": "code",
   "execution_count": null,
   "id": "9ed6ff0b",
   "metadata": {},
   "outputs": [],
   "source": []
  },
  {
   "cell_type": "code",
   "execution_count": 13,
   "id": "48fc7fee",
   "metadata": {},
   "outputs": [
    {
     "name": "stdout",
     "output_type": "stream",
     "text": [
      "                           id   32   64  128  256  512  1024  2048  4096  8192\n",
      "0         400.perlbench-41B_0  742  742  742  742  742   742   742   742   742\n",
      "1         400.perlbench-41B_1  911  911  911  911  911   911   911   911   911\n",
      "2        400.perlbench-41B_10  381  381  381  381  381   381   381   381   381\n",
      "3       400.perlbench-41B_100  299  299  299  299  299   299   299   299   299\n",
      "4       400.perlbench-41B_101  370  370  370  370  370   370   370   370   370\n",
      "...                       ...  ...  ...  ...  ...  ...   ...   ...   ...   ...\n",
      "141556        657.xz_s-56B_95  838  838  838  838  838   838   838   838   838\n",
      "141557        657.xz_s-56B_96  836  836  836  836  836   836   836   836   836\n",
      "141558        657.xz_s-56B_97  836  836  836  836  836   836   836   836   836\n",
      "141559        657.xz_s-56B_98  838  838  838  838  838   838   838   838   838\n",
      "141560        657.xz_s-56B_99  836  836  836  836  836   836   836   836   836\n",
      "\n",
      "[141561 rows x 10 columns]\n"
     ]
    }
   ],
   "source": [
    "accesses_l1d = pd.read_csv(\"../ce_data/caches/l1d_accesses.csv\")\n",
    "accesses_l1d = accesses_l1d.sort_values(\"id\", ignore_index=True)\n",
    "accesses_llc = pd.read_csv(\"../ce_data/caches/llc_accesses.csv\")\n",
    "accesses_llc = accesses_llc.sort_values(\"id\", ignore_index=True)\n",
    "print(accesses_llc)"
   ]
  },
  {
   "cell_type": "code",
   "execution_count": 14,
   "id": "d8e01484",
   "metadata": {},
   "outputs": [
    {
     "name": "stdout",
     "output_type": "stream",
     "text": [
      "Cache size 1024\t: lru_mse = 0.3646853995341936,\t random_mse = 0.3850742052080373\n",
      "Cache size 2048\t: lru_mse = 0.20688329727851754,\t random_mse = 0.33225249039596066\n",
      "Cache size 4096\t: lru_mse = 0.17498801306984907,\t random_mse = 0.274371042118911\n",
      "Cache size 8192\t: lru_mse = 0.15722359927395654,\t random_mse = 0.22390588890801244\n"
     ]
    }
   ],
   "source": [
    "from sklearn.metrics import mean_squared_error\n",
    "for i in ['1024','2048','4096','8192']:\n",
    "    tmp = o['lru_'+i] * accesses_l1d[i]/accesses_llc[i]\n",
    "    c_acc_lru = mean_squared_error(tmp.replace(np.inf, 0).fillna(0) , cache_misses[i])\n",
    "    c_acc_rand = mean_squared_error(o['random_'+i], cache_misses[i])\n",
    "    print(f'Cache size {i}\\t: lru_mse = {c_acc_lru},\\t random_mse = {c_acc_rand}')"
   ]
  },
  {
   "cell_type": "code",
   "execution_count": null,
   "id": "ce2a38d8",
   "metadata": {},
   "outputs": [],
   "source": []
  }
 ],
 "metadata": {
  "kernelspec": {
   "display_name": "Local-venv",
   "language": "python",
   "name": "local-venv"
  },
  "language_info": {
   "codemirror_mode": {
    "name": "ipython",
    "version": 3
   },
   "file_extension": ".py",
   "mimetype": "text/x-python",
   "name": "python",
   "nbconvert_exporter": "python",
   "pygments_lexer": "ipython3",
   "version": "3.8.8"
  }
 },
 "nbformat": 4,
 "nbformat_minor": 5
}
