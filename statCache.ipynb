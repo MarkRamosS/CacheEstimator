{
 "cells": [
  {
   "cell_type": "code",
   "execution_count": 1,
   "id": "eaac05fc",
   "metadata": {},
   "outputs": [],
   "source": [
    "import os \n",
    "import csv\n",
    "import pandas as pd\n",
    "import numpy as np\n",
    "import matplotlib.pyplot as plt\n",
    "from scipy import stats\n",
    "import json"
   ]
  },
  {
   "cell_type": "code",
   "execution_count": 2,
   "id": "a982c42c",
   "metadata": {},
   "outputs": [],
   "source": [
    "o = pd.DataFrame()\n",
    "for file in os.listdir('../ce_data/StatCache'):\n",
    "    if file[-9:] == \"_1024.csv\":\n",
    "        continue\n",
    "    x = pd.read_csv(\"../ce_data/StatCache/\"+file)\n",
    "    x['id'] = x.index\n",
    "    x['id'] = x['id'].apply(lambda x: file[:-4] + \"_\" + str(x))\n",
    "    o = pd.concat([x, o], ignore_index=True)"
   ]
  },
  {
   "cell_type": "code",
   "execution_count": 3,
   "id": "b61ab6c3",
   "metadata": {},
   "outputs": [
    {
     "name": "stdout",
     "output_type": "stream",
     "text": [
      "        random_32    lru_32  random_64    lru_64  random_128   lru_128  \\\n",
      "0        0.000000  0.000032   0.000000  0.000000    0.000000  0.000000   \n",
      "1        0.000000  0.000066   0.000000  0.000000    0.000000  0.000000   \n",
      "2        0.000000  0.000000   0.000000  0.000000    0.000000  0.000000   \n",
      "3        0.000619  0.000413   0.000497  0.000413    0.000436  0.000413   \n",
      "4        0.001229  0.000826   0.000985  0.000826    0.000924  0.000826   \n",
      "...           ...       ...        ...       ...         ...       ...   \n",
      "141556   0.000000  0.000000   0.000000  0.000000    0.000000  0.000000   \n",
      "141557   0.000000  0.000000   0.000000  0.000000    0.000000  0.000000   \n",
      "141558   0.000000  0.000000   0.000000  0.000000    0.000000  0.000000   \n",
      "141559   0.000000  0.000000   0.000000  0.000000    0.000000  0.000000   \n",
      "141560   0.000000  0.000000   0.000000  0.000000    0.000000  0.000000   \n",
      "\n",
      "        random_256   lru_256  random_512   lru_512  random_1024  lru_1024  \\\n",
      "0         0.000000  0.000000    0.000000  0.000000     0.000000  0.000000   \n",
      "1         0.000000  0.000000    0.000000  0.000000     0.000000  0.000000   \n",
      "2         0.000000  0.000000    0.000000  0.000000     0.000000  0.000000   \n",
      "3         0.000436  0.000413    0.000375  0.000413     0.000000  0.000358   \n",
      "4         0.000863  0.000826    0.000863  0.000826     0.000741  0.000826   \n",
      "...            ...       ...         ...       ...          ...       ...   \n",
      "141556    0.000000  0.000000    0.000000  0.000000     0.000000  0.000000   \n",
      "141557    0.000000  0.000000    0.000000  0.000000     0.000000  0.000000   \n",
      "141558    0.000000  0.000000    0.000000  0.000000     0.000000  0.000000   \n",
      "141559    0.000000  0.000000    0.000000  0.000000     0.000000  0.000000   \n",
      "141560    0.000000  0.000000    0.000000  0.000000     0.000000  0.000000   \n",
      "\n",
      "        random_2048  lru_2048  random_4096  lru_4096  random_8192  lru_8192  \\\n",
      "0          0.000000  0.000000          0.0       0.0          0.0       0.0   \n",
      "1          0.000000  0.000000          0.0       0.0          0.0       0.0   \n",
      "2          0.000000  0.000000          0.0       0.0          0.0       0.0   \n",
      "3          0.000000  0.000000          0.0       0.0          0.0       0.0   \n",
      "4          0.000192  0.000794          0.0       0.0          0.0       0.0   \n",
      "...             ...       ...          ...       ...          ...       ...   \n",
      "141556     0.000000  0.000000          0.0       0.0          0.0       0.0   \n",
      "141557     0.000000  0.000000          0.0       0.0          0.0       0.0   \n",
      "141558     0.000000  0.000000          0.0       0.0          0.0       0.0   \n",
      "141559     0.000000  0.000000          0.0       0.0          0.0       0.0   \n",
      "141560     0.000000  0.000000          0.0       0.0          0.0       0.0   \n",
      "\n",
      "                           id  \n",
      "0         400.perlbench-41B_0  \n",
      "1         400.perlbench-41B_1  \n",
      "2        400.perlbench-41B_10  \n",
      "3       400.perlbench-41B_100  \n",
      "4       400.perlbench-41B_101  \n",
      "...                       ...  \n",
      "141556        657.xz_s-56B_95  \n",
      "141557        657.xz_s-56B_96  \n",
      "141558        657.xz_s-56B_97  \n",
      "141559        657.xz_s-56B_98  \n",
      "141560        657.xz_s-56B_99  \n",
      "\n",
      "[141561 rows x 19 columns]\n"
     ]
    }
   ],
   "source": [
    "o = o.sort_values(\"id\", ascending=True, ignore_index=True).fillna(0)\n",
    "print(o)"
   ]
  },
  {
   "cell_type": "code",
   "execution_count": 4,
   "id": "4989c236",
   "metadata": {},
   "outputs": [
    {
     "name": "stdout",
     "output_type": "stream",
     "text": [
      "                           id        32        64       128       256  \\\n",
      "0         400.perlbench-41B_0  0.001166  0.001166  0.001166  0.001166   \n",
      "1         400.perlbench-41B_1  0.001646  0.001646  0.001646  0.001646   \n",
      "2        400.perlbench-41B_10  0.000615  0.000615  0.000615  0.000615   \n",
      "3       400.perlbench-41B_100  0.000460  0.000460  0.000460  0.000460   \n",
      "4       400.perlbench-41B_101  0.000651  0.000651  0.000651  0.000651   \n",
      "...                       ...       ...       ...       ...       ...   \n",
      "141556        657.xz_s-56B_95  0.005655  0.005655  0.005655  0.005655   \n",
      "141557        657.xz_s-56B_96  0.005641  0.005641  0.005641  0.005641   \n",
      "141558        657.xz_s-56B_97  0.005642  0.005642  0.005642  0.005642   \n",
      "141559        657.xz_s-56B_98  0.005654  0.005654  0.005654  0.005654   \n",
      "141560        657.xz_s-56B_99  0.005643  0.005643  0.005643  0.005643   \n",
      "\n",
      "             512      1024      2048      4096      8192  \n",
      "0       0.001166  0.001166  0.001166  0.001166  0.001166  \n",
      "1       0.001646  0.001646  0.001646  0.001646  0.001646  \n",
      "2       0.000615  0.000615  0.000615  0.000615  0.000615  \n",
      "3       0.000460  0.000460  0.000460  0.000460  0.000460  \n",
      "4       0.000651  0.000651  0.000651  0.000651  0.000651  \n",
      "...          ...       ...       ...       ...       ...  \n",
      "141556  0.005655  0.005655  0.005655  0.005655  0.005655  \n",
      "141557  0.005641  0.005641  0.005641  0.005641  0.005641  \n",
      "141558  0.005642  0.005642  0.005642  0.005642  0.005642  \n",
      "141559  0.005654  0.005654  0.005654  0.005654  0.005654  \n",
      "141560  0.005643  0.005643  0.005643  0.005643  0.005643  \n",
      "\n",
      "[141561 rows x 10 columns]\n"
     ]
    }
   ],
   "source": [
    "cache_misses = pd.read_csv(\"../ce_data/caches/l1d_miss_ratio.csv\")\n",
    "cache_misses = cache_misses.sort_values(\"id\", ignore_index=True)\n",
    "print(cache_misses)"
   ]
  },
  {
   "cell_type": "code",
   "execution_count": 5,
   "id": "47a0edd3",
   "metadata": {},
   "outputs": [],
   "source": [
    "# Little check\n",
    "d = {}\n",
    "for i,j in zip(cache_misses[\"id\"], o[\"id\"]):\n",
    "    if i != j:\n",
    "        print(i)\n",
    "    if i in d: \n",
    "        print(i)\n",
    "    d[i]=1"
   ]
  },
  {
   "cell_type": "code",
   "execution_count": 10,
   "id": "fb279629",
   "metadata": {},
   "outputs": [
    {
     "name": "stdout",
     "output_type": "stream",
     "text": [
      "Cache size 32\t: lru_mse = 0.0024882043312740216,\t random_mse = 0.0016050101324917249\n",
      "Cache size 64\t: lru_mse = 0.002524713986174093,\t random_mse = 0.001991658772402294\n",
      "Cache size 128\t: lru_mse = 0.0035536440618514032,\t random_mse = 0.0030425935873959506\n",
      "Cache size 256\t: lru_mse = 0.005979340083852047,\t random_mse = 0.005051016816258382\n",
      "Cache size 512\t: lru_mse = 0.007149724756983798,\t random_mse = 0.006584339653205853\n",
      "Cache size 1024\t: lru_mse = 0.009699934528244436,\t random_mse = 0.008734588728703087\n",
      "Cache size 2048\t: lru_mse = 0.011612674221879685,\t random_mse = 0.010979925669326925\n",
      "Cache size 4096\t: lru_mse = 0.01395110826718134,\t random_mse = 0.013327798435322918\n",
      "Cache size 8192\t: lru_mse = 0.015213932429871386,\t random_mse = 0.0148915202432502\n"
     ]
    }
   ],
   "source": [
    "from sklearn.metrics import mean_squared_error\n",
    "for i in ['32','64','128','256','512','1024','2048','4096','8192']:\n",
    "    c_acc_lru = mean_squared_error(o['lru_'+i], cache_misses[i])\n",
    "    c_acc_rand = mean_squared_error(o['random_'+i], cache_misses[i])\n",
    "    print(f'Cache size {i}\\t: lru_mse = {c_acc_lru},\\t random_mse = {c_acc_rand}')"
   ]
  },
  {
   "cell_type": "code",
   "execution_count": null,
   "id": "d8e01484",
   "metadata": {},
   "outputs": [],
   "source": []
  }
 ],
 "metadata": {
  "kernelspec": {
   "display_name": "Local-venv",
   "language": "python",
   "name": "local-venv"
  },
  "language_info": {
   "codemirror_mode": {
    "name": "ipython",
    "version": 3
   },
   "file_extension": ".py",
   "mimetype": "text/x-python",
   "name": "python",
   "nbconvert_exporter": "python",
   "pygments_lexer": "ipython3",
   "version": "3.8.8"
  }
 },
 "nbformat": 4,
 "nbformat_minor": 5
}
