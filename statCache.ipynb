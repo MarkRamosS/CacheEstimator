{
 "cells": [
  {
   "cell_type": "code",
   "execution_count": 2,
   "id": "eaac05fc",
   "metadata": {},
   "outputs": [],
   "source": [
    "import os \n",
    "import csv\n",
    "import pandas as pd\n",
    "import numpy as np\n",
    "import matplotlib.pyplot as plt\n",
    "from scipy import stats\n",
    "import json"
   ]
  },
  {
   "cell_type": "code",
   "execution_count": 21,
   "id": "a982c42c",
   "metadata": {},
   "outputs": [
    {
     "name": "stdout",
     "output_type": "stream",
     "text": [
      "                         id  random_32    lru_32  random_64    lru_64  \\\n",
      "0       400.perlbench-41B_0   0.003548  0.002540   0.002449  0.001801   \n",
      "1     400.perlbench-41B_418   0.017888  0.012395   0.011786  0.008318   \n",
      "2     400.perlbench-41B_535   0.017095  0.012190   0.011420  0.008070   \n",
      "3       400.perlbench-50B_0   0.003792  0.002388   0.002205  0.001442   \n",
      "4     400.perlbench-50B_493   0.009406  0.006427   0.006294  0.004476   \n",
      "...                     ...        ...       ...        ...       ...   \n",
      "7291       657.xz_s-4994B_0   0.008308  0.005719   0.005012  0.003447   \n",
      "7292     657.xz_s-4994B_174   0.010016  0.007303   0.006782  0.004965   \n",
      "7293     657.xz_s-4994B_362   0.009772  0.006924   0.006416  0.004663   \n",
      "7294     657.xz_s-4994B_563   0.009711  0.006295   0.006538  0.004888   \n",
      "7295         657.xz_s-56B_0   0.000000  0.000000   0.000000  0.000000   \n",
      "\n",
      "      random_128   lru_128  random_256   lru_256  random_512   lru_512  \\\n",
      "0       0.001900  0.001545    0.001656  0.001381    0.001473  0.001317   \n",
      "1       0.008613  0.006549    0.006904  0.005618    0.005867  0.005176   \n",
      "2       0.008430  0.006503    0.006904  0.005676    0.005989  0.005356   \n",
      "3       0.001473  0.001088    0.001107  0.000872    0.000924  0.000757   \n",
      "4       0.004646  0.003539    0.003731  0.003119    0.003182  0.002746   \n",
      "...          ...       ...         ...       ...         ...       ...   \n",
      "7291    0.003365  0.002401    0.002510  0.002049    0.001900  0.001739   \n",
      "7292    0.004951  0.003713    0.003914  0.003242    0.003304  0.002909   \n",
      "7293    0.004585  0.003365    0.003609  0.002931    0.002938  0.002585   \n",
      "7294    0.004951  0.003765    0.004097  0.003416    0.003487  0.003186   \n",
      "7295    0.000000  0.000000    0.000000  0.000000    0.000000  0.000000   \n",
      "\n",
      "      random_1024  lru_1024  random_2048  lru_2048  random_4096  lru_4096  \\\n",
      "0        0.001351  0.001298     0.001168  0.001282     0.000375  0.000665   \n",
      "1        0.005256  0.004726     0.004524  0.004528     0.002510  0.004183   \n",
      "2        0.005440  0.004936     0.004707  0.004791     0.002327  0.004542   \n",
      "3        0.000680  0.000709     0.000131  0.000107     0.000000  0.000000   \n",
      "4        0.002816  0.002533     0.002388  0.002427     0.001656  0.001257   \n",
      "...           ...       ...          ...       ...          ...       ...   \n",
      "7291     0.000985  0.000953     0.000000  0.000000     0.000000  0.000000   \n",
      "7292     0.002754  0.002502     0.002022  0.002093     0.000314  0.000830   \n",
      "7293     0.002327  0.002242     0.001351  0.001465     0.000000  0.000000   \n",
      "7294     0.002877  0.002798     0.001778  0.001861     0.000000  0.000000   \n",
      "7295     0.000000  0.000000     0.000000  0.000000     0.000000  0.000000   \n",
      "\n",
      "      random_8192  lru_8192  total_accesses  \n",
      "0        0.000000  0.000000       228287360  \n",
      "1        0.000000  0.000000        70923472  \n",
      "2        0.000000  0.000000        70953856  \n",
      "3        0.000000  0.000000       271840544  \n",
      "4        0.000436  0.000612       119810992  \n",
      "...           ...       ...             ...  \n",
      "7291     0.000000  0.000000        54937808  \n",
      "7292     0.000000  0.000000        58738672  \n",
      "7293     0.000000  0.000000        62639728  \n",
      "7294     0.000000  0.000000        51109376  \n",
      "7295     0.000000  0.000000        92347744  \n",
      "\n",
      "[7296 rows x 20 columns]\n"
     ]
    }
   ],
   "source": [
    "#sc_out = pd.DataFrame()\n",
    "#for file in os.listdir('../ce_data/StatCache'):\n",
    "#    x = pd.read_csv(\"../ce_data/StatCache/\"+file)\n",
    "#    x['id'] = x.index\n",
    "#    x['id'] = x['id'].apply(lambda x: file[:-4] + \"_\" + str(x))\n",
    "#    sc_out = pd.concat([x, sc_out], ignore_index=True)\n",
    "#sc_out = sc_out.sort_values(\"id\", ascending=True, ignore_index=True).fillna(0)\n",
    "sc_out = pd.read_csv('../ce_data/output_512/statcache_512.csv')\n",
    "for i in ['32','64','128','256','512','1024','2048','4096','8192']:\n",
    "    sc_out['lru_'+i] = sc_out['lru_'+i]/sc_out['total_accesses']\n",
    "print(sc_out)"
   ]
  },
  {
   "cell_type": "code",
   "execution_count": 22,
   "id": "4989c236",
   "metadata": {},
   "outputs": [
    {
     "name": "stdout",
     "output_type": "stream",
     "text": [
      "                         id         0         1         2        3        4  \\\n",
      "0       400.perlbench-41B_0  48486896  16534944  11269872  7347024  3587856   \n",
      "1     400.perlbench-41B_418  15126048   5219040   3717200  2277376  1575632   \n",
      "2     400.perlbench-41B_535  15353376   5205904   3685936  2272784  1578496   \n",
      "3       400.perlbench-50B_0  55123232  16123168  13797616  8962624  6739840   \n",
      "4     400.perlbench-50B_493  24602736   7493280   6130544  4009984  3216688   \n",
      "...                     ...       ...       ...       ...      ...      ...   \n",
      "7291       657.xz_s-4994B_0   9235744   9865600   4683024  3626736  4171776   \n",
      "7292     657.xz_s-4994B_174   9843216  10445696   5134928  3935216  4373984   \n",
      "7293     657.xz_s-4994B_362  10674864  11244112   5502048  4232272  4618096   \n",
      "7294     657.xz_s-4994B_563   8198672   8811632   4190272  3216352  3894096   \n",
      "7295         657.xz_s-56B_0  26404208  36893024  10084752  2060848  2511312   \n",
      "\n",
      "            5        6        7        8  ...  accesses_2048  misses_2048  \\\n",
      "0     5019248  7197104  4182576  4332960  ...         524853       353816   \n",
      "1     1625600  2158224  1627760  1410128  ...         539444       351391   \n",
      "2     1630080  2163568  1585200  1383456  ...         533808       363032   \n",
      "3     5246448  8456368  4455280  5006384  ...         527013       325582   \n",
      "4     2492656  3705456  2231936  2370144  ...         527680       323781   \n",
      "...       ...      ...      ...      ...  ...            ...          ...   \n",
      "7291  1624352  1687328   880704   950160  ...         524694       278082   \n",
      "7292  1715392  1831280   977392  1072800  ...         531133       278923   \n",
      "7293  1857808  1979264  1032576  1128656  ...         526692       266200   \n",
      "7294  1397168  1515472   821104   915536  ...         526587       279076   \n",
      "7295  1297024   890224   772176   558336  ...         524688       524688   \n",
      "\n",
      "      accesses_4096  misses_4096  accesses_8192  misses_8192  \\\n",
      "0            524852       294447         524866        57083   \n",
      "1            539454       302037         539468        40030   \n",
      "2            533812       303836         533846        24608   \n",
      "3            527018       287839         527032       128283   \n",
      "4            527682       273569         527694        42990   \n",
      "...             ...          ...            ...          ...   \n",
      "7291         524700       255094         524705       199613   \n",
      "7292         531141       254756         531190       184429   \n",
      "7293         526690       240384         526753       174182   \n",
      "7294         526597       253790         526674       171615   \n",
      "7295         524688       524688         524688       524688   \n",
      "\n",
      "      l1d_accesses_1024  l1d_accesses_2048  l1d_accesses_4096  \\\n",
      "0           228346393.0        228356560.0        228368652.0   \n",
      "1            70956241.0         70961065.0         70968775.0   \n",
      "2            70981965.0         70986766.0         70995934.0   \n",
      "3           271959759.0        271967232.0        271974202.0   \n",
      "4           119836347.0        119844391.0        119854984.0   \n",
      "...                 ...                ...                ...   \n",
      "7291         55116127.0         55124964.0         55141964.0   \n",
      "7292         58863663.0         58873368.0         58892208.0   \n",
      "7293         62752983.0         62765456.0         62786957.0   \n",
      "7294         51234219.0         51241550.0         51262584.0   \n",
      "7295         92910446.0         92910446.0         92910446.0   \n",
      "\n",
      "      l1d_accesses_8192  \n",
      "0           228407632.0  \n",
      "1            71004844.0  \n",
      "2            71033467.0  \n",
      "3           271996817.0  \n",
      "4           119892762.0  \n",
      "...                 ...  \n",
      "7291         55187089.0  \n",
      "7292         58950375.0  \n",
      "7293         62859631.0  \n",
      "7294         51334091.0  \n",
      "7295         92910446.0  \n",
      "\n",
      "[7283 rows x 909 columns]                          id  random_32    lru_32  random_64    lru_64  \\\n",
      "0       400.perlbench-41B_0   0.003548  0.002540   0.002449  0.001801   \n",
      "1     400.perlbench-41B_418   0.017888  0.012395   0.011786  0.008318   \n",
      "2     400.perlbench-41B_535   0.017095  0.012190   0.011420  0.008070   \n",
      "3       400.perlbench-50B_0   0.003792  0.002388   0.002205  0.001442   \n",
      "4     400.perlbench-50B_493   0.009406  0.006427   0.006294  0.004476   \n",
      "...                     ...        ...       ...        ...       ...   \n",
      "7291       657.xz_s-4994B_0   0.008308  0.005719   0.005012  0.003447   \n",
      "7292     657.xz_s-4994B_174   0.010016  0.007303   0.006782  0.004965   \n",
      "7293     657.xz_s-4994B_362   0.009772  0.006924   0.006416  0.004663   \n",
      "7294     657.xz_s-4994B_563   0.009711  0.006295   0.006538  0.004888   \n",
      "7295         657.xz_s-56B_0   0.000000  0.000000   0.000000  0.000000   \n",
      "\n",
      "      random_128   lru_128  random_256   lru_256  random_512   lru_512  \\\n",
      "0       0.001900  0.001545    0.001656  0.001381    0.001473  0.001317   \n",
      "1       0.008613  0.006549    0.006904  0.005618    0.005867  0.005176   \n",
      "2       0.008430  0.006503    0.006904  0.005676    0.005989  0.005356   \n",
      "3       0.001473  0.001088    0.001107  0.000872    0.000924  0.000757   \n",
      "4       0.004646  0.003539    0.003731  0.003119    0.003182  0.002746   \n",
      "...          ...       ...         ...       ...         ...       ...   \n",
      "7291    0.003365  0.002401    0.002510  0.002049    0.001900  0.001739   \n",
      "7292    0.004951  0.003713    0.003914  0.003242    0.003304  0.002909   \n",
      "7293    0.004585  0.003365    0.003609  0.002931    0.002938  0.002585   \n",
      "7294    0.004951  0.003765    0.004097  0.003416    0.003487  0.003186   \n",
      "7295    0.000000  0.000000    0.000000  0.000000    0.000000  0.000000   \n",
      "\n",
      "      random_1024  lru_1024  random_2048  lru_2048  random_4096  lru_4096  \\\n",
      "0        0.001351  0.001298     0.001168  0.001282     0.000375  0.000665   \n",
      "1        0.005256  0.004726     0.004524  0.004528     0.002510  0.004183   \n",
      "2        0.005440  0.004936     0.004707  0.004791     0.002327  0.004542   \n",
      "3        0.000680  0.000709     0.000131  0.000107     0.000000  0.000000   \n",
      "4        0.002816  0.002533     0.002388  0.002427     0.001656  0.001257   \n",
      "...           ...       ...          ...       ...          ...       ...   \n",
      "7291     0.000985  0.000953     0.000000  0.000000     0.000000  0.000000   \n",
      "7292     0.002754  0.002502     0.002022  0.002093     0.000314  0.000830   \n",
      "7293     0.002327  0.002242     0.001351  0.001465     0.000000  0.000000   \n",
      "7294     0.002877  0.002798     0.001778  0.001861     0.000000  0.000000   \n",
      "7295     0.000000  0.000000     0.000000  0.000000     0.000000  0.000000   \n",
      "\n",
      "      random_8192  lru_8192  total_accesses  \n",
      "0        0.000000  0.000000       228287360  \n",
      "1        0.000000  0.000000        70923472  \n",
      "2        0.000000  0.000000        70953856  \n",
      "3        0.000000  0.000000       271840544  \n",
      "4        0.000436  0.000612       119810992  \n",
      "...           ...       ...             ...  \n",
      "7291     0.000000  0.000000        54937808  \n",
      "7292     0.000000  0.000000        58738672  \n",
      "7293     0.000000  0.000000        62639728  \n",
      "7294     0.000000  0.000000        51109376  \n",
      "7295     0.000000  0.000000        92347744  \n",
      "\n",
      "[7283 rows x 20 columns]\n"
     ]
    }
   ],
   "source": [
    "cache_misses = pd.read_csv(\"../ce_data/output_512/dataset.csv\")\n",
    "for i in ['1024', '2048', '4096', '8192']:\n",
    "    cache_misses[i] =  cache_misses['misses_'+i] / cache_misses['accesses_'+i]\n",
    "cache_misses = cache_misses[sc_out['total_accesses'] > 0]\n",
    "sc_out = sc_out[sc_out['total_accesses'] > 0]\n",
    "print(cache_misses, sc_out)"
   ]
  },
  {
   "cell_type": "code",
   "execution_count": 23,
   "id": "47a0edd3",
   "metadata": {},
   "outputs": [],
   "source": [
    "# Little check\n",
    "d = {}\n",
    "for i,j in zip(cache_misses[\"id\"], sc_out[\"id\"]):\n",
    "    if i != j:\n",
    "        print(i)\n",
    "    if i in d: \n",
    "        print(i)\n",
    "    d[i]=1"
   ]
  },
  {
   "cell_type": "code",
   "execution_count": 24,
   "id": "fb279629",
   "metadata": {},
   "outputs": [
    {
     "name": "stdout",
     "output_type": "stream",
     "text": [
      "Cache size 1024\t: lru_mse = 0.08430919565204864\n",
      "Cache size 2048\t: lru_mse = 0.10691087846991122\n",
      "Cache size 4096\t: lru_mse = 0.10579507744422367\n",
      "Cache size 8192\t: lru_mse = 0.0903183406618082\n"
     ]
    }
   ],
   "source": [
    "from sklearn.metrics import mean_squared_error\n",
    "bdf = pd.DataFrame()\n",
    "for i in ['1024', '2048', '4096', '8192']:\n",
    "    tmp = sc_out['lru_'+i] / sc_out['lru_512']\n",
    "    # This drops na\n",
    "    cms = cache_misses[tmp <= 1]\n",
    "    tmp = tmp[tmp <= 1]\n",
    "    c_acc_lru = mean_squared_error(tmp, cms[i])\n",
    "    #c_acc_rand = mean_squared_error(o['random_'+i], cache_misses[i])\n",
    "    print(f'Cache size {i}\\t: lru_mse = {c_acc_lru}')\n",
    "    bdf['sc_'+i] = tmp\n",
    "    bdf['cm_'+i] = cms[i]\n",
    "    bdf['diffs_'+i] = abs(tmp - cms[i])"
   ]
  },
  {
   "cell_type": "code",
   "execution_count": 26,
   "id": "d8e01484",
   "metadata": {},
   "outputs": [
    {
     "name": "stdout",
     "output_type": "stream",
     "text": [
      "Cache size 1024\t: lru_mse = 0.36850779133575845\n",
      "Cache size 2048\t: lru_mse = 0.3263504596548661\n",
      "Cache size 4096\t: lru_mse = 0.25795501366698065\n",
      "Cache size 8192\t: lru_mse = 0.1988591557932595\n"
     ]
    }
   ],
   "source": [
    "from sklearn.metrics import mean_squared_error, mean_absolute_error\n",
    "for i in ['1024','2048','4096','8192']:\n",
    "    tmp = sc_out['lru_'+i] * cache_misses['l1d_accesses_'+i]/cache_misses['accesses_'+i]\n",
    "    c_acc_lru = mean_squared_error(sc_out['lru_'+i], cache_misses[i])\n",
    "    print(f'Cache size {i}\\t: lru_mse = {c_acc_lru}')"
   ]
  },
  {
   "cell_type": "code",
   "execution_count": 42,
   "id": "ce2a38d8",
   "metadata": {},
   "outputs": [
    {
     "data": {
      "image/png": "[encoded data removed]",
      "text/plain": [
       "<Figure size 640x480 with 2 Axes>"
      ]
     },
     "metadata": {},
     "output_type": "display_data"
    },
    {
     "data": {
      "image/png": "[encoded data removed]",
      "text/plain": [
       "<Figure size 640x480 with 2 Axes>"
      ]
     },
     "metadata": {},
     "output_type": "display_data"
    }
   ],
   "source": [
    "heatmap, xedges, yedges = np.histogram2d(bdf['diffs_1024'], bdf['cm_1024'], bins=20)\n",
    "extent = [xedges[0], xedges[-1], yedges[0], yedges[-1]]\n",
    "plt.clf()\n",
    "plt.imshow(heatmap.T, extent=extent, origin='lower')\n",
    "plt.colorbar()\n",
    "plt.title('1024 cache misses')\n",
    "plt.xlabel('Differences')\n",
    "plt.ylabel('Actual cache misses')\n",
    "plt.show()\n",
    "heatmap, xedges, yedges = np.histogram2d(bdf['diffs_1024'],  bdf['sc_1024'], bins=20)\n",
    "extent = [xedges[0], xedges[-1], yedges[0], yedges[-1]]\n",
    "plt.clf()\n",
    "plt.imshow(heatmap.T, extent=extent, origin='lower')\n",
    "plt.colorbar()\n",
    "plt.title('1024 Stat cache')\n",
    "plt.xlabel('Stat cache output')\n",
    "plt.ylabel('Differences')\n",
    "plt.show()"
   ]
  },
  {
   "cell_type": "code",
   "execution_count": null,
   "id": "ebf021c8",
   "metadata": {},
   "outputs": [],
   "source": [
    "for i in ['1024','2048','4096','8192']:\n",
    "    plt.title(i + ' cache misses')\n",
    "    plt.ylabel('Actual cache misses')\n",
    "    plt.xlabel('Differences')\n",
    "    plt.scatter(bdf['diffs_'+i], bdf['cm_'+i], marker='x', linewidths = 0.5)\n",
    "    plt.show()\n",
    "    plt.title(i + ' Stat cache')\n",
    "    plt.ylabel('Stat cache output')\n",
    "    plt.xlabel('Differences')\n",
    "    plt.scatter(bdf['diffs_'+i], bdf['sc_'+i], marker='x', linewidths = 0.5)\n",
    "    plt.show()"
   ]
  },
  {
   "cell_type": "code",
   "execution_count": null,
   "id": "910630e6",
   "metadata": {},
   "outputs": [],
   "source": [
    "for i in ['1024','2048','4096','8192']:\n",
    "    plt.title(f\"Difference histogram of size {i}\")\n",
    "    plt.hist(bdf['diffs_'+i], bins =30)\n",
    "    plt.show()"
   ]
  },
  {
   "cell_type": "code",
   "execution_count": null,
   "id": "a5d7e66f",
   "metadata": {},
   "outputs": [],
   "source": [
    "for i in ['1024','2048','4096','8192']:\n",
    "    c_acc_lru = mean_squared_error(np.random.random(size=len(cache_misses)), cache_misses[i])\n",
    "    c_mae_lru = mean_absolute_error(np.random.random(size=len(cache_misses)), cache_misses[i])\n",
    "    print(f'Cache size {i}\\t: lru_mse = {c_acc_lru}, lru_mae = {c_mae_lru}')"
   ]
  },
  {
   "cell_type": "code",
   "execution_count": null,
   "id": "a3012d40",
   "metadata": {},
   "outputs": [],
   "source": [
    "for i in ['1024','2048','4096','8192']:\n",
    "    c_acc_lru = mean_squared_error([0.5]*len(cache_misses), cache_misses[i])\n",
    "    c_mae_lru = mean_absolute_error([0.5]*len(cache_misses), cache_misses[i])\n",
    "    print(f'Cache size {i}\\t: lru_mse = {c_acc_lru}, lru_mae = {c_mae_lru}')"
   ]
  },
  {
   "cell_type": "code",
   "execution_count": null,
   "id": "c7e20a4a",
   "metadata": {},
   "outputs": [],
   "source": [
    "for i in ['1024','2048','4096','8192']:\n",
    "    c_acc_lru = mean_squared_error(bdf[bdf['sc_'+i] < 0.6]['sc_'+i], bdf[bdf['sc_'+i] < 0.6]['cm_'+i])\n",
    "    c_mae_lru = mean_absolute_error(bdf[bdf['sc_'+i] < 0.6]['sc_'+i], bdf[bdf['sc_'+i] < 0.6]['cm_'+i])\n",
    "    print(f'Cache size {i}\\t: lru_mse = {c_acc_lru}, lru_mae = {c_mae_lru}')"
   ]
  },
  {
   "cell_type": "code",
   "execution_count": null,
   "id": "61365319",
   "metadata": {},
   "outputs": [],
   "source": [
    "plt.scatter(bdf['cm_1024'], bdf['diffs_1024'], marker='x', linewidths = 0.3)\n",
    "plt.show()\n",
    "plt.scatter(bdf['sc_1024'], bdf['diffs_1024'], marker='x', linewidths = 0.3)\n",
    "plt.show()"
   ]
  },
  {
   "cell_type": "code",
   "execution_count": null,
   "id": "45742e57",
   "metadata": {},
   "outputs": [],
   "source": []
  }
 ],
 "metadata": {
  "kernelspec": {
   "display_name": "Local-venv",
   "language": "python",
   "name": "local-venv"
  },
  "language_info": {
   "codemirror_mode": {
    "name": "ipython",
    "version": 3
   },
   "file_extension": ".py",
   "mimetype": "text/x-python",
   "name": "python",
   "nbconvert_exporter": "python",
   "pygments_lexer": "ipython3",
   "version": "3.8.8"
  }
 },
 "nbformat": 4,
 "nbformat_minor": 5
}
