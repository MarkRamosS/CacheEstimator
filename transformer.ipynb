{
 "cells": [
  {
   "cell_type": "code",
   "execution_count": 1,
   "id": "9718253b",
   "metadata": {},
   "outputs": [],
   "source": [
    "import os \n",
    "import csv\n",
    "import random\n",
    "import pandas as pd\n",
    "import numpy as np\n",
    "import matplotlib.pyplot as plt\n",
    "from sklearn.metrics import mean_squared_error\n",
    "from keras.models import Sequential\n",
    "from keras.layers import Dense\n",
    "from keras.metrics import MeanSquaredError\n",
    "from keras.losses import MeanSquaredError"
   ]
  },
  {
   "cell_type": "code",
   "execution_count": 2,
   "id": "a2c95fa1",
   "metadata": {},
   "outputs": [],
   "source": [
    "random.seed(42)\n",
    "path = '../ce_data/output_512/dataset_ship.csv'\n",
    "embedding_path = '../embeddings/fa-16/'"
   ]
  },
  {
   "cell_type": "code",
   "execution_count": 3,
   "id": "bbb534f9",
   "metadata": {},
   "outputs": [
    {
     "name": "stdout",
     "output_type": "stream",
     "text": [
      "47\n",
      "400.perlbench.ll.txt  \t:  (13596, 300)\n",
      "401.bzip2.ll.txt  \t:  (13596, 300)\n",
      "403.gcc.ll.txt  \t:  (13596, 300)\n",
      "410.bwaves.combined.opt.ll.txt  \t:  (13596, 300)\n",
      "416.gamess.combined.opt.ll.txt  \t:  (13596, 300)\n",
      "429.mcf.ll.txt  \t:  (13596, 300)\n",
      "433.milc.ll.txt  \t:  (13596, 300)\n",
      "434.zeusmp.combined.opt.ll.txt  \t:  (13596, 300)\n",
      "435.gromacs.combined.opt.ll.txt  \t:  (13596, 300)\n",
      "436.cactusADM.combined.opt.ll.txt  \t:  (13596, 300)\n",
      "437.leslie3d.combined.opt.ll.txt  \t:  (13596, 300)\n",
      "444.namd.ll.txt  \t:  (13596, 300)\n",
      "445.gobmk.ll.txt  \t:  (13596, 300)\n",
      "447.dealII.ll.txt  \t:  (13596, 300)\n",
      "450.soplex.ll.txt  \t:  (13596, 300)\n",
      "453.povray.ll.txt  \t:  (13596, 300)\n",
      "454.calculix.combined.opt.ll.txt  \t:  (13596, 300)\n",
      "456.hmmer.ll.txt  \t:  (13596, 300)\n",
      "458.sjeng.ll.txt  \t:  (13596, 300)\n",
      "459.GemsFDTD.combined.opt.ll.txt  \t:  (13596, 300)\n",
      "462.libquantum.ll.txt  \t:  (13596, 300)\n",
      "464.h264ref.ll.txt  \t:  (13596, 300)\n",
      "470.lbm.ll.txt  \t:  (13596, 300)\n",
      "471.omnetpp.ll.txt  \t:  (13596, 300)\n",
      "473.astar.ll.txt  \t:  (13596, 300)\n",
      "481.wrf.combined.opt.ll.txt  \t:  (13596, 300)\n",
      "482.sphinx3.ll.txt  \t:  (13596, 300)\n",
      "483.xalancbmk.ll.txt  \t:  (13596, 300)\n",
      "600.perlbench_s.ll.txt  \t:  (13596, 300)\n",
      "602.gcc_s.ll.txt  \t:  (13596, 300)\n",
      "603.bwaves_s.combined.opt.ll.txt  \t:  (13596, 300)\n"
     ]
    },
    {
     "ename": "MemoryError",
     "evalue": "Unable to allocate 2.93 GiB for an array with shape (13596, 300) and data type <U193",
     "output_type": "error",
     "traceback": [
      "\u001b[1;31m---------------------------------------------------------------------------\u001b[0m",
      "\u001b[1;31mMemoryError\u001b[0m                               Traceback (most recent call last)",
      "Cell \u001b[1;32mIn[3], line 15\u001b[0m\n\u001b[0;32m     13\u001b[0m rr \u001b[38;5;241m=\u001b[39m np\u001b[38;5;241m.\u001b[39marray(rr)\n\u001b[0;32m     14\u001b[0m ctr \u001b[38;5;241m+\u001b[39m\u001b[38;5;241m=\u001b[39m rr\u001b[38;5;241m.\u001b[39mshape[\u001b[38;5;241m0\u001b[39m] \u001b[38;5;241m>\u001b[39m \u001b[38;5;241m1000\u001b[39m\n\u001b[1;32m---> 15\u001b[0m rr \u001b[38;5;241m=\u001b[39m \u001b[43mnp\u001b[49m\u001b[38;5;241;43m.\u001b[39;49m\u001b[43mpad\u001b[49m\u001b[43m(\u001b[49m\u001b[43mrr\u001b[49m\u001b[43m,\u001b[49m\u001b[43m \u001b[49m\u001b[43m(\u001b[49m\u001b[43m(\u001b[49m\u001b[38;5;241;43m0\u001b[39;49m\u001b[43m,\u001b[49m\u001b[43m \u001b[49m\u001b[38;5;241;43m13596\u001b[39;49m\u001b[43m \u001b[49m\u001b[38;5;241;43m-\u001b[39;49m\u001b[43m \u001b[49m\u001b[43mrr\u001b[49m\u001b[38;5;241;43m.\u001b[39;49m\u001b[43mshape\u001b[49m\u001b[43m[\u001b[49m\u001b[38;5;241;43m0\u001b[39;49m\u001b[43m]\u001b[49m\u001b[43m)\u001b[49m\u001b[43m,\u001b[49m\u001b[43m \u001b[49m\u001b[43m(\u001b[49m\u001b[38;5;241;43m0\u001b[39;49m\u001b[43m,\u001b[49m\u001b[38;5;241;43m0\u001b[39;49m\u001b[43m)\u001b[49m\u001b[43m)\u001b[49m\u001b[43m)\u001b[49m\n\u001b[0;32m     16\u001b[0m \u001b[38;5;28mprint\u001b[39m(file, \u001b[38;5;124m\"\u001b[39m\u001b[38;5;124m \u001b[39m\u001b[38;5;130;01m\\t\u001b[39;00m\u001b[38;5;124m: \u001b[39m\u001b[38;5;124m\"\u001b[39m, rr\u001b[38;5;241m.\u001b[39mshape)\n\u001b[0;32m     17\u001b[0m fnames\u001b[38;5;241m.\u001b[39mappend(file[:\u001b[38;5;241m3\u001b[39m])\n",
      "File \u001b[1;32m<__array_function__ internals>:5\u001b[0m, in \u001b[0;36mpad\u001b[1;34m(*args, **kwargs)\u001b[0m\n",
      "File \u001b[1;32mC:\\Compilers\\Anaconda3\\lib\\site-packages\\numpy\\lib\\arraypad.py:793\u001b[0m, in \u001b[0;36mpad\u001b[1;34m(array, pad_width, mode, **kwargs)\u001b[0m\n\u001b[0;32m    788\u001b[0m stat_functions \u001b[38;5;241m=\u001b[39m {\u001b[38;5;124m\"\u001b[39m\u001b[38;5;124mmaximum\u001b[39m\u001b[38;5;124m\"\u001b[39m: np\u001b[38;5;241m.\u001b[39mamax, \u001b[38;5;124m\"\u001b[39m\u001b[38;5;124mminimum\u001b[39m\u001b[38;5;124m\"\u001b[39m: np\u001b[38;5;241m.\u001b[39mamin,\n\u001b[0;32m    789\u001b[0m                   \u001b[38;5;124m\"\u001b[39m\u001b[38;5;124mmean\u001b[39m\u001b[38;5;124m\"\u001b[39m: np\u001b[38;5;241m.\u001b[39mmean, \u001b[38;5;124m\"\u001b[39m\u001b[38;5;124mmedian\u001b[39m\u001b[38;5;124m\"\u001b[39m: np\u001b[38;5;241m.\u001b[39mmedian}\n\u001b[0;32m    791\u001b[0m \u001b[38;5;66;03m# Create array with final shape and original values\u001b[39;00m\n\u001b[0;32m    792\u001b[0m \u001b[38;5;66;03m# (padded area is undefined)\u001b[39;00m\n\u001b[1;32m--> 793\u001b[0m padded, original_area_slice \u001b[38;5;241m=\u001b[39m \u001b[43m_pad_simple\u001b[49m\u001b[43m(\u001b[49m\u001b[43marray\u001b[49m\u001b[43m,\u001b[49m\u001b[43m \u001b[49m\u001b[43mpad_width\u001b[49m\u001b[43m)\u001b[49m\n\u001b[0;32m    794\u001b[0m \u001b[38;5;66;03m# And prepare iteration over all dimensions\u001b[39;00m\n\u001b[0;32m    795\u001b[0m \u001b[38;5;66;03m# (zipping may be more readable than using enumerate)\u001b[39;00m\n\u001b[0;32m    796\u001b[0m axes \u001b[38;5;241m=\u001b[39m \u001b[38;5;28mrange\u001b[39m(padded\u001b[38;5;241m.\u001b[39mndim)\n",
      "File \u001b[1;32mC:\\Compilers\\Anaconda3\\lib\\site-packages\\numpy\\lib\\arraypad.py:114\u001b[0m, in \u001b[0;36m_pad_simple\u001b[1;34m(array, pad_width, fill_value)\u001b[0m\n\u001b[0;32m    109\u001b[0m new_shape \u001b[38;5;241m=\u001b[39m \u001b[38;5;28mtuple\u001b[39m(\n\u001b[0;32m    110\u001b[0m     left \u001b[38;5;241m+\u001b[39m size \u001b[38;5;241m+\u001b[39m right\n\u001b[0;32m    111\u001b[0m     \u001b[38;5;28;01mfor\u001b[39;00m size, (left, right) \u001b[38;5;129;01min\u001b[39;00m \u001b[38;5;28mzip\u001b[39m(array\u001b[38;5;241m.\u001b[39mshape, pad_width)\n\u001b[0;32m    112\u001b[0m )\n\u001b[0;32m    113\u001b[0m order \u001b[38;5;241m=\u001b[39m \u001b[38;5;124m'\u001b[39m\u001b[38;5;124mF\u001b[39m\u001b[38;5;124m'\u001b[39m \u001b[38;5;28;01mif\u001b[39;00m array\u001b[38;5;241m.\u001b[39mflags\u001b[38;5;241m.\u001b[39mfnc \u001b[38;5;28;01melse\u001b[39;00m \u001b[38;5;124m'\u001b[39m\u001b[38;5;124mC\u001b[39m\u001b[38;5;124m'\u001b[39m  \u001b[38;5;66;03m# Fortran and not also C-order\u001b[39;00m\n\u001b[1;32m--> 114\u001b[0m padded \u001b[38;5;241m=\u001b[39m \u001b[43mnp\u001b[49m\u001b[38;5;241;43m.\u001b[39;49m\u001b[43mempty\u001b[49m\u001b[43m(\u001b[49m\u001b[43mnew_shape\u001b[49m\u001b[43m,\u001b[49m\u001b[43m \u001b[49m\u001b[43mdtype\u001b[49m\u001b[38;5;241;43m=\u001b[39;49m\u001b[43marray\u001b[49m\u001b[38;5;241;43m.\u001b[39;49m\u001b[43mdtype\u001b[49m\u001b[43m,\u001b[49m\u001b[43m \u001b[49m\u001b[43morder\u001b[49m\u001b[38;5;241;43m=\u001b[39;49m\u001b[43morder\u001b[49m\u001b[43m)\u001b[49m\n\u001b[0;32m    116\u001b[0m \u001b[38;5;28;01mif\u001b[39;00m fill_value \u001b[38;5;129;01mis\u001b[39;00m \u001b[38;5;129;01mnot\u001b[39;00m \u001b[38;5;28;01mNone\u001b[39;00m:\n\u001b[0;32m    117\u001b[0m     padded\u001b[38;5;241m.\u001b[39mfill(fill_value)\n",
      "\u001b[1;31mMemoryError\u001b[0m: Unable to allocate 2.93 GiB for an array with shape (13596, 300) and data type <U193"
     ]
    }
   ],
   "source": [
    "from time import sleep\n",
    "ctr = 0\n",
    "print(len(os.listdir(embedding_path)))\n",
    "fnames = []\n",
    "embeddings = []\n",
    "for file in os.listdir(embedding_path):\n",
    "    with open(embedding_path+file) as f:\n",
    "        rr = []\n",
    "        for line in f.readlines():\n",
    "            name, rest = line.split(\"=\\t\")\n",
    "            numbers = rest.split()\n",
    "            rr.append(numbers)\n",
    "        rr = np.array(rr)\n",
    "        ctr += rr.shape[0] > 1000\n",
    "        rr = np.pad(rr, ((0, 13596 - rr.shape[0]), (0,0)))\n",
    "        print(file, \" \\t: \", rr.shape)\n",
    "        fnames.append(file[:3])\n",
    "        embeddings.append(rr)\n",
    "df = pd.DataFrame(({\n",
    "    'file_names' : fnames,\n",
    "    'embedds' : embeddings\n",
    "}))"
   ]
  },
  {
   "cell_type": "code",
   "execution_count": null,
   "id": "889c2b86",
   "metadata": {},
   "outputs": [],
   "source": [
    "for ll in df['embedds']:\n",
    "    print(ll.shape)"
   ]
  },
  {
   "cell_type": "code",
   "execution_count": null,
   "id": "23fb74be",
   "metadata": {},
   "outputs": [],
   "source": []
  }
 ],
 "metadata": {
  "kernelspec": {
   "display_name": "Python 3",
   "language": "python",
   "name": "python3"
  },
  "language_info": {
   "codemirror_mode": {
    "name": "ipython",
    "version": 3
   },
   "file_extension": ".py",
   "mimetype": "text/x-python",
   "name": "python",
   "nbconvert_exporter": "python",
   "pygments_lexer": "ipython3",
   "version": "3.8.8"
  }
 },
 "nbformat": 4,
 "nbformat_minor": 5
}
